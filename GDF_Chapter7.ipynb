{
  "nbformat": 4,
  "nbformat_minor": 0,
  "metadata": {
    "colab": {
      "name": "GDF_Chapter7.ipynb",
      "provenance": [],
      "authorship_tag": "ABX9TyPG835NL3WHMxqHUTEm6HZf",
      "include_colab_link": true
    },
    "kernelspec": {
      "name": "python3",
      "display_name": "Python 3"
    },
    "language_info": {
      "name": "python"
    }
  },
  "cells": [
    {
      "cell_type": "markdown",
      "metadata": {
        "id": "view-in-github",
        "colab_type": "text"
      },
      "source": [
        "<a href=\"https://colab.research.google.com/github/datamongerbonny/Python-for-geospatial-analysis/blob/main/GDF_Chapter7.ipynb\" target=\"_parent\"><img src=\"https://colab.research.google.com/assets/colab-badge.svg\" alt=\"Open In Colab\"/></a>"
      ]
    },
    {
      "cell_type": "code",
      "source": [
        "!pip install geospatial"
      ],
      "metadata": {
        "colab": {
          "base_uri": "https://localhost:8080/",
          "height": 1000
        },
        "id": "NFVdZxx9ZvQF",
        "outputId": "e8c36cc6-e09f-4482-81e2-3a5d18b298a9"
      },
      "execution_count": null,
      "outputs": [
        {
          "output_type": "stream",
          "name": "stdout",
          "text": [
            "Looking in indexes: https://pypi.org/simple, https://us-python.pkg.dev/colab-wheels/public/simple/\n",
            "Requirement already satisfied: geospatial in /usr/local/lib/python3.7/dist-packages (0.6.0)\n",
            "Requirement already satisfied: satpy in /usr/local/lib/python3.7/dist-packages (from geospatial) (0.36.0)\n",
            "Requirement already satisfied: osmnx in /usr/local/lib/python3.7/dist-packages (from geospatial) (1.1.2)\n",
            "Requirement already satisfied: pyvista in /usr/local/lib/python3.7/dist-packages (from geospatial) (0.34.1)\n",
            "Requirement already satisfied: s2cloudless in /usr/local/lib/python3.7/dist-packages (from geospatial) (1.6.0)\n",
            "Requirement already satisfied: plotly in /usr/local/lib/python3.7/dist-packages (from geospatial) (5.5.0)\n",
            "Requirement already satisfied: psycopg2 in /usr/local/lib/python3.7/dist-packages (from geospatial) (2.7.6.1)\n",
            "Requirement already satisfied: contextily in /usr/local/lib/python3.7/dist-packages (from geospatial) (1.2.0)\n",
            "Requirement already satisfied: sarpy in /usr/local/lib/python3.7/dist-packages (from geospatial) (1.3.2)\n",
            "Requirement already satisfied: cenpy in /usr/local/lib/python3.7/dist-packages (from geospatial) (1.0.0.post4)\n",
            "Requirement already satisfied: ipyleaflet in /usr/local/lib/python3.7/dist-packages (from geospatial) (0.16.0)\n",
            "Requirement already satisfied: streamlit-folium in /usr/local/lib/python3.7/dist-packages (from geospatial) (0.6.13)\n",
            "Requirement already satisfied: earthengine-api in /usr/local/lib/python3.7/dist-packages (from geospatial) (0.1.312)\n",
            "Requirement already satisfied: laspy in /usr/local/lib/python3.7/dist-packages (from geospatial) (2.1.2)\n",
            "Requirement already satisfied: shapely in /usr/local/lib/python3.7/dist-packages (from geospatial) (1.8.2)\n",
            "Requirement already satisfied: ipyvtklink in /usr/local/lib/python3.7/dist-packages (from geospatial) (0.2.2)\n",
            "Requirement already satisfied: mss in /usr/local/lib/python3.7/dist-packages (from geospatial) (6.1.0)\n",
            "Requirement already satisfied: odc-stac in /usr/local/lib/python3.7/dist-packages (from geospatial) (0.2.4)\n",
            "Requirement already satisfied: earthpy in /usr/local/lib/python3.7/dist-packages (from geospatial) (0.9.4)\n",
            "Requirement already satisfied: planetary-computer in /usr/local/lib/python3.7/dist-packages (from geospatial) (0.4.6)\n",
            "Requirement already satisfied: proplot in /usr/local/lib/python3.7/dist-packages (from geospatial) (0.9.5)\n",
            "Requirement already satisfied: sqlalchemy in /usr/local/lib/python3.7/dist-packages (from geospatial) (1.4.37)\n",
            "Requirement already satisfied: geoalchemy2 in /usr/local/lib/python3.7/dist-packages (from geospatial) (0.12.1)\n",
            "Requirement already satisfied: geemap>=0.13.7 in /usr/local/lib/python3.7/dist-packages (from geospatial) (0.13.10)\n",
            "Requirement already satisfied: geocube in /usr/local/lib/python3.7/dist-packages (from geospatial) (0.1.0)\n",
            "Requirement already satisfied: owslib in /usr/local/lib/python3.7/dist-packages (from geospatial) (0.26.0)\n",
            "Requirement already satisfied: leafmap>=0.9.3 in /usr/local/lib/python3.7/dist-packages (from geospatial) (0.9.4)\n",
            "Requirement already satisfied: palettable in /usr/local/lib/python3.7/dist-packages (from geospatial) (3.3.0)\n",
            "Requirement already satisfied: keplergl in /usr/local/lib/python3.7/dist-packages (from geospatial) (0.3.2)\n",
            "Requirement already satisfied: scholarpy in /usr/local/lib/python3.7/dist-packages (from geospatial) (0.1.0)\n",
            "Requirement already satisfied: spyndex in /usr/local/lib/python3.7/dist-packages (from geospatial) (0.1.0)\n",
            "Requirement already satisfied: pydeck in /usr/local/lib/python3.7/dist-packages (from geospatial) (0.7.1)\n",
            "Requirement already satisfied: folium>=0.12.1 in /usr/local/lib/python3.7/dist-packages (from geospatial) (0.12.1.post1)\n",
            "Requirement already satisfied: h3 in /usr/local/lib/python3.7/dist-packages (from geospatial) (3.7.4)\n",
            "Requirement already satisfied: radiant-mlhub in /usr/local/lib/python3.7/dist-packages (from geospatial) (0.4.1)\n",
            "Requirement already satisfied: xarray-spatial in /usr/local/lib/python3.7/dist-packages (from geospatial) (0.3.5)\n",
            "Requirement already satisfied: dask-geopandas in /usr/local/lib/python3.7/dist-packages (from geospatial) (0.1.0)\n",
            "Requirement already satisfied: geopandas in /usr/local/lib/python3.7/dist-packages (from geospatial) (0.10.2)\n",
            "Requirement already satisfied: netcdf4 in /usr/local/lib/python3.7/dist-packages (from geospatial) (1.5.8)\n",
            "Requirement already satisfied: rasterio in /usr/local/lib/python3.7/dist-packages (from geospatial) (1.2.10)\n",
            "Requirement already satisfied: datashader in /usr/local/lib/python3.7/dist-packages (from geospatial) (0.14.0)\n",
            "Requirement already satisfied: jupytext in /usr/local/lib/python3.7/dist-packages (from geospatial) (1.13.8)\n",
            "Requirement already satisfied: eemont in /usr/local/lib/python3.7/dist-packages (from geospatial) (0.3.4)\n",
            "Requirement already satisfied: mapboxgl in /usr/local/lib/python3.7/dist-packages (from geospatial) (0.10.2)\n",
            "Requirement already satisfied: sliderule in /usr/local/lib/python3.7/dist-packages (from geospatial) (1.4.3)\n",
            "Requirement already satisfied: rio-cogeo in /usr/local/lib/python3.7/dist-packages (from geospatial) (3.2.0)\n",
            "Requirement already satisfied: hvplot in /usr/local/lib/python3.7/dist-packages (from geospatial) (0.8.0)\n",
            "Requirement already satisfied: here-map-widget-for-jupyter in /usr/local/lib/python3.7/dist-packages (from geospatial) (1.1.3)\n",
            "Requirement already satisfied: sentinelsat in /usr/local/lib/python3.7/dist-packages (from geospatial) (1.1.1)\n",
            "Requirement already satisfied: voila in /usr/local/lib/python3.7/dist-packages (from geospatial) (0.3.5)\n",
            "Requirement already satisfied: pyntcloud in /usr/local/lib/python3.7/dist-packages (from geospatial) (0.3.0)\n",
            "Requirement already satisfied: panel in /usr/local/lib/python3.7/dist-packages (from geospatial) (0.12.1)\n",
            "Requirement already satisfied: rasterstats in /usr/local/lib/python3.7/dist-packages (from geospatial) (0.16.0)\n",
            "Requirement already satisfied: ipygany in /usr/local/lib/python3.7/dist-packages (from geospatial) (0.5.0)\n",
            "Requirement already satisfied: rioxarray in /usr/local/lib/python3.7/dist-packages (from geospatial) (0.9.1)\n",
            "Requirement already satisfied: localtileserver>=0.5.8 in /usr/local/lib/python3.7/dist-packages (from geospatial) (0.5.8)\n",
            "Requirement already satisfied: wxee in /usr/local/lib/python3.7/dist-packages (from geospatial) (0.3.2)\n",
            "Requirement already satisfied: gemgis in /usr/local/lib/python3.7/dist-packages (from geospatial) (1.0.0)\n",
            "Requirement already satisfied: ipynb-py-convert in /usr/local/lib/python3.7/dist-packages (from geospatial) (0.4.6)\n",
            "Requirement already satisfied: numpy in /usr/local/lib/python3.7/dist-packages (from folium>=0.12.1->geospatial) (1.21.6)\n",
            "Requirement already satisfied: branca>=0.3.0 in /usr/local/lib/python3.7/dist-packages (from folium>=0.12.1->geospatial) (0.4.2)\n",
            "Requirement already satisfied: jinja2>=2.9 in /usr/local/lib/python3.7/dist-packages (from folium>=0.12.1->geospatial) (3.1.2)\n",
            "Requirement already satisfied: requests in /usr/local/lib/python3.7/dist-packages (from folium>=0.12.1->geospatial) (2.28.0)\n",
            "Requirement already satisfied: matplotlib in /usr/local/lib/python3.7/dist-packages (from geemap>=0.13.7->geospatial) (3.2.2)\n",
            "Requirement already satisfied: colour in /usr/local/lib/python3.7/dist-packages (from geemap>=0.13.7->geospatial) (0.1.5)\n",
            "Requirement already satisfied: ee-extra>=0.0.10 in /usr/local/lib/python3.7/dist-packages (from geemap>=0.13.7->geospatial) (0.0.13)\n",
            "Requirement already satisfied: gdown in /usr/local/lib/python3.7/dist-packages (from geemap>=0.13.7->geospatial) (4.4.0)\n",
            "Requirement already satisfied: ipytree in /usr/local/lib/python3.7/dist-packages (from geemap>=0.13.7->geospatial) (0.2.1)\n",
            "Requirement already satisfied: pycrs in /usr/local/lib/python3.7/dist-packages (from geemap>=0.13.7->geospatial) (1.0.2)\n",
            "Requirement already satisfied: geojson in /usr/local/lib/python3.7/dist-packages (from geemap>=0.13.7->geospatial) (2.5.0)\n",
            "Requirement already satisfied: python-box in /usr/local/lib/python3.7/dist-packages (from geemap>=0.13.7->geospatial) (6.0.2)\n",
            "Requirement already satisfied: geeadd>=0.5.1 in /usr/local/lib/python3.7/dist-packages (from geemap>=0.13.7->geospatial) (0.5.5)\n",
            "Requirement already satisfied: mapclassify>=2.4.0 in /usr/local/lib/python3.7/dist-packages (from geemap>=0.13.7->geospatial) (2.4.3)\n",
            "Requirement already satisfied: jupyterlab>=3 in /usr/local/lib/python3.7/dist-packages (from geemap>=0.13.7->geospatial) (3.4.3)\n",
            "Requirement already satisfied: geocoder in /usr/local/lib/python3.7/dist-packages (from geemap>=0.13.7->geospatial) (1.38.1)\n",
            "Requirement already satisfied: ipyevents in /usr/local/lib/python3.7/dist-packages (from geemap>=0.13.7->geospatial) (2.0.1)\n",
            "Requirement already satisfied: pandas in /usr/local/lib/python3.7/dist-packages (from geemap>=0.13.7->geospatial) (1.3.5)\n",
            "Requirement already satisfied: ffmpeg-python in /usr/local/lib/python3.7/dist-packages (from geemap>=0.13.7->geospatial) (0.2.0)\n",
            "Requirement already satisfied: sankee in /usr/local/lib/python3.7/dist-packages (from geemap>=0.13.7->geospatial) (0.0.7)\n",
            "Requirement already satisfied: xyzservices in /usr/local/lib/python3.7/dist-packages (from geemap>=0.13.7->geospatial) (2022.4.0)\n",
            "Requirement already satisfied: pillow in /usr/local/lib/python3.7/dist-packages (from geemap>=0.13.7->geospatial) (7.1.2)\n",
            "Requirement already satisfied: pyshp>=2.1.3 in /usr/local/lib/python3.7/dist-packages (from geemap>=0.13.7->geospatial) (2.3.0)\n",
            "Requirement already satisfied: whiteboxgui>=0.6.0 in /usr/local/lib/python3.7/dist-packages (from geemap>=0.13.7->geospatial) (0.7.0)\n",
            "Requirement already satisfied: ipyfilechooser>=0.6.0 in /usr/local/lib/python3.7/dist-packages (from geemap>=0.13.7->geospatial) (0.6.0)\n",
            "Requirement already satisfied: bqplot in /usr/local/lib/python3.7/dist-packages (from geemap>=0.13.7->geospatial) (0.12.33)\n",
            "Requirement already satisfied: future in /usr/local/lib/python3.7/dist-packages (from earthengine-api->geospatial) (0.16.0)\n",
            "Requirement already satisfied: google-auth-httplib2>=0.0.3 in /usr/local/lib/python3.7/dist-packages (from earthengine-api->geospatial) (0.0.4)\n",
            "Requirement already satisfied: google-api-python-client<2,>=1.12.1 in /usr/local/lib/python3.7/dist-packages (from earthengine-api->geospatial) (1.12.11)\n",
            "Requirement already satisfied: google-auth>=1.4.1 in /usr/local/lib/python3.7/dist-packages (from earthengine-api->geospatial) (1.35.0)\n",
            "Requirement already satisfied: google-cloud-storage in /usr/local/lib/python3.7/dist-packages (from earthengine-api->geospatial) (1.18.1)\n",
            "Requirement already satisfied: httplib2shim in /usr/local/lib/python3.7/dist-packages (from earthengine-api->geospatial) (0.0.3)\n",
            "Requirement already satisfied: six in /usr/local/lib/python3.7/dist-packages (from earthengine-api->geospatial) (1.15.0)\n",
            "Requirement already satisfied: httplib2<1dev,>=0.9.2 in /usr/local/lib/python3.7/dist-packages (from earthengine-api->geospatial) (0.17.4)\n",
            "Requirement already satisfied: beautifulsoup4>=4.9.0 in /usr/local/lib/python3.7/dist-packages (from geeadd>=0.5.1->geemap>=0.13.7->geospatial) (4.11.1)\n",
            "Requirement already satisfied: logzero>=1.5.0 in /usr/local/lib/python3.7/dist-packages (from geeadd>=0.5.1->geemap>=0.13.7->geospatial) (1.7.0)\n",
            "Requirement already satisfied: soupsieve>1.2 in /usr/local/lib/python3.7/dist-packages (from beautifulsoup4>=4.9.0->geeadd>=0.5.1->geemap>=0.13.7->geospatial) (2.3.2.post1)\n",
            "Requirement already satisfied: google-api-core<3dev,>=1.21.0 in /usr/local/lib/python3.7/dist-packages (from google-api-python-client<2,>=1.12.1->earthengine-api->geospatial) (1.31.6)\n",
            "Requirement already satisfied: uritemplate<4dev,>=3.0.0 in /usr/local/lib/python3.7/dist-packages (from google-api-python-client<2,>=1.12.1->earthengine-api->geospatial) (3.0.1)\n",
            "Requirement already satisfied: setuptools>=40.3.0 in /usr/local/lib/python3.7/dist-packages (from google-api-core<3dev,>=1.21.0->google-api-python-client<2,>=1.12.1->earthengine-api->geospatial) (57.4.0)\n",
            "Requirement already satisfied: googleapis-common-protos<2.0dev,>=1.6.0 in /usr/local/lib/python3.7/dist-packages (from google-api-core<3dev,>=1.21.0->google-api-python-client<2,>=1.12.1->earthengine-api->geospatial) (1.56.2)\n",
            "Requirement already satisfied: protobuf<4.0.0dev,>=3.12.0 in /usr/local/lib/python3.7/dist-packages (from google-api-core<3dev,>=1.21.0->google-api-python-client<2,>=1.12.1->earthengine-api->geospatial) (3.17.3)\n",
            "Requirement already satisfied: pytz in /usr/local/lib/python3.7/dist-packages (from google-api-core<3dev,>=1.21.0->google-api-python-client<2,>=1.12.1->earthengine-api->geospatial) (2022.1)\n",
            "Requirement already satisfied: packaging>=14.3 in /usr/local/lib/python3.7/dist-packages (from google-api-core<3dev,>=1.21.0->google-api-python-client<2,>=1.12.1->earthengine-api->geospatial) (21.3)\n",
            "Requirement already satisfied: rsa<5,>=3.1.4 in /usr/local/lib/python3.7/dist-packages (from google-auth>=1.4.1->earthengine-api->geospatial) (4.8)\n",
            "Requirement already satisfied: cachetools<5.0,>=2.0.0 in /usr/local/lib/python3.7/dist-packages (from google-auth>=1.4.1->earthengine-api->geospatial) (4.2.4)\n",
            "Requirement already satisfied: pyasn1-modules>=0.2.1 in /usr/local/lib/python3.7/dist-packages (from google-auth>=1.4.1->earthengine-api->geospatial) (0.2.8)\n",
            "Requirement already satisfied: ipywidgets in /usr/local/lib/python3.7/dist-packages (from ipyfilechooser>=0.6.0->geemap>=0.13.7->geospatial) (7.7.0)\n",
            "Requirement already satisfied: traittypes<3,>=0.2.1 in /usr/local/lib/python3.7/dist-packages (from ipyleaflet->geospatial) (0.2.1)\n",
            "Requirement already satisfied: traitlets>=4.3.1 in /usr/local/lib/python3.7/dist-packages (from ipywidgets->ipyfilechooser>=0.6.0->geemap>=0.13.7->geospatial) (5.2.2.post1)\n",
            "Requirement already satisfied: ipykernel>=4.5.1 in /usr/local/lib/python3.7/dist-packages (from ipywidgets->ipyfilechooser>=0.6.0->geemap>=0.13.7->geospatial) (5.5.6)\n",
            "Requirement already satisfied: widgetsnbextension~=3.6.0 in /usr/local/lib/python3.7/dist-packages (from ipywidgets->ipyfilechooser>=0.6.0->geemap>=0.13.7->geospatial) (3.6.0)\n",
            "Requirement already satisfied: ipython>=4.0.0 in /usr/local/lib/python3.7/dist-packages (from ipywidgets->ipyfilechooser>=0.6.0->geemap>=0.13.7->geospatial) (5.5.0)\n",
            "Requirement already satisfied: jupyterlab-widgets>=1.0.0 in /usr/local/lib/python3.7/dist-packages (from ipywidgets->ipyfilechooser>=0.6.0->geemap>=0.13.7->geospatial) (1.1.0)\n",
            "Requirement already satisfied: ipython-genutils~=0.2.0 in /usr/local/lib/python3.7/dist-packages (from ipywidgets->ipyfilechooser>=0.6.0->geemap>=0.13.7->geospatial) (0.2.0)\n",
            "Requirement already satisfied: nbformat>=4.2.0 in /usr/local/lib/python3.7/dist-packages (from ipywidgets->ipyfilechooser>=0.6.0->geemap>=0.13.7->geospatial) (5.4.0)\n",
            "Requirement already satisfied: jupyter-client in /usr/local/lib/python3.7/dist-packages (from ipykernel>=4.5.1->ipywidgets->ipyfilechooser>=0.6.0->geemap>=0.13.7->geospatial) (7.3.4)\n",
            "Requirement already satisfied: tornado>=4.2 in /usr/local/lib/python3.7/dist-packages (from ipykernel>=4.5.1->ipywidgets->ipyfilechooser>=0.6.0->geemap>=0.13.7->geospatial) (6.1)\n",
            "Requirement already satisfied: pygments in /usr/local/lib/python3.7/dist-packages (from ipython>=4.0.0->ipywidgets->ipyfilechooser>=0.6.0->geemap>=0.13.7->geospatial) (2.6.1)\n",
            "Requirement already satisfied: pexpect in /usr/local/lib/python3.7/dist-packages (from ipython>=4.0.0->ipywidgets->ipyfilechooser>=0.6.0->geemap>=0.13.7->geospatial) (4.8.0)\n",
            "Requirement already satisfied: simplegeneric>0.8 in /usr/local/lib/python3.7/dist-packages (from ipython>=4.0.0->ipywidgets->ipyfilechooser>=0.6.0->geemap>=0.13.7->geospatial) (0.8.1)\n",
            "Requirement already satisfied: decorator in /usr/local/lib/python3.7/dist-packages (from ipython>=4.0.0->ipywidgets->ipyfilechooser>=0.6.0->geemap>=0.13.7->geospatial) (4.4.2)\n",
            "Requirement already satisfied: pickleshare in /usr/local/lib/python3.7/dist-packages (from ipython>=4.0.0->ipywidgets->ipyfilechooser>=0.6.0->geemap>=0.13.7->geospatial) (0.7.5)\n",
            "Requirement already satisfied: prompt-toolkit<2.0.0,>=1.0.4 in /usr/local/lib/python3.7/dist-packages (from ipython>=4.0.0->ipywidgets->ipyfilechooser>=0.6.0->geemap>=0.13.7->geospatial) (1.0.18)\n",
            "Requirement already satisfied: MarkupSafe>=2.0 in /usr/local/lib/python3.7/dist-packages (from jinja2>=2.9->folium>=0.12.1->geospatial) (2.0.1)\n",
            "Requirement already satisfied: jupyter-server~=1.16 in /usr/local/lib/python3.7/dist-packages (from jupyterlab>=3->geemap>=0.13.7->geospatial) (1.17.1)\n",
            "Requirement already satisfied: nbclassic~=0.2 in /usr/local/lib/python3.7/dist-packages (from jupyterlab>=3->geemap>=0.13.7->geospatial) (0.3.7)\n",
            "Requirement already satisfied: jupyterlab-server~=2.10 in /usr/local/lib/python3.7/dist-packages (from jupyterlab>=3->geemap>=0.13.7->geospatial) (2.14.0)\n",
            "Requirement already satisfied: jupyter-core in /usr/local/lib/python3.7/dist-packages (from jupyterlab>=3->geemap>=0.13.7->geospatial) (4.10.0)\n",
            "Requirement already satisfied: Send2Trash in /usr/local/lib/python3.7/dist-packages (from jupyter-server~=1.16->jupyterlab>=3->geemap>=0.13.7->geospatial) (1.8.0)\n",
            "Requirement already satisfied: pyzmq>=17 in /usr/local/lib/python3.7/dist-packages (from jupyter-server~=1.16->jupyterlab>=3->geemap>=0.13.7->geospatial) (23.1.0)\n",
            "Requirement already satisfied: argon2-cffi in /usr/local/lib/python3.7/dist-packages (from jupyter-server~=1.16->jupyterlab>=3->geemap>=0.13.7->geospatial) (21.3.0)\n",
            "Requirement already satisfied: anyio<4,>=3.1.0 in /usr/local/lib/python3.7/dist-packages (from jupyter-server~=1.16->jupyterlab>=3->geemap>=0.13.7->geospatial) (3.6.1)\n",
            "Requirement already satisfied: nbconvert>=6.4.4 in /usr/local/lib/python3.7/dist-packages (from jupyter-server~=1.16->jupyterlab>=3->geemap>=0.13.7->geospatial) (6.5.0)\n",
            "Requirement already satisfied: prometheus-client in /usr/local/lib/python3.7/dist-packages (from jupyter-server~=1.16->jupyterlab>=3->geemap>=0.13.7->geospatial) (0.14.1)\n",
            "Requirement already satisfied: terminado>=0.8.3 in /usr/local/lib/python3.7/dist-packages (from jupyter-server~=1.16->jupyterlab>=3->geemap>=0.13.7->geospatial) (0.13.3)\n",
            "Requirement already satisfied: websocket-client in /usr/local/lib/python3.7/dist-packages (from jupyter-server~=1.16->jupyterlab>=3->geemap>=0.13.7->geospatial) (1.3.2)\n",
            "Requirement already satisfied: sniffio>=1.1 in /usr/local/lib/python3.7/dist-packages (from anyio<4,>=3.1.0->jupyter-server~=1.16->jupyterlab>=3->geemap>=0.13.7->geospatial) (1.2.0)\n",
            "Requirement already satisfied: idna>=2.8 in /usr/local/lib/python3.7/dist-packages (from anyio<4,>=3.1.0->jupyter-server~=1.16->jupyterlab>=3->geemap>=0.13.7->geospatial) (2.10)\n",
            "Requirement already satisfied: typing-extensions in /usr/local/lib/python3.7/dist-packages (from anyio<4,>=3.1.0->jupyter-server~=1.16->jupyterlab>=3->geemap>=0.13.7->geospatial) (4.2.0)\n",
            "Requirement already satisfied: nest-asyncio>=1.5.4 in /usr/local/lib/python3.7/dist-packages (from jupyter-client->ipykernel>=4.5.1->ipywidgets->ipyfilechooser>=0.6.0->geemap>=0.13.7->geospatial) (1.5.5)\n",
            "Requirement already satisfied: entrypoints in /usr/local/lib/python3.7/dist-packages (from jupyter-client->ipykernel>=4.5.1->ipywidgets->ipyfilechooser>=0.6.0->geemap>=0.13.7->geospatial) (0.4)\n",
            "Requirement already satisfied: python-dateutil>=2.8.2 in /usr/local/lib/python3.7/dist-packages (from jupyter-client->ipykernel>=4.5.1->ipywidgets->ipyfilechooser>=0.6.0->geemap>=0.13.7->geospatial) (2.8.2)\n",
            "Requirement already satisfied: jsonschema>=3.0.1 in /usr/local/lib/python3.7/dist-packages (from jupyterlab-server~=2.10->jupyterlab>=3->geemap>=0.13.7->geospatial) (4.3.3)\n",
            "Requirement already satisfied: json5 in /usr/local/lib/python3.7/dist-packages (from jupyterlab-server~=2.10->jupyterlab>=3->geemap>=0.13.7->geospatial) (0.9.8)\n",
            "Requirement already satisfied: importlib-metadata>=3.6 in /usr/local/lib/python3.7/dist-packages (from jupyterlab-server~=2.10->jupyterlab>=3->geemap>=0.13.7->geospatial) (4.11.4)\n",
            "Requirement already satisfied: babel in /usr/local/lib/python3.7/dist-packages (from jupyterlab-server~=2.10->jupyterlab>=3->geemap>=0.13.7->geospatial) (2.10.1)\n",
            "Requirement already satisfied: zipp>=0.5 in /usr/local/lib/python3.7/dist-packages (from importlib-metadata>=3.6->jupyterlab-server~=2.10->jupyterlab>=3->geemap>=0.13.7->geospatial) (3.8.0)\n",
            "Requirement already satisfied: importlib-resources>=1.4.0 in /usr/local/lib/python3.7/dist-packages (from jsonschema>=3.0.1->jupyterlab-server~=2.10->jupyterlab>=3->geemap>=0.13.7->geospatial) (5.7.1)\n",
            "Requirement already satisfied: attrs>=17.4.0 in /usr/local/lib/python3.7/dist-packages (from jsonschema>=3.0.1->jupyterlab-server~=2.10->jupyterlab>=3->geemap>=0.13.7->geospatial) (21.4.0)\n",
            "Requirement already satisfied: pyrsistent!=0.17.0,!=0.17.1,!=0.17.2,>=0.14.0 in /usr/local/lib/python3.7/dist-packages (from jsonschema>=3.0.1->jupyterlab-server~=2.10->jupyterlab>=3->geemap>=0.13.7->geospatial) (0.18.1)\n",
            "Requirement already satisfied: ipysheet in /usr/local/lib/python3.7/dist-packages (from leafmap>=0.9.3->geospatial) (0.5.0)\n",
            "Requirement already satisfied: pystac-client in /usr/local/lib/python3.7/dist-packages (from leafmap>=0.9.3->geospatial) (0.4.0)\n",
            "Requirement already satisfied: Flask-Caching in /usr/local/lib/python3.7/dist-packages (from localtileserver>=0.5.8->geospatial) (1.11.1)\n",
            "Requirement already satisfied: click in /usr/local/lib/python3.7/dist-packages (from localtileserver>=0.5.8->geospatial) (8.1.3)\n",
            "Requirement already satisfied: server-thread in /usr/local/lib/python3.7/dist-packages (from localtileserver>=0.5.8->geospatial) (0.1.0)\n",
            "Requirement already satisfied: large-image[gdal]>=1.14.1 in /usr/local/lib/python3.7/dist-packages (from localtileserver>=0.5.8->geospatial) (1.14.5)\n",
            "Requirement already satisfied: flask-restx>=0.5.0 in /usr/local/lib/python3.7/dist-packages (from localtileserver>=0.5.8->geospatial) (0.5.1)\n",
            "Requirement already satisfied: scooby in /usr/local/lib/python3.7/dist-packages (from localtileserver>=0.5.8->geospatial) (0.5.12)\n",
            "Requirement already satisfied: flask>=2.0.0 in /usr/local/lib/python3.7/dist-packages (from localtileserver>=0.5.8->geospatial) (2.1.2)\n",
            "Requirement already satisfied: GDAL in /usr/local/lib/python3.7/dist-packages (from localtileserver>=0.5.8->geospatial) (2.2.2)\n",
            "Requirement already satisfied: flask-cors in /usr/local/lib/python3.7/dist-packages (from localtileserver>=0.5.8->geospatial) (3.0.10)\n",
            "Requirement already satisfied: Werkzeug>=2.0 in /usr/local/lib/python3.7/dist-packages (from flask>=2.0.0->localtileserver>=0.5.8->geospatial) (2.1.2)\n",
            "Requirement already satisfied: itsdangerous>=2.0 in /usr/local/lib/python3.7/dist-packages (from flask>=2.0.0->localtileserver>=0.5.8->geospatial) (2.1.2)\n",
            "Requirement already satisfied: aniso8601>=0.82 in /usr/local/lib/python3.7/dist-packages (from flask-restx>=0.5.0->localtileserver>=0.5.8->geospatial) (9.0.1)\n",
            "Requirement already satisfied: psutil>=4.2.0 in /usr/local/lib/python3.7/dist-packages (from large-image[gdal]>=1.14.1->localtileserver>=0.5.8->geospatial) (5.4.8)\n",
            "Requirement already satisfied: large-image-source-gdal>=1.14.5 in /usr/local/lib/python3.7/dist-packages (from large-image[gdal]>=1.14.1->localtileserver>=0.5.8->geospatial) (1.14.5)\n",
            "Requirement already satisfied: pyproj>=2.2.0 in /usr/local/lib/python3.7/dist-packages (from large-image-source-gdal>=1.14.5->large-image[gdal]>=1.14.1->localtileserver>=0.5.8->geospatial) (3.2.1)\n",
            "Requirement already satisfied: scipy>=1.0 in /usr/local/lib/python3.7/dist-packages (from mapclassify>=2.4.0->geemap>=0.13.7->geospatial) (1.4.1)\n",
            "Requirement already satisfied: scikit-learn in /usr/local/lib/python3.7/dist-packages (from mapclassify>=2.4.0->geemap>=0.13.7->geospatial) (1.0.2)\n",
            "Requirement already satisfied: networkx in /usr/local/lib/python3.7/dist-packages (from mapclassify>=2.4.0->geemap>=0.13.7->geospatial) (2.6.3)\n",
            "Requirement already satisfied: notebook-shim>=0.1.0 in /usr/local/lib/python3.7/dist-packages (from nbclassic~=0.2->jupyterlab>=3->geemap>=0.13.7->geospatial) (0.1.0)\n",
            "Requirement already satisfied: notebook<7 in /usr/local/lib/python3.7/dist-packages (from nbclassic~=0.2->jupyterlab>=3->geemap>=0.13.7->geospatial) (5.3.1)\n",
            "Requirement already satisfied: bleach in /usr/local/lib/python3.7/dist-packages (from nbconvert>=6.4.4->jupyter-server~=1.16->jupyterlab>=3->geemap>=0.13.7->geospatial) (5.0.0)\n",
            "Requirement already satisfied: nbclient>=0.5.0 in /usr/local/lib/python3.7/dist-packages (from nbconvert>=6.4.4->jupyter-server~=1.16->jupyterlab>=3->geemap>=0.13.7->geospatial) (0.5.13)\n",
            "Requirement already satisfied: tinycss2 in /usr/local/lib/python3.7/dist-packages (from nbconvert>=6.4.4->jupyter-server~=1.16->jupyterlab>=3->geemap>=0.13.7->geospatial) (1.1.1)\n",
            "Requirement already satisfied: defusedxml in /usr/local/lib/python3.7/dist-packages (from nbconvert>=6.4.4->jupyter-server~=1.16->jupyterlab>=3->geemap>=0.13.7->geospatial) (0.7.1)\n",
            "Requirement already satisfied: pandocfilters>=1.4.1 in /usr/local/lib/python3.7/dist-packages (from nbconvert>=6.4.4->jupyter-server~=1.16->jupyterlab>=3->geemap>=0.13.7->geospatial) (1.5.0)\n",
            "Requirement already satisfied: mistune<2,>=0.8.1 in /usr/local/lib/python3.7/dist-packages (from nbconvert>=6.4.4->jupyter-server~=1.16->jupyterlab>=3->geemap>=0.13.7->geospatial) (0.8.4)\n",
            "Requirement already satisfied: jupyterlab-pygments in /usr/local/lib/python3.7/dist-packages (from nbconvert>=6.4.4->jupyter-server~=1.16->jupyterlab>=3->geemap>=0.13.7->geospatial) (0.2.2)\n",
            "Requirement already satisfied: fastjsonschema in /usr/local/lib/python3.7/dist-packages (from nbformat>=4.2.0->ipywidgets->ipyfilechooser>=0.6.0->geemap>=0.13.7->geospatial) (2.15.3)\n",
            "Requirement already satisfied: pyparsing!=3.0.5,>=2.0.2 in /usr/local/lib/python3.7/dist-packages (from packaging>=14.3->google-api-core<3dev,>=1.21.0->google-api-python-client<2,>=1.12.1->earthengine-api->geospatial) (3.0.9)\n",
            "Requirement already satisfied: wcwidth in /usr/local/lib/python3.7/dist-packages (from prompt-toolkit<2.0.0,>=1.0.4->ipython>=4.0.0->ipywidgets->ipyfilechooser>=0.6.0->geemap>=0.13.7->geospatial) (0.2.5)\n",
            "Requirement already satisfied: pyasn1<0.5.0,>=0.4.6 in /usr/local/lib/python3.7/dist-packages (from pyasn1-modules>=0.2.1->google-auth>=1.4.1->earthengine-api->geospatial) (0.4.8)\n",
            "Requirement already satisfied: certifi in /usr/local/lib/python3.7/dist-packages (from pyproj>=2.2.0->large-image-source-gdal>=1.14.5->large-image[gdal]>=1.14.1->localtileserver>=0.5.8->geospatial) (2022.5.18.1)\n",
            "Requirement already satisfied: charset-normalizer~=2.0.0 in /usr/local/lib/python3.7/dist-packages (from requests->folium>=0.12.1->geospatial) (2.0.12)\n",
            "Requirement already satisfied: urllib3<1.27,>=1.21.1 in /usr/local/lib/python3.7/dist-packages (from requests->folium>=0.12.1->geospatial) (1.24.3)\n",
            "Requirement already satisfied: ptyprocess in /usr/local/lib/python3.7/dist-packages (from terminado>=0.8.3->jupyter-server~=1.16->jupyterlab>=3->geemap>=0.13.7->geospatial) (0.7.0)\n",
            "Requirement already satisfied: whitebox in /usr/local/lib/python3.7/dist-packages (from whiteboxgui>=0.6.0->geemap>=0.13.7->geospatial) (2.1.2)\n",
            "Requirement already satisfied: argon2-cffi-bindings in /usr/local/lib/python3.7/dist-packages (from argon2-cffi->jupyter-server~=1.16->jupyterlab>=3->geemap>=0.13.7->geospatial) (21.2.0)\n",
            "Requirement already satisfied: cffi>=1.0.1 in /usr/local/lib/python3.7/dist-packages (from argon2-cffi-bindings->argon2-cffi->jupyter-server~=1.16->jupyterlab>=3->geemap>=0.13.7->geospatial) (1.15.0)\n",
            "Requirement already satisfied: pycparser in /usr/local/lib/python3.7/dist-packages (from cffi>=1.0.1->argon2-cffi-bindings->argon2-cffi->jupyter-server~=1.16->jupyterlab>=3->geemap>=0.13.7->geospatial) (2.21)\n",
            "Requirement already satisfied: webencodings in /usr/local/lib/python3.7/dist-packages (from bleach->nbconvert>=6.4.4->jupyter-server~=1.16->jupyterlab>=3->geemap>=0.13.7->geospatial) (0.5.1)\n",
            "Requirement already satisfied: rtree in /usr/local/lib/python3.7/dist-packages (from cenpy->geospatial) (1.0.0)\n",
            "Requirement already satisfied: fuzzywuzzy in /usr/local/lib/python3.7/dist-packages (from cenpy->geospatial) (0.18.0)\n",
            "Requirement already satisfied: libpysal in /usr/local/lib/python3.7/dist-packages (from cenpy->geospatial) (4.6.2)\n",
            "Requirement already satisfied: joblib in /usr/local/lib/python3.7/dist-packages (from contextily->geospatial) (1.1.0)\n",
            "Requirement already satisfied: mercantile in /usr/local/lib/python3.7/dist-packages (from contextily->geospatial) (1.2.1)\n",
            "Requirement already satisfied: geopy in /usr/local/lib/python3.7/dist-packages (from contextily->geospatial) (1.17.0)\n",
            "Requirement already satisfied: dask>=2021.06.0 in /usr/local/lib/python3.7/dist-packages (from dask-geopandas->geospatial) (2022.2.0)\n",
            "Requirement already satisfied: distributed>=2021.06.0 in /usr/local/lib/python3.7/dist-packages (from dask-geopandas->geospatial) (2022.2.0)\n",
            "Requirement already satisfied: pygeos in /usr/local/lib/python3.7/dist-packages (from dask-geopandas->geospatial) (0.12.0)\n",
            "Requirement already satisfied: partd>=0.3.10 in /usr/local/lib/python3.7/dist-packages (from dask>=2021.06.0->dask-geopandas->geospatial) (1.2.0)\n",
            "Requirement already satisfied: fsspec>=0.6.0 in /usr/local/lib/python3.7/dist-packages (from dask>=2021.06.0->dask-geopandas->geospatial) (2022.5.0)\n",
            "Requirement already satisfied: cloudpickle>=1.1.1 in /usr/local/lib/python3.7/dist-packages (from dask>=2021.06.0->dask-geopandas->geospatial) (2.1.0)\n",
            "Requirement already satisfied: pyyaml>=5.3.1 in /usr/local/lib/python3.7/dist-packages (from dask>=2021.06.0->dask-geopandas->geospatial) (6.0)\n",
            "Requirement already satisfied: toolz>=0.8.2 in /usr/local/lib/python3.7/dist-packages (from dask>=2021.06.0->dask-geopandas->geospatial) (0.11.2)\n",
            "Requirement already satisfied: tblib>=1.6.0 in /usr/local/lib/python3.7/dist-packages (from distributed>=2021.06.0->dask-geopandas->geospatial) (1.7.0)\n",
            "Requirement already satisfied: msgpack>=0.6.0 in /usr/local/lib/python3.7/dist-packages (from distributed>=2021.06.0->dask-geopandas->geospatial) (1.0.4)\n",
            "Requirement already satisfied: sortedcontainers!=2.0.0,!=2.0.1 in /usr/local/lib/python3.7/dist-packages (from distributed>=2021.06.0->dask-geopandas->geospatial) (2.4.0)\n",
            "Requirement already satisfied: zict>=0.1.3 in /usr/local/lib/python3.7/dist-packages (from distributed>=2021.06.0->dask-geopandas->geospatial) (2.2.0)\n",
            "Requirement already satisfied: fiona>=1.8 in /usr/local/lib/python3.7/dist-packages (from geopandas->geospatial) (1.8.21)\n",
            "Requirement already satisfied: cligj>=0.5 in /usr/local/lib/python3.7/dist-packages (from fiona>=1.8->geopandas->geospatial) (0.7.2)\n",
            "Requirement already satisfied: click-plugins>=1.0 in /usr/local/lib/python3.7/dist-packages (from fiona>=1.8->geopandas->geospatial) (1.1.1)\n",
            "Requirement already satisfied: munch in /usr/local/lib/python3.7/dist-packages (from fiona>=1.8->geopandas->geospatial) (2.5.0)\n",
            "Requirement already satisfied: locket in /usr/local/lib/python3.7/dist-packages (from partd>=0.3.10->dask>=2021.06.0->dask-geopandas->geospatial) (1.0.0)\n",
            "Requirement already satisfied: heapdict in /usr/local/lib/python3.7/dist-packages (from zict>=0.1.3->distributed>=2021.06.0->dask-geopandas->geospatial) (1.0.1)\n",
            "Requirement already satisfied: colorcet>=0.9.0 in /usr/local/lib/python3.7/dist-packages (from datashader->geospatial) (3.0.0)\n",
            "Requirement already satisfied: numba>=0.51 in /usr/local/lib/python3.7/dist-packages (from datashader->geospatial) (0.51.2)\n",
            "Requirement already satisfied: datashape>=0.5.1 in /usr/local/lib/python3.7/dist-packages (from datashader->geospatial) (0.5.2)\n",
            "Requirement already satisfied: pyct>=0.4.5 in /usr/local/lib/python3.7/dist-packages (from datashader->geospatial) (0.4.8)\n",
            "Requirement already satisfied: param>=1.6.1 in /usr/local/lib/python3.7/dist-packages (from datashader->geospatial) (1.12.1)\n",
            "Requirement already satisfied: xarray>=0.9.6 in /usr/local/lib/python3.7/dist-packages (from datashader->geospatial) (0.20.2)\n",
            "Requirement already satisfied: bokeh>=2.1.1 in /usr/local/lib/python3.7/dist-packages (from dask>=2021.06.0->dask-geopandas->geospatial) (2.3.3)\n",
            "Requirement already satisfied: multipledispatch>=0.4.7 in /usr/local/lib/python3.7/dist-packages (from datashape>=0.5.1->datashader->geospatial) (0.6.0)\n",
            "Requirement already satisfied: llvmlite<0.35,>=0.34.0.dev0 in /usr/local/lib/python3.7/dist-packages (from numba>=0.51->datashader->geospatial) (0.34.0)\n",
            "Requirement already satisfied: scikit-image in /usr/local/lib/python3.7/dist-packages (from earthpy->geospatial) (0.18.3)\n",
            "Requirement already satisfied: kiwisolver>=1.0.1 in /usr/local/lib/python3.7/dist-packages (from matplotlib->geemap>=0.13.7->geospatial) (1.4.2)\n",
            "Requirement already satisfied: cycler>=0.10 in /usr/local/lib/python3.7/dist-packages (from matplotlib->geemap>=0.13.7->geospatial) (0.11.0)\n",
            "Requirement already satisfied: cachelib in /usr/local/lib/python3.7/dist-packages (from Flask-Caching->localtileserver>=0.5.8->geospatial) (0.8.0)\n",
            "Requirement already satisfied: filelock in /usr/local/lib/python3.7/dist-packages (from gdown->geemap>=0.13.7->geospatial) (3.7.1)\n",
            "Requirement already satisfied: tqdm in /usr/local/lib/python3.7/dist-packages (from gdown->geemap>=0.13.7->geospatial) (4.64.0)\n",
            "Requirement already satisfied: greenlet!=0.4.17 in /usr/local/lib/python3.7/dist-packages (from sqlalchemy->geospatial) (1.1.2)\n",
            "Requirement already satisfied: ratelim in /usr/local/lib/python3.7/dist-packages (from geocoder->geemap>=0.13.7->geospatial) (0.1.6)\n",
            "Requirement already satisfied: appdirs in /usr/local/lib/python3.7/dist-packages (from geocube->geospatial) (1.4.4)\n",
            "Requirement already satisfied: datacube in /usr/local/lib/python3.7/dist-packages (from geocube->geospatial) (1.8.5)\n",
            "Requirement already satisfied: affine in /usr/local/lib/python3.7/dist-packages (from datacube->geocube->geospatial) (2.3.1)\n",
            "Requirement already satisfied: lark-parser>=0.6.7 in /usr/local/lib/python3.7/dist-packages (from datacube->geocube->geospatial) (0.12.0)\n",
            "Requirement already satisfied: snuggs>=1.4.1 in /usr/local/lib/python3.7/dist-packages (from rasterio->geospatial) (1.4.7)\n",
            "Requirement already satisfied: geographiclib<2,>=1.49 in /usr/local/lib/python3.7/dist-packages (from geopy->contextily->geospatial) (1.52)\n",
            "Requirement already satisfied: google-resumable-media<0.5.0dev,>=0.3.1 in /usr/local/lib/python3.7/dist-packages (from google-cloud-storage->earthengine-api->geospatial) (0.4.1)\n",
            "Requirement already satisfied: google-cloud-core<2.0dev,>=1.0.0 in /usr/local/lib/python3.7/dist-packages (from google-cloud-storage->earthengine-api->geospatial) (1.0.3)\n",
            "Requirement already satisfied: holoviews>=1.11.0 in /usr/local/lib/python3.7/dist-packages (from hvplot->geospatial) (1.14.9)\n",
            "Requirement already satisfied: pyviz-comms>=0.7.4 in /usr/local/lib/python3.7/dist-packages (from holoviews>=1.11.0->hvplot->geospatial) (2.2.0)\n",
            "Requirement already satisfied: markdown in /usr/local/lib/python3.7/dist-packages (from panel->geospatial) (3.3.7)\n",
            "Requirement already satisfied: ipycanvas>=0.5.0 in /usr/local/lib/python3.7/dist-packages (from ipyvtklink->geospatial) (0.12.0)\n",
            "Requirement already satisfied: markdown-it-py<3.0.0,>=1.0.0 in /usr/local/lib/python3.7/dist-packages (from jupytext->geospatial) (2.1.0)\n",
            "Requirement already satisfied: toml in /usr/local/lib/python3.7/dist-packages (from jupytext->geospatial) (0.10.2)\n",
            "Requirement already satisfied: mdit-py-plugins in /usr/local/lib/python3.7/dist-packages (from jupytext->geospatial) (0.3.0)\n",
            "Requirement already satisfied: mdurl~=0.1 in /usr/local/lib/python3.7/dist-packages (from markdown-it-py<3.0.0,>=1.0.0->jupytext->geospatial) (0.1.1)\n",
            "Requirement already satisfied: chroma-py in /usr/local/lib/python3.7/dist-packages (from mapboxgl->geospatial) (0.1.0.dev1)\n",
            "Requirement already satisfied: cftime in /usr/local/lib/python3.7/dist-packages (from netcdf4->geospatial) (1.6.0)\n",
            "Requirement already satisfied: pystac<2,>=1.0.0 in /usr/local/lib/python3.7/dist-packages (from odc-stac->geospatial) (1.4.0)\n",
            "Collecting matplotlib\n",
            "  Using cached matplotlib-3.5.2-cp37-cp37m-manylinux_2_5_x86_64.manylinux1_x86_64.whl (11.2 MB)\n",
            "Requirement already satisfied: fonttools>=4.22.0 in /usr/local/lib/python3.7/dist-packages (from matplotlib->geemap>=0.13.7->geospatial) (4.33.3)\n",
            "Requirement already satisfied: pydantic[dotenv]>=1.7.3 in /usr/local/lib/python3.7/dist-packages (from planetary-computer->geospatial) (1.9.1)\n",
            "Requirement already satisfied: python-dotenv>=0.10.4 in /usr/local/lib/python3.7/dist-packages (from pydantic[dotenv]>=1.7.3->planetary-computer->geospatial) (0.20.0)\n",
            "Requirement already satisfied: tenacity>=6.2.0 in /usr/local/lib/python3.7/dist-packages (from plotly->geospatial) (8.0.1)\n",
            "Requirement already satisfied: vtk in /usr/local/lib/python3.7/dist-packages (from pyvista->geospatial) (9.1.0)\n",
            "Requirement already satisfied: imageio in /usr/local/lib/python3.7/dist-packages (from pyvista->geospatial) (2.4.1)\n",
            "Requirement already satisfied: simplejson in /usr/local/lib/python3.7/dist-packages (from rasterstats->geospatial) (3.17.6)\n",
            "Requirement already satisfied: PySocks!=1.5.7,>=1.5.6 in /usr/local/lib/python3.7/dist-packages (from requests->folium>=0.12.1->geospatial) (1.7.1)\n",
            "Requirement already satisfied: morecantile<4.0,>=3.1 in /usr/local/lib/python3.7/dist-packages (from rio-cogeo->geospatial) (3.1.2)\n",
            "Requirement already satisfied: sentinelhub>=3.4.2 in /usr/local/lib/python3.7/dist-packages (from s2cloudless->geospatial) (3.6.2)\n",
            "Requirement already satisfied: lightgbm>=2.0.11 in /usr/local/lib/python3.7/dist-packages (from s2cloudless->geospatial) (2.2.3)\n",
            "Requirement already satisfied: tifffile>=2019.7.26 in /usr/local/lib/python3.7/dist-packages (from scikit-image->earthpy->geospatial) (2021.11.2)\n",
            "Requirement already satisfied: PyWavelets>=1.1.1 in /usr/local/lib/python3.7/dist-packages (from scikit-image->earthpy->geospatial) (1.3.0)\n",
            "Requirement already satisfied: utm in /usr/local/lib/python3.7/dist-packages (from sentinelhub>=3.4.2->s2cloudless->geospatial) (0.7.0)\n",
            "Requirement already satisfied: oauthlib in /usr/local/lib/python3.7/dist-packages (from sentinelhub>=3.4.2->s2cloudless->geospatial) (3.2.0)\n",
            "Requirement already satisfied: dataclasses-json in /usr/local/lib/python3.7/dist-packages (from sentinelhub>=3.4.2->s2cloudless->geospatial) (0.5.7)\n",
            "Requirement already satisfied: shared-memory38 in /usr/local/lib/python3.7/dist-packages (from sentinelhub>=3.4.2->s2cloudless->geospatial) (0.1.2)\n",
            "Requirement already satisfied: aenum>=2.1.4 in /usr/local/lib/python3.7/dist-packages (from sentinelhub>=3.4.2->s2cloudless->geospatial) (3.1.11)\n",
            "Requirement already satisfied: requests-oauthlib>=1.0.0 in /usr/local/lib/python3.7/dist-packages (from sentinelhub>=3.4.2->s2cloudless->geospatial) (1.3.1)\n",
            "Requirement already satisfied: marshmallow-enum<2.0.0,>=1.5.1 in /usr/local/lib/python3.7/dist-packages (from dataclasses-json->sentinelhub>=3.4.2->s2cloudless->geospatial) (1.5.1)\n",
            "Requirement already satisfied: typing-inspect>=0.4.0 in /usr/local/lib/python3.7/dist-packages (from dataclasses-json->sentinelhub>=3.4.2->s2cloudless->geospatial) (0.7.1)\n",
            "Requirement already satisfied: marshmallow<4.0.0,>=3.3.0 in /usr/local/lib/python3.7/dist-packages (from dataclasses-json->sentinelhub>=3.4.2->s2cloudless->geospatial) (3.16.0)\n",
            "Requirement already satisfied: mypy-extensions>=0.3.0 in /usr/local/lib/python3.7/dist-packages (from typing-inspect>=0.4.0->dataclasses-json->sentinelhub>=3.4.2->s2cloudless->geospatial) (0.4.3)\n",
            "Requirement already satisfied: trollsift in /usr/local/lib/python3.7/dist-packages (from satpy->geospatial) (0.4.0)\n",
            "Requirement already satisfied: trollimage>1.10.1 in /usr/local/lib/python3.7/dist-packages (from satpy->geospatial) (1.18.3)\n",
            "Requirement already satisfied: zarr in /usr/local/lib/python3.7/dist-packages (from satpy->geospatial) (2.11.3)\n",
            "Requirement already satisfied: donfig in /usr/local/lib/python3.7/dist-packages (from satpy->geospatial) (0.7.0)\n",
            "Requirement already satisfied: pooch in /usr/local/lib/python3.7/dist-packages (from satpy->geospatial) (1.6.0)\n",
            "Requirement already satisfied: pykdtree in /usr/local/lib/python3.7/dist-packages (from satpy->geospatial) (1.3.5)\n",
            "Requirement already satisfied: pyresample>=1.11.0 in /usr/local/lib/python3.7/dist-packages (from satpy->geospatial) (1.23.0)\n",
            "Requirement already satisfied: configobj in /usr/local/lib/python3.7/dist-packages (from pyresample>=1.11.0->satpy->geospatial) (5.0.6)\n",
            "Requirement already satisfied: scholarly in /usr/local/lib/python3.7/dist-packages (from scholarpy->geospatial) (1.7.0)\n",
            "Requirement already satisfied: dimcli in /usr/local/lib/python3.7/dist-packages (from scholarpy->geospatial) (0.9.7.2)\n",
            "Requirement already satisfied: recommonmark in /usr/local/lib/python3.7/dist-packages (from dimcli->scholarpy->geospatial) (0.7.1)\n",
            "Requirement already satisfied: commonmark>=0.8.1 in /usr/local/lib/python3.7/dist-packages (from recommonmark->dimcli->scholarpy->geospatial) (0.9.1)\n",
            "Requirement already satisfied: docutils>=0.11 in /usr/local/lib/python3.7/dist-packages (from recommonmark->dimcli->scholarpy->geospatial) (0.17.1)\n",
            "Requirement already satisfied: sphinx>=1.3.1 in /usr/local/lib/python3.7/dist-packages (from recommonmark->dimcli->scholarpy->geospatial) (1.8.6)\n",
            "Requirement already satisfied: alabaster<0.8,>=0.7 in /usr/local/lib/python3.7/dist-packages (from sphinx>=1.3.1->recommonmark->dimcli->scholarpy->geospatial) (0.7.12)\n",
            "Requirement already satisfied: imagesize in /usr/local/lib/python3.7/dist-packages (from sphinx>=1.3.1->recommonmark->dimcli->scholarpy->geospatial) (1.3.0)\n",
            "Requirement already satisfied: sphinxcontrib-websupport in /usr/local/lib/python3.7/dist-packages (from sphinx>=1.3.1->recommonmark->dimcli->scholarpy->geospatial) (1.2.4)\n",
            "Requirement already satisfied: snowballstemmer>=1.1 in /usr/local/lib/python3.7/dist-packages (from sphinx>=1.3.1->recommonmark->dimcli->scholarpy->geospatial) (2.2.0)\n",
            "Requirement already satisfied: bibtexparser in /usr/local/lib/python3.7/dist-packages (from scholarly->scholarpy->geospatial) (1.2.0)\n",
            "Requirement already satisfied: deprecated in /usr/local/lib/python3.7/dist-packages (from scholarly->scholarpy->geospatial) (1.2.13)\n",
            "Requirement already satisfied: fake-useragent in /usr/local/lib/python3.7/dist-packages (from scholarly->scholarpy->geospatial) (0.1.11)\n",
            "Requirement already satisfied: arrow in /usr/local/lib/python3.7/dist-packages (from scholarly->scholarpy->geospatial) (1.2.2)\n",
            "Requirement already satisfied: selenium in /usr/local/lib/python3.7/dist-packages (from scholarly->scholarpy->geospatial) (3.141.0)\n",
            "Requirement already satisfied: sphinx-rtd-theme in /usr/local/lib/python3.7/dist-packages (from scholarly->scholarpy->geospatial) (1.0.0)\n",
            "Requirement already satisfied: free-proxy in /usr/local/lib/python3.7/dist-packages (from scholarly->scholarpy->geospatial) (1.0.6)\n",
            "Requirement already satisfied: wrapt<2,>=1.10 in /usr/local/lib/python3.7/dist-packages (from deprecated->scholarly->scholarpy->geospatial) (1.14.1)\n",
            "Requirement already satisfied: lxml in /usr/local/lib/python3.7/dist-packages (from free-proxy->scholarly->scholarpy->geospatial) (4.2.6)\n",
            "Requirement already satisfied: threadpoolctl>=2.0.0 in /usr/local/lib/python3.7/dist-packages (from scikit-learn->mapclassify>=2.4.0->geemap>=0.13.7->geospatial) (3.1.0)\n",
            "Requirement already satisfied: html2text in /usr/local/lib/python3.7/dist-packages (from sentinelsat->geospatial) (2020.1.16)\n",
            "Requirement already satisfied: geomet in /usr/local/lib/python3.7/dist-packages (from sentinelsat->geospatial) (0.3.0)\n",
            "Requirement already satisfied: sphinxcontrib-serializinghtml in /usr/local/lib/python3.7/dist-packages (from sphinxcontrib-websupport->sphinx>=1.3.1->recommonmark->dimcli->scholarpy->geospatial) (1.1.5)\n",
            "Requirement already satisfied: seaborn in /usr/local/lib/python3.7/dist-packages (from spyndex->geospatial) (0.11.2)\n",
            "Requirement already satisfied: streamlit>=1.2 in /usr/local/lib/python3.7/dist-packages (from streamlit-folium->geospatial) (1.10.0)\n",
            "Requirement already satisfied: pympler>=0.9 in /usr/local/lib/python3.7/dist-packages (from streamlit>=1.2->streamlit-folium->geospatial) (1.0.1)\n",
            "Requirement already satisfied: pyarrow in /usr/local/lib/python3.7/dist-packages (from streamlit>=1.2->streamlit-folium->geospatial) (6.0.1)\n",
            "Requirement already satisfied: altair>=3.2.0 in /usr/local/lib/python3.7/dist-packages (from streamlit>=1.2->streamlit-folium->geospatial) (4.2.0)\n",
            "Requirement already satisfied: blinker in /usr/local/lib/python3.7/dist-packages (from streamlit>=1.2->streamlit-folium->geospatial) (1.4)\n",
            "Requirement already satisfied: tzlocal in /usr/local/lib/python3.7/dist-packages (from streamlit>=1.2->streamlit-folium->geospatial) (1.5.1)\n",
            "Requirement already satisfied: watchdog in /usr/local/lib/python3.7/dist-packages (from streamlit>=1.2->streamlit-folium->geospatial) (2.1.9)\n",
            "Requirement already satisfied: validators in /usr/local/lib/python3.7/dist-packages (from streamlit>=1.2->streamlit-folium->geospatial) (0.20.0)\n",
            "Requirement already satisfied: semver in /usr/local/lib/python3.7/dist-packages (from streamlit>=1.2->streamlit-folium->geospatial) (2.13.0)\n",
            "Requirement already satisfied: rich in /usr/local/lib/python3.7/dist-packages (from streamlit>=1.2->streamlit-folium->geospatial) (12.4.4)\n",
            "Requirement already satisfied: gitpython!=3.1.19 in /usr/local/lib/python3.7/dist-packages (from streamlit>=1.2->streamlit-folium->geospatial) (3.1.27)\n",
            "Requirement already satisfied: gitdb<5,>=4.0.1 in /usr/local/lib/python3.7/dist-packages (from gitpython!=3.1.19->streamlit>=1.2->streamlit-folium->geospatial) (4.0.9)\n",
            "Requirement already satisfied: smmap<6,>=3.0.1 in /usr/local/lib/python3.7/dist-packages (from gitdb<5,>=4.0.1->gitpython!=3.1.19->streamlit>=1.2->streamlit-folium->geospatial) (5.0.0)\n",
            "Requirement already satisfied: websockets>=9.0 in /usr/local/lib/python3.7/dist-packages (from voila->geospatial) (10.3)\n",
            "Requirement already satisfied: wslink>=1.0.4 in /usr/local/lib/python3.7/dist-packages (from vtk->pyvista->geospatial) (1.6.5)\n",
            "Requirement already satisfied: aiohttp in /usr/local/lib/python3.7/dist-packages (from wslink>=1.0.4->vtk->pyvista->geospatial) (3.8.1)\n",
            "Requirement already satisfied: aiosignal>=1.1.2 in /usr/local/lib/python3.7/dist-packages (from aiohttp->wslink>=1.0.4->vtk->pyvista->geospatial) (1.2.0)\n",
            "Requirement already satisfied: yarl<2.0,>=1.0 in /usr/local/lib/python3.7/dist-packages (from aiohttp->wslink>=1.0.4->vtk->pyvista->geospatial) (1.7.2)\n",
            "Requirement already satisfied: multidict<7.0,>=4.5 in /usr/local/lib/python3.7/dist-packages (from aiohttp->wslink>=1.0.4->vtk->pyvista->geospatial) (6.0.2)\n",
            "Requirement already satisfied: async-timeout<5.0,>=4.0.0a3 in /usr/local/lib/python3.7/dist-packages (from aiohttp->wslink>=1.0.4->vtk->pyvista->geospatial) (4.0.2)\n",
            "Requirement already satisfied: frozenlist>=1.1.1 in /usr/local/lib/python3.7/dist-packages (from aiohttp->wslink>=1.0.4->vtk->pyvista->geospatial) (1.3.0)\n",
            "Requirement already satisfied: asynctest==0.13.0 in /usr/local/lib/python3.7/dist-packages (from aiohttp->wslink>=1.0.4->vtk->pyvista->geospatial) (0.13.0)\n",
            "Requirement already satisfied: asciitree in /usr/local/lib/python3.7/dist-packages (from zarr->satpy->geospatial) (0.3.3)\n",
            "Requirement already satisfied: numcodecs>=0.6.4 in /usr/local/lib/python3.7/dist-packages (from zarr->satpy->geospatial) (0.9.1)\n",
            "Requirement already satisfied: fasteners in /usr/local/lib/python3.7/dist-packages (from zarr->satpy->geospatial) (0.17.3)\n",
            "Installing collected packages: matplotlib\n",
            "  Attempting uninstall: matplotlib\n",
            "    Found existing installation: matplotlib 3.2.2\n",
            "    Uninstalling matplotlib-3.2.2:\n",
            "      Successfully uninstalled matplotlib-3.2.2\n",
            "\u001b[31mERROR: pip's dependency resolver does not currently take into account all the packages that are installed. This behaviour is the source of the following dependency conflicts.\n",
            "albumentations 0.1.12 requires imgaug<0.2.7,>=0.2.5, but you have imgaug 0.2.9 which is incompatible.\u001b[0m\n",
            "Successfully installed matplotlib-3.5.2\n"
          ]
        },
        {
          "output_type": "display_data",
          "data": {
            "application/vnd.colab-display-data+json": {
              "pip_warning": {
                "packages": [
                  "matplotlib",
                  "mpl_toolkits"
                ]
              }
            }
          },
          "metadata": {}
        }
      ]
    },
    {
      "cell_type": "code",
      "execution_count": null,
      "metadata": {
        "colab": {
          "base_uri": "https://localhost:8080/"
        },
        "id": "Ib99ToJxZoAO",
        "outputId": "20db36ac-6a33-41bb-9b1b-72f32b5762e6"
      },
      "outputs": [
        {
          "output_type": "stream",
          "name": "stderr",
          "text": [
            "/usr/local/lib/python3.7/dist-packages/geopandas/_compat.py:115: UserWarning: The Shapely GEOS version (3.10.2-CAPI-1.16.0) is incompatible with the GEOS version PyGEOS was compiled with (3.10.1-CAPI-1.16.0). Conversions between both will be slow.\n",
            "  shapely_geos_version, geos_capi_version_string\n"
          ]
        }
      ],
      "source": [
        "import geopandas as gpd"
      ]
    },
    {
      "cell_type": "code",
      "source": [
        "!pip install matplotlib==3.2.2"
      ],
      "metadata": {
        "colab": {
          "base_uri": "https://localhost:8080/",
          "height": 416
        },
        "id": "wcVhf1y2HQYw",
        "outputId": "4039544c-9451-4de4-b377-2a28446d5f01"
      },
      "execution_count": null,
      "outputs": [
        {
          "output_type": "stream",
          "name": "stdout",
          "text": [
            "Looking in indexes: https://pypi.org/simple, https://us-python.pkg.dev/colab-wheels/public/simple/\n",
            "Collecting matplotlib==3.2.2\n",
            "  Using cached matplotlib-3.2.2-cp37-cp37m-manylinux1_x86_64.whl (12.4 MB)\n",
            "Requirement already satisfied: numpy>=1.11 in /usr/local/lib/python3.7/dist-packages (from matplotlib==3.2.2) (1.21.6)\n",
            "Requirement already satisfied: pyparsing!=2.0.4,!=2.1.2,!=2.1.6,>=2.0.1 in /usr/local/lib/python3.7/dist-packages (from matplotlib==3.2.2) (3.0.9)\n",
            "Requirement already satisfied: python-dateutil>=2.1 in /usr/local/lib/python3.7/dist-packages (from matplotlib==3.2.2) (2.8.2)\n",
            "Requirement already satisfied: cycler>=0.10 in /usr/local/lib/python3.7/dist-packages (from matplotlib==3.2.2) (0.11.0)\n",
            "Requirement already satisfied: kiwisolver>=1.0.1 in /usr/local/lib/python3.7/dist-packages (from matplotlib==3.2.2) (1.4.2)\n",
            "Requirement already satisfied: typing-extensions in /usr/local/lib/python3.7/dist-packages (from kiwisolver>=1.0.1->matplotlib==3.2.2) (4.2.0)\n",
            "Requirement already satisfied: six>=1.5 in /usr/local/lib/python3.7/dist-packages (from python-dateutil>=2.1->matplotlib==3.2.2) (1.15.0)\n",
            "Installing collected packages: matplotlib\n",
            "  Attempting uninstall: matplotlib\n",
            "    Found existing installation: matplotlib 3.5.2\n",
            "    Uninstalling matplotlib-3.5.2:\n",
            "      Successfully uninstalled matplotlib-3.5.2\n",
            "\u001b[31mERROR: pip's dependency resolver does not currently take into account all the packages that are installed. This behaviour is the source of the following dependency conflicts.\n",
            "osmnx 1.1.2 requires matplotlib>=3.4, but you have matplotlib 3.2.2 which is incompatible.\n",
            "albumentations 0.1.12 requires imgaug<0.2.7,>=0.2.5, but you have imgaug 0.2.9 which is incompatible.\u001b[0m\n",
            "Successfully installed matplotlib-3.2.2\n"
          ]
        },
        {
          "output_type": "display_data",
          "data": {
            "application/vnd.colab-display-data+json": {
              "pip_warning": {
                "packages": [
                  "matplotlib",
                  "mpl_toolkits"
                ]
              }
            }
          },
          "metadata": {}
        }
      ]
    },
    {
      "cell_type": "code",
      "source": [
        "# to provide basemaps \n",
        "import contextily as ctx\n",
        "\n",
        "# to give more power to your figures (plots)\n",
        "import matplotlib.pyplot as plt\n",
        "from matplotlib import pyplot as plt"
      ],
      "metadata": {
        "id": "CqEpzO3MFjzy"
      },
      "execution_count": null,
      "outputs": []
    },
    {
      "cell_type": "markdown",
      "source": [
        "# **Exploring CEnSUS**"
      ],
      "metadata": {
        "id": "nhhWusKDFm--"
      }
    },
    {
      "cell_type": "code",
      "source": [
        "# load a data file\n",
        "# note the relative filepath! where is this file located?\n",
        "gdf = gpd.read_file('/dec_pl94_compare_2020_2010_12895e183b0c022d5a527c612ce72865_P2.geojson')"
      ],
      "metadata": {
        "id": "RZ_XAqrXFj-F"
      },
      "execution_count": null,
      "outputs": []
    },
    {
      "cell_type": "code",
      "source": [
        "gdf.shape"
      ],
      "metadata": {
        "colab": {
          "base_uri": "https://localhost:8080/"
        },
        "id": "x-EV2pQLFkEb",
        "outputId": "7055c8d6-fe66-4b58-cbad-092e5998f566"
      },
      "execution_count": null,
      "outputs": [
        {
          "output_type": "execute_result",
          "data": {
            "text/plain": [
              "(318, 223)"
            ]
          },
          "metadata": {},
          "execution_count": 6
        }
      ]
    },
    {
      "cell_type": "code",
      "source": [
        "# get first 5 rows\n",
        "gdf.head()"
      ],
      "metadata": {
        "colab": {
          "base_uri": "https://localhost:8080/",
          "height": 540
        },
        "id": "IaMadNz0FkI3",
        "outputId": "a45f35d5-1031-4bf8-f36f-b4ca9d6b01d7"
      },
      "execution_count": null,
      "outputs": [
        {
          "output_type": "execute_result",
          "data": {
            "text/plain": [
              "                id             name      original_id  p0020001_2020  \\\n",
              "0            acton            Acton            acton           7431   \n",
              "1  adams-normandie  Adams-Normandie  adams-normandie          16922   \n",
              "2     agoura-hills     Agoura Hills     agoura-hills          20299   \n",
              "3       agua-dulce       Agua Dulce       agua-dulce           3510   \n",
              "4         alhambra         Alhambra         alhambra          82876   \n",
              "\n",
              "   p0020002_2020  p0020003_2020  p0020004_2020  p0020005_2020  p0020006_2020  \\\n",
              "0           2076           5355           5072           4736             72   \n",
              "1          11701           5221           4758            978           2668   \n",
              "2           2319          17980          16893          14744            250   \n",
              "3            891           2619           2467           2326             46   \n",
              "4          29917          52959          51348           6939           1345   \n",
              "\n",
              "   p0020007_2020  ...  p0020065_change  p0020066_change  p0020067_change  \\\n",
              "0             33  ...                                                      \n",
              "1             19  ...                                                      \n",
              "2             23  ...             -1.0             -1.0                    \n",
              "3             13  ...                                                      \n",
              "4            137  ...                                                      \n",
              "\n",
              "   p0020068_change  p0020069_change  p0020070_change  p0020071_change  \\\n",
              "0                                                                       \n",
              "1                                                                       \n",
              "2                                                                       \n",
              "3                                                                       \n",
              "4                                                                       \n",
              "\n",
              "   p0020072_change  p0020073_change  \\\n",
              "0                                     \n",
              "1                                     \n",
              "2                                     \n",
              "3                                     \n",
              "4                                     \n",
              "\n",
              "                                            geometry  \n",
              "0  MULTIPOLYGON (((-118.20703 34.53902, -118.2069...  \n",
              "1  MULTIPOLYGON (((-118.30800 34.03740, -118.3089...  \n",
              "2  MULTIPOLYGON (((-118.77621 34.16816, -118.7888...  \n",
              "3  MULTIPOLYGON (((-118.37822 34.48811, -118.3781...  \n",
              "4  MULTIPOLYGON (((-118.12175 34.10504, -118.1279...  \n",
              "\n",
              "[5 rows x 223 columns]"
            ],
            "text/html": [
              "\n",
              "  <div id=\"df-1caee0e3-9343-4824-8e87-6c373c49b194\">\n",
              "    <div class=\"colab-df-container\">\n",
              "      <div>\n",
              "<style scoped>\n",
              "    .dataframe tbody tr th:only-of-type {\n",
              "        vertical-align: middle;\n",
              "    }\n",
              "\n",
              "    .dataframe tbody tr th {\n",
              "        vertical-align: top;\n",
              "    }\n",
              "\n",
              "    .dataframe thead th {\n",
              "        text-align: right;\n",
              "    }\n",
              "</style>\n",
              "<table border=\"1\" class=\"dataframe\">\n",
              "  <thead>\n",
              "    <tr style=\"text-align: right;\">\n",
              "      <th></th>\n",
              "      <th>id</th>\n",
              "      <th>name</th>\n",
              "      <th>original_id</th>\n",
              "      <th>p0020001_2020</th>\n",
              "      <th>p0020002_2020</th>\n",
              "      <th>p0020003_2020</th>\n",
              "      <th>p0020004_2020</th>\n",
              "      <th>p0020005_2020</th>\n",
              "      <th>p0020006_2020</th>\n",
              "      <th>p0020007_2020</th>\n",
              "      <th>...</th>\n",
              "      <th>p0020065_change</th>\n",
              "      <th>p0020066_change</th>\n",
              "      <th>p0020067_change</th>\n",
              "      <th>p0020068_change</th>\n",
              "      <th>p0020069_change</th>\n",
              "      <th>p0020070_change</th>\n",
              "      <th>p0020071_change</th>\n",
              "      <th>p0020072_change</th>\n",
              "      <th>p0020073_change</th>\n",
              "      <th>geometry</th>\n",
              "    </tr>\n",
              "  </thead>\n",
              "  <tbody>\n",
              "    <tr>\n",
              "      <th>0</th>\n",
              "      <td>acton</td>\n",
              "      <td>Acton</td>\n",
              "      <td>acton</td>\n",
              "      <td>7431</td>\n",
              "      <td>2076</td>\n",
              "      <td>5355</td>\n",
              "      <td>5072</td>\n",
              "      <td>4736</td>\n",
              "      <td>72</td>\n",
              "      <td>33</td>\n",
              "      <td>...</td>\n",
              "      <td></td>\n",
              "      <td></td>\n",
              "      <td></td>\n",
              "      <td></td>\n",
              "      <td></td>\n",
              "      <td></td>\n",
              "      <td></td>\n",
              "      <td></td>\n",
              "      <td></td>\n",
              "      <td>MULTIPOLYGON (((-118.20703 34.53902, -118.2069...</td>\n",
              "    </tr>\n",
              "    <tr>\n",
              "      <th>1</th>\n",
              "      <td>adams-normandie</td>\n",
              "      <td>Adams-Normandie</td>\n",
              "      <td>adams-normandie</td>\n",
              "      <td>16922</td>\n",
              "      <td>11701</td>\n",
              "      <td>5221</td>\n",
              "      <td>4758</td>\n",
              "      <td>978</td>\n",
              "      <td>2668</td>\n",
              "      <td>19</td>\n",
              "      <td>...</td>\n",
              "      <td></td>\n",
              "      <td></td>\n",
              "      <td></td>\n",
              "      <td></td>\n",
              "      <td></td>\n",
              "      <td></td>\n",
              "      <td></td>\n",
              "      <td></td>\n",
              "      <td></td>\n",
              "      <td>MULTIPOLYGON (((-118.30800 34.03740, -118.3089...</td>\n",
              "    </tr>\n",
              "    <tr>\n",
              "      <th>2</th>\n",
              "      <td>agoura-hills</td>\n",
              "      <td>Agoura Hills</td>\n",
              "      <td>agoura-hills</td>\n",
              "      <td>20299</td>\n",
              "      <td>2319</td>\n",
              "      <td>17980</td>\n",
              "      <td>16893</td>\n",
              "      <td>14744</td>\n",
              "      <td>250</td>\n",
              "      <td>23</td>\n",
              "      <td>...</td>\n",
              "      <td>-1.0</td>\n",
              "      <td>-1.0</td>\n",
              "      <td></td>\n",
              "      <td></td>\n",
              "      <td></td>\n",
              "      <td></td>\n",
              "      <td></td>\n",
              "      <td></td>\n",
              "      <td></td>\n",
              "      <td>MULTIPOLYGON (((-118.77621 34.16816, -118.7888...</td>\n",
              "    </tr>\n",
              "    <tr>\n",
              "      <th>3</th>\n",
              "      <td>agua-dulce</td>\n",
              "      <td>Agua Dulce</td>\n",
              "      <td>agua-dulce</td>\n",
              "      <td>3510</td>\n",
              "      <td>891</td>\n",
              "      <td>2619</td>\n",
              "      <td>2467</td>\n",
              "      <td>2326</td>\n",
              "      <td>46</td>\n",
              "      <td>13</td>\n",
              "      <td>...</td>\n",
              "      <td></td>\n",
              "      <td></td>\n",
              "      <td></td>\n",
              "      <td></td>\n",
              "      <td></td>\n",
              "      <td></td>\n",
              "      <td></td>\n",
              "      <td></td>\n",
              "      <td></td>\n",
              "      <td>MULTIPOLYGON (((-118.37822 34.48811, -118.3781...</td>\n",
              "    </tr>\n",
              "    <tr>\n",
              "      <th>4</th>\n",
              "      <td>alhambra</td>\n",
              "      <td>Alhambra</td>\n",
              "      <td>alhambra</td>\n",
              "      <td>82876</td>\n",
              "      <td>29917</td>\n",
              "      <td>52959</td>\n",
              "      <td>51348</td>\n",
              "      <td>6939</td>\n",
              "      <td>1345</td>\n",
              "      <td>137</td>\n",
              "      <td>...</td>\n",
              "      <td></td>\n",
              "      <td></td>\n",
              "      <td></td>\n",
              "      <td></td>\n",
              "      <td></td>\n",
              "      <td></td>\n",
              "      <td></td>\n",
              "      <td></td>\n",
              "      <td></td>\n",
              "      <td>MULTIPOLYGON (((-118.12175 34.10504, -118.1279...</td>\n",
              "    </tr>\n",
              "  </tbody>\n",
              "</table>\n",
              "<p>5 rows × 223 columns</p>\n",
              "</div>\n",
              "      <button class=\"colab-df-convert\" onclick=\"convertToInteractive('df-1caee0e3-9343-4824-8e87-6c373c49b194')\"\n",
              "              title=\"Convert this dataframe to an interactive table.\"\n",
              "              style=\"display:none;\">\n",
              "        \n",
              "  <svg xmlns=\"http://www.w3.org/2000/svg\" height=\"24px\"viewBox=\"0 0 24 24\"\n",
              "       width=\"24px\">\n",
              "    <path d=\"M0 0h24v24H0V0z\" fill=\"none\"/>\n",
              "    <path d=\"M18.56 5.44l.94 2.06.94-2.06 2.06-.94-2.06-.94-.94-2.06-.94 2.06-2.06.94zm-11 1L8.5 8.5l.94-2.06 2.06-.94-2.06-.94L8.5 2.5l-.94 2.06-2.06.94zm10 10l.94 2.06.94-2.06 2.06-.94-2.06-.94-.94-2.06-.94 2.06-2.06.94z\"/><path d=\"M17.41 7.96l-1.37-1.37c-.4-.4-.92-.59-1.43-.59-.52 0-1.04.2-1.43.59L10.3 9.45l-7.72 7.72c-.78.78-.78 2.05 0 2.83L4 21.41c.39.39.9.59 1.41.59.51 0 1.02-.2 1.41-.59l7.78-7.78 2.81-2.81c.8-.78.8-2.07 0-2.86zM5.41 20L4 18.59l7.72-7.72 1.47 1.35L5.41 20z\"/>\n",
              "  </svg>\n",
              "      </button>\n",
              "      \n",
              "  <style>\n",
              "    .colab-df-container {\n",
              "      display:flex;\n",
              "      flex-wrap:wrap;\n",
              "      gap: 12px;\n",
              "    }\n",
              "\n",
              "    .colab-df-convert {\n",
              "      background-color: #E8F0FE;\n",
              "      border: none;\n",
              "      border-radius: 50%;\n",
              "      cursor: pointer;\n",
              "      display: none;\n",
              "      fill: #1967D2;\n",
              "      height: 32px;\n",
              "      padding: 0 0 0 0;\n",
              "      width: 32px;\n",
              "    }\n",
              "\n",
              "    .colab-df-convert:hover {\n",
              "      background-color: #E2EBFA;\n",
              "      box-shadow: 0px 1px 2px rgba(60, 64, 67, 0.3), 0px 1px 3px 1px rgba(60, 64, 67, 0.15);\n",
              "      fill: #174EA6;\n",
              "    }\n",
              "\n",
              "    [theme=dark] .colab-df-convert {\n",
              "      background-color: #3B4455;\n",
              "      fill: #D2E3FC;\n",
              "    }\n",
              "\n",
              "    [theme=dark] .colab-df-convert:hover {\n",
              "      background-color: #434B5C;\n",
              "      box-shadow: 0px 1px 3px 1px rgba(0, 0, 0, 0.15);\n",
              "      filter: drop-shadow(0px 1px 2px rgba(0, 0, 0, 0.3));\n",
              "      fill: #FFFFFF;\n",
              "    }\n",
              "  </style>\n",
              "\n",
              "      <script>\n",
              "        const buttonEl =\n",
              "          document.querySelector('#df-1caee0e3-9343-4824-8e87-6c373c49b194 button.colab-df-convert');\n",
              "        buttonEl.style.display =\n",
              "          google.colab.kernel.accessAllowed ? 'block' : 'none';\n",
              "\n",
              "        async function convertToInteractive(key) {\n",
              "          const element = document.querySelector('#df-1caee0e3-9343-4824-8e87-6c373c49b194');\n",
              "          const dataTable =\n",
              "            await google.colab.kernel.invokeFunction('convertToInteractive',\n",
              "                                                     [key], {});\n",
              "          if (!dataTable) return;\n",
              "\n",
              "          const docLinkHtml = 'Like what you see? Visit the ' +\n",
              "            '<a target=\"_blank\" href=https://colab.research.google.com/notebooks/data_table.ipynb>data table notebook</a>'\n",
              "            + ' to learn more about interactive tables.';\n",
              "          element.innerHTML = '';\n",
              "          dataTable['output_type'] = 'display_data';\n",
              "          await google.colab.output.renderOutput(dataTable, element);\n",
              "          const docLink = document.createElement('div');\n",
              "          docLink.innerHTML = docLinkHtml;\n",
              "          element.appendChild(docLink);\n",
              "        }\n",
              "      </script>\n",
              "    </div>\n",
              "  </div>\n",
              "  "
            ]
          },
          "metadata": {},
          "execution_count": 7
        }
      ]
    },
    {
      "cell_type": "code",
      "source": [
        "# get a random row\n",
        "gdf.sample()"
      ],
      "metadata": {
        "colab": {
          "base_uri": "https://localhost:8080/",
          "height": 221
        },
        "id": "nyLltPvwFkN9",
        "outputId": "be1f4595-0547-4528-a4a2-41ca930b3085"
      },
      "execution_count": null,
      "outputs": [
        {
          "output_type": "execute_result",
          "data": {
            "text/plain": [
              "         id     name original_id  p0020001_2020  p0020002_2020  p0020003_2020  \\\n",
              "89  fairfax  Fairfax     fairfax          12475           1228          11247   \n",
              "\n",
              "    p0020004_2020  p0020005_2020  p0020006_2020  p0020007_2020  ...  \\\n",
              "89          10650           9332            371             14  ...   \n",
              "\n",
              "    p0020065_change  p0020066_change  p0020067_change  p0020068_change  \\\n",
              "89                                                                       \n",
              "\n",
              "    p0020069_change  p0020070_change  p0020071_change  p0020072_change  \\\n",
              "89                                                                -1.0   \n",
              "\n",
              "    p0020073_change                                           geometry  \n",
              "89             -1.0  MULTIPOLYGON (((-118.35112 34.08895, -118.3528...  \n",
              "\n",
              "[1 rows x 223 columns]"
            ],
            "text/html": [
              "\n",
              "  <div id=\"df-500ec13d-490c-43a4-8473-40e992f6a320\">\n",
              "    <div class=\"colab-df-container\">\n",
              "      <div>\n",
              "<style scoped>\n",
              "    .dataframe tbody tr th:only-of-type {\n",
              "        vertical-align: middle;\n",
              "    }\n",
              "\n",
              "    .dataframe tbody tr th {\n",
              "        vertical-align: top;\n",
              "    }\n",
              "\n",
              "    .dataframe thead th {\n",
              "        text-align: right;\n",
              "    }\n",
              "</style>\n",
              "<table border=\"1\" class=\"dataframe\">\n",
              "  <thead>\n",
              "    <tr style=\"text-align: right;\">\n",
              "      <th></th>\n",
              "      <th>id</th>\n",
              "      <th>name</th>\n",
              "      <th>original_id</th>\n",
              "      <th>p0020001_2020</th>\n",
              "      <th>p0020002_2020</th>\n",
              "      <th>p0020003_2020</th>\n",
              "      <th>p0020004_2020</th>\n",
              "      <th>p0020005_2020</th>\n",
              "      <th>p0020006_2020</th>\n",
              "      <th>p0020007_2020</th>\n",
              "      <th>...</th>\n",
              "      <th>p0020065_change</th>\n",
              "      <th>p0020066_change</th>\n",
              "      <th>p0020067_change</th>\n",
              "      <th>p0020068_change</th>\n",
              "      <th>p0020069_change</th>\n",
              "      <th>p0020070_change</th>\n",
              "      <th>p0020071_change</th>\n",
              "      <th>p0020072_change</th>\n",
              "      <th>p0020073_change</th>\n",
              "      <th>geometry</th>\n",
              "    </tr>\n",
              "  </thead>\n",
              "  <tbody>\n",
              "    <tr>\n",
              "      <th>89</th>\n",
              "      <td>fairfax</td>\n",
              "      <td>Fairfax</td>\n",
              "      <td>fairfax</td>\n",
              "      <td>12475</td>\n",
              "      <td>1228</td>\n",
              "      <td>11247</td>\n",
              "      <td>10650</td>\n",
              "      <td>9332</td>\n",
              "      <td>371</td>\n",
              "      <td>14</td>\n",
              "      <td>...</td>\n",
              "      <td></td>\n",
              "      <td></td>\n",
              "      <td></td>\n",
              "      <td></td>\n",
              "      <td></td>\n",
              "      <td></td>\n",
              "      <td></td>\n",
              "      <td>-1.0</td>\n",
              "      <td>-1.0</td>\n",
              "      <td>MULTIPOLYGON (((-118.35112 34.08895, -118.3528...</td>\n",
              "    </tr>\n",
              "  </tbody>\n",
              "</table>\n",
              "<p>1 rows × 223 columns</p>\n",
              "</div>\n",
              "      <button class=\"colab-df-convert\" onclick=\"convertToInteractive('df-500ec13d-490c-43a4-8473-40e992f6a320')\"\n",
              "              title=\"Convert this dataframe to an interactive table.\"\n",
              "              style=\"display:none;\">\n",
              "        \n",
              "  <svg xmlns=\"http://www.w3.org/2000/svg\" height=\"24px\"viewBox=\"0 0 24 24\"\n",
              "       width=\"24px\">\n",
              "    <path d=\"M0 0h24v24H0V0z\" fill=\"none\"/>\n",
              "    <path d=\"M18.56 5.44l.94 2.06.94-2.06 2.06-.94-2.06-.94-.94-2.06-.94 2.06-2.06.94zm-11 1L8.5 8.5l.94-2.06 2.06-.94-2.06-.94L8.5 2.5l-.94 2.06-2.06.94zm10 10l.94 2.06.94-2.06 2.06-.94-2.06-.94-.94-2.06-.94 2.06-2.06.94z\"/><path d=\"M17.41 7.96l-1.37-1.37c-.4-.4-.92-.59-1.43-.59-.52 0-1.04.2-1.43.59L10.3 9.45l-7.72 7.72c-.78.78-.78 2.05 0 2.83L4 21.41c.39.39.9.59 1.41.59.51 0 1.02-.2 1.41-.59l7.78-7.78 2.81-2.81c.8-.78.8-2.07 0-2.86zM5.41 20L4 18.59l7.72-7.72 1.47 1.35L5.41 20z\"/>\n",
              "  </svg>\n",
              "      </button>\n",
              "      \n",
              "  <style>\n",
              "    .colab-df-container {\n",
              "      display:flex;\n",
              "      flex-wrap:wrap;\n",
              "      gap: 12px;\n",
              "    }\n",
              "\n",
              "    .colab-df-convert {\n",
              "      background-color: #E8F0FE;\n",
              "      border: none;\n",
              "      border-radius: 50%;\n",
              "      cursor: pointer;\n",
              "      display: none;\n",
              "      fill: #1967D2;\n",
              "      height: 32px;\n",
              "      padding: 0 0 0 0;\n",
              "      width: 32px;\n",
              "    }\n",
              "\n",
              "    .colab-df-convert:hover {\n",
              "      background-color: #E2EBFA;\n",
              "      box-shadow: 0px 1px 2px rgba(60, 64, 67, 0.3), 0px 1px 3px 1px rgba(60, 64, 67, 0.15);\n",
              "      fill: #174EA6;\n",
              "    }\n",
              "\n",
              "    [theme=dark] .colab-df-convert {\n",
              "      background-color: #3B4455;\n",
              "      fill: #D2E3FC;\n",
              "    }\n",
              "\n",
              "    [theme=dark] .colab-df-convert:hover {\n",
              "      background-color: #434B5C;\n",
              "      box-shadow: 0px 1px 3px 1px rgba(0, 0, 0, 0.15);\n",
              "      filter: drop-shadow(0px 1px 2px rgba(0, 0, 0, 0.3));\n",
              "      fill: #FFFFFF;\n",
              "    }\n",
              "  </style>\n",
              "\n",
              "      <script>\n",
              "        const buttonEl =\n",
              "          document.querySelector('#df-500ec13d-490c-43a4-8473-40e992f6a320 button.colab-df-convert');\n",
              "        buttonEl.style.display =\n",
              "          google.colab.kernel.accessAllowed ? 'block' : 'none';\n",
              "\n",
              "        async function convertToInteractive(key) {\n",
              "          const element = document.querySelector('#df-500ec13d-490c-43a4-8473-40e992f6a320');\n",
              "          const dataTable =\n",
              "            await google.colab.kernel.invokeFunction('convertToInteractive',\n",
              "                                                     [key], {});\n",
              "          if (!dataTable) return;\n",
              "\n",
              "          const docLinkHtml = 'Like what you see? Visit the ' +\n",
              "            '<a target=\"_blank\" href=https://colab.research.google.com/notebooks/data_table.ipynb>data table notebook</a>'\n",
              "            + ' to learn more about interactive tables.';\n",
              "          element.innerHTML = '';\n",
              "          dataTable['output_type'] = 'display_data';\n",
              "          await google.colab.output.renderOutput(dataTable, element);\n",
              "          const docLink = document.createElement('div');\n",
              "          docLink.innerHTML = docLinkHtml;\n",
              "          element.appendChild(docLink);\n",
              "        }\n",
              "      </script>\n",
              "    </div>\n",
              "  </div>\n",
              "  "
            ]
          },
          "metadata": {},
          "execution_count": 9
        }
      ]
    },
    {
      "cell_type": "code",
      "source": [
        "# plot it!\n",
        "gdf.plot(figsize=(10,10))"
      ],
      "metadata": {
        "colab": {
          "base_uri": "https://localhost:8080/",
          "height": 608
        },
        "id": "WCPKIIDIFkSy",
        "outputId": "0993ac37-eba7-4b61-eccf-008d00c99360"
      },
      "execution_count": null,
      "outputs": [
        {
          "output_type": "execute_result",
          "data": {
            "text/plain": [
              "<matplotlib.axes._subplots.AxesSubplot at 0x7f5d75f7b150>"
            ]
          },
          "metadata": {},
          "execution_count": 10
        },
        {
          "output_type": "display_data",
          "data": {
            "text/plain": [
              "<Figure size 720x720 with 1 Axes>"
            ],
            "image/png": "[encoded data removed]"
          },
          "metadata": {
            "needs_background": "light"
          }
        }
      ]
    },
    {
      "cell_type": "code",
      "source": [
        "gdf.sample().plot()"
      ],
      "metadata": {
        "colab": {
          "base_uri": "https://localhost:8080/",
          "height": 281
        },
        "id": "i6OjZxCSFkXq",
        "outputId": "443747aa-d2e5-4ec9-9d63-ac5e2fc967db"
      },
      "execution_count": null,
      "outputs": [
        {
          "output_type": "execute_result",
          "data": {
            "text/plain": [
              "<matplotlib.axes._subplots.AxesSubplot at 0x7f5d764a7ed0>"
            ]
          },
          "metadata": {},
          "execution_count": 11
        },
        {
          "output_type": "display_data",
          "data": {
            "text/plain": [
              "<Figure size 432x288 with 1 Axes>"
            ],
            "image/png": "[encoded data removed]"
          },
          "metadata": {
            "needs_background": "light"
          }
        }
      ]
    },
    {
      "cell_type": "code",
      "source": [
        "gdf.info()"
      ],
      "metadata": {
        "colab": {
          "base_uri": "https://localhost:8080/"
        },
        "id": "pHEi5xU3Fkdu",
        "outputId": "a3bd6595-41b8-4ead-b998-f95431920e80"
      },
      "execution_count": null,
      "outputs": [
        {
          "output_type": "stream",
          "name": "stdout",
          "text": [
            "<class 'geopandas.geodataframe.GeoDataFrame'>\n",
            "RangeIndex: 318 entries, 0 to 317\n",
            "Columns: 223 entries, id to geometry\n",
            "dtypes: geometry(1), int64(146), object(76)\n",
            "memory usage: 554.1+ KB\n"
          ]
        }
      ]
    },
    {
      "cell_type": "code",
      "source": [
        "gdf.geometry.head()"
      ],
      "metadata": {
        "colab": {
          "base_uri": "https://localhost:8080/"
        },
        "id": "ugc_jifaJafM",
        "outputId": "e0215d79-da95-41b8-fcd7-9b4f9bdfc89d"
      },
      "execution_count": null,
      "outputs": [
        {
          "output_type": "execute_result",
          "data": {
            "text/plain": [
              "0    MULTIPOLYGON (((-118.20703 34.53902, -118.2069...\n",
              "1    MULTIPOLYGON (((-118.30800 34.03740, -118.3089...\n",
              "2    MULTIPOLYGON (((-118.77621 34.16816, -118.7888...\n",
              "3    MULTIPOLYGON (((-118.37822 34.48811, -118.3781...\n",
              "4    MULTIPOLYGON (((-118.12175 34.10504, -118.1279...\n",
              "Name: geometry, dtype: geometry"
            ]
          },
          "metadata": {},
          "execution_count": 13
        }
      ]
    },
    {
      "cell_type": "code",
      "source": [
        "gdf.head()"
      ],
      "metadata": {
        "colab": {
          "base_uri": "https://localhost:8080/",
          "height": 540
        },
        "id": "EdaLpcBFJamp",
        "outputId": "46e32c1c-3c9b-4843-edb0-0fb60e87a2ad"
      },
      "execution_count": null,
      "outputs": [
        {
          "output_type": "execute_result",
          "data": {
            "text/plain": [
              "                id             name      original_id  p0020001_2020  \\\n",
              "0            acton            Acton            acton           7431   \n",
              "1  adams-normandie  Adams-Normandie  adams-normandie          16922   \n",
              "2     agoura-hills     Agoura Hills     agoura-hills          20299   \n",
              "3       agua-dulce       Agua Dulce       agua-dulce           3510   \n",
              "4         alhambra         Alhambra         alhambra          82876   \n",
              "\n",
              "   p0020002_2020  p0020003_2020  p0020004_2020  p0020005_2020  p0020006_2020  \\\n",
              "0           2076           5355           5072           4736             72   \n",
              "1          11701           5221           4758            978           2668   \n",
              "2           2319          17980          16893          14744            250   \n",
              "3            891           2619           2467           2326             46   \n",
              "4          29917          52959          51348           6939           1345   \n",
              "\n",
              "   p0020007_2020  ...  p0020065_change  p0020066_change  p0020067_change  \\\n",
              "0             33  ...                                                      \n",
              "1             19  ...                                                      \n",
              "2             23  ...             -1.0             -1.0                    \n",
              "3             13  ...                                                      \n",
              "4            137  ...                                                      \n",
              "\n",
              "   p0020068_change  p0020069_change  p0020070_change  p0020071_change  \\\n",
              "0                                                                       \n",
              "1                                                                       \n",
              "2                                                                       \n",
              "3                                                                       \n",
              "4                                                                       \n",
              "\n",
              "   p0020072_change  p0020073_change  \\\n",
              "0                                     \n",
              "1                                     \n",
              "2                                     \n",
              "3                                     \n",
              "4                                     \n",
              "\n",
              "                                            geometry  \n",
              "0  MULTIPOLYGON (((-118.20703 34.53902, -118.2069...  \n",
              "1  MULTIPOLYGON (((-118.30800 34.03740, -118.3089...  \n",
              "2  MULTIPOLYGON (((-118.77621 34.16816, -118.7888...  \n",
              "3  MULTIPOLYGON (((-118.37822 34.48811, -118.3781...  \n",
              "4  MULTIPOLYGON (((-118.12175 34.10504, -118.1279...  \n",
              "\n",
              "[5 rows x 223 columns]"
            ],
            "text/html": [
              "\n",
              "  <div id=\"df-35a59053-8118-4969-9590-ed6b5f69e82f\">\n",
              "    <div class=\"colab-df-container\">\n",
              "      <div>\n",
              "<style scoped>\n",
              "    .dataframe tbody tr th:only-of-type {\n",
              "        vertical-align: middle;\n",
              "    }\n",
              "\n",
              "    .dataframe tbody tr th {\n",
              "        vertical-align: top;\n",
              "    }\n",
              "\n",
              "    .dataframe thead th {\n",
              "        text-align: right;\n",
              "    }\n",
              "</style>\n",
              "<table border=\"1\" class=\"dataframe\">\n",
              "  <thead>\n",
              "    <tr style=\"text-align: right;\">\n",
              "      <th></th>\n",
              "      <th>id</th>\n",
              "      <th>name</th>\n",
              "      <th>original_id</th>\n",
              "      <th>p0020001_2020</th>\n",
              "      <th>p0020002_2020</th>\n",
              "      <th>p0020003_2020</th>\n",
              "      <th>p0020004_2020</th>\n",
              "      <th>p0020005_2020</th>\n",
              "      <th>p0020006_2020</th>\n",
              "      <th>p0020007_2020</th>\n",
              "      <th>...</th>\n",
              "      <th>p0020065_change</th>\n",
              "      <th>p0020066_change</th>\n",
              "      <th>p0020067_change</th>\n",
              "      <th>p0020068_change</th>\n",
              "      <th>p0020069_change</th>\n",
              "      <th>p0020070_change</th>\n",
              "      <th>p0020071_change</th>\n",
              "      <th>p0020072_change</th>\n",
              "      <th>p0020073_change</th>\n",
              "      <th>geometry</th>\n",
              "    </tr>\n",
              "  </thead>\n",
              "  <tbody>\n",
              "    <tr>\n",
              "      <th>0</th>\n",
              "      <td>acton</td>\n",
              "      <td>Acton</td>\n",
              "      <td>acton</td>\n",
              "      <td>7431</td>\n",
              "      <td>2076</td>\n",
              "      <td>5355</td>\n",
              "      <td>5072</td>\n",
              "      <td>4736</td>\n",
              "      <td>72</td>\n",
              "      <td>33</td>\n",
              "      <td>...</td>\n",
              "      <td></td>\n",
              "      <td></td>\n",
              "      <td></td>\n",
              "      <td></td>\n",
              "      <td></td>\n",
              "      <td></td>\n",
              "      <td></td>\n",
              "      <td></td>\n",
              "      <td></td>\n",
              "      <td>MULTIPOLYGON (((-118.20703 34.53902, -118.2069...</td>\n",
              "    </tr>\n",
              "    <tr>\n",
              "      <th>1</th>\n",
              "      <td>adams-normandie</td>\n",
              "      <td>Adams-Normandie</td>\n",
              "      <td>adams-normandie</td>\n",
              "      <td>16922</td>\n",
              "      <td>11701</td>\n",
              "      <td>5221</td>\n",
              "      <td>4758</td>\n",
              "      <td>978</td>\n",
              "      <td>2668</td>\n",
              "      <td>19</td>\n",
              "      <td>...</td>\n",
              "      <td></td>\n",
              "      <td></td>\n",
              "      <td></td>\n",
              "      <td></td>\n",
              "      <td></td>\n",
              "      <td></td>\n",
              "      <td></td>\n",
              "      <td></td>\n",
              "      <td></td>\n",
              "      <td>MULTIPOLYGON (((-118.30800 34.03740, -118.3089...</td>\n",
              "    </tr>\n",
              "    <tr>\n",
              "      <th>2</th>\n",
              "      <td>agoura-hills</td>\n",
              "      <td>Agoura Hills</td>\n",
              "      <td>agoura-hills</td>\n",
              "      <td>20299</td>\n",
              "      <td>2319</td>\n",
              "      <td>17980</td>\n",
              "      <td>16893</td>\n",
              "      <td>14744</td>\n",
              "      <td>250</td>\n",
              "      <td>23</td>\n",
              "      <td>...</td>\n",
              "      <td>-1.0</td>\n",
              "      <td>-1.0</td>\n",
              "      <td></td>\n",
              "      <td></td>\n",
              "      <td></td>\n",
              "      <td></td>\n",
              "      <td></td>\n",
              "      <td></td>\n",
              "      <td></td>\n",
              "      <td>MULTIPOLYGON (((-118.77621 34.16816, -118.7888...</td>\n",
              "    </tr>\n",
              "    <tr>\n",
              "      <th>3</th>\n",
              "      <td>agua-dulce</td>\n",
              "      <td>Agua Dulce</td>\n",
              "      <td>agua-dulce</td>\n",
              "      <td>3510</td>\n",
              "      <td>891</td>\n",
              "      <td>2619</td>\n",
              "      <td>2467</td>\n",
              "      <td>2326</td>\n",
              "      <td>46</td>\n",
              "      <td>13</td>\n",
              "      <td>...</td>\n",
              "      <td></td>\n",
              "      <td></td>\n",
              "      <td></td>\n",
              "      <td></td>\n",
              "      <td></td>\n",
              "      <td></td>\n",
              "      <td></td>\n",
              "      <td></td>\n",
              "      <td></td>\n",
              "      <td>MULTIPOLYGON (((-118.37822 34.48811, -118.3781...</td>\n",
              "    </tr>\n",
              "    <tr>\n",
              "      <th>4</th>\n",
              "      <td>alhambra</td>\n",
              "      <td>Alhambra</td>\n",
              "      <td>alhambra</td>\n",
              "      <td>82876</td>\n",
              "      <td>29917</td>\n",
              "      <td>52959</td>\n",
              "      <td>51348</td>\n",
              "      <td>6939</td>\n",
              "      <td>1345</td>\n",
              "      <td>137</td>\n",
              "      <td>...</td>\n",
              "      <td></td>\n",
              "      <td></td>\n",
              "      <td></td>\n",
              "      <td></td>\n",
              "      <td></td>\n",
              "      <td></td>\n",
              "      <td></td>\n",
              "      <td></td>\n",
              "      <td></td>\n",
              "      <td>MULTIPOLYGON (((-118.12175 34.10504, -118.1279...</td>\n",
              "    </tr>\n",
              "  </tbody>\n",
              "</table>\n",
              "<p>5 rows × 223 columns</p>\n",
              "</div>\n",
              "      <button class=\"colab-df-convert\" onclick=\"convertToInteractive('df-35a59053-8118-4969-9590-ed6b5f69e82f')\"\n",
              "              title=\"Convert this dataframe to an interactive table.\"\n",
              "              style=\"display:none;\">\n",
              "        \n",
              "  <svg xmlns=\"http://www.w3.org/2000/svg\" height=\"24px\"viewBox=\"0 0 24 24\"\n",
              "       width=\"24px\">\n",
              "    <path d=\"M0 0h24v24H0V0z\" fill=\"none\"/>\n",
              "    <path d=\"M18.56 5.44l.94 2.06.94-2.06 2.06-.94-2.06-.94-.94-2.06-.94 2.06-2.06.94zm-11 1L8.5 8.5l.94-2.06 2.06-.94-2.06-.94L8.5 2.5l-.94 2.06-2.06.94zm10 10l.94 2.06.94-2.06 2.06-.94-2.06-.94-.94-2.06-.94 2.06-2.06.94z\"/><path d=\"M17.41 7.96l-1.37-1.37c-.4-.4-.92-.59-1.43-.59-.52 0-1.04.2-1.43.59L10.3 9.45l-7.72 7.72c-.78.78-.78 2.05 0 2.83L4 21.41c.39.39.9.59 1.41.59.51 0 1.02-.2 1.41-.59l7.78-7.78 2.81-2.81c.8-.78.8-2.07 0-2.86zM5.41 20L4 18.59l7.72-7.72 1.47 1.35L5.41 20z\"/>\n",
              "  </svg>\n",
              "      </button>\n",
              "      \n",
              "  <style>\n",
              "    .colab-df-container {\n",
              "      display:flex;\n",
              "      flex-wrap:wrap;\n",
              "      gap: 12px;\n",
              "    }\n",
              "\n",
              "    .colab-df-convert {\n",
              "      background-color: #E8F0FE;\n",
              "      border: none;\n",
              "      border-radius: 50%;\n",
              "      cursor: pointer;\n",
              "      display: none;\n",
              "      fill: #1967D2;\n",
              "      height: 32px;\n",
              "      padding: 0 0 0 0;\n",
              "      width: 32px;\n",
              "    }\n",
              "\n",
              "    .colab-df-convert:hover {\n",
              "      background-color: #E2EBFA;\n",
              "      box-shadow: 0px 1px 2px rgba(60, 64, 67, 0.3), 0px 1px 3px 1px rgba(60, 64, 67, 0.15);\n",
              "      fill: #174EA6;\n",
              "    }\n",
              "\n",
              "    [theme=dark] .colab-df-convert {\n",
              "      background-color: #3B4455;\n",
              "      fill: #D2E3FC;\n",
              "    }\n",
              "\n",
              "    [theme=dark] .colab-df-convert:hover {\n",
              "      background-color: #434B5C;\n",
              "      box-shadow: 0px 1px 3px 1px rgba(0, 0, 0, 0.15);\n",
              "      filter: drop-shadow(0px 1px 2px rgba(0, 0, 0, 0.3));\n",
              "      fill: #FFFFFF;\n",
              "    }\n",
              "  </style>\n",
              "\n",
              "      <script>\n",
              "        const buttonEl =\n",
              "          document.querySelector('#df-35a59053-8118-4969-9590-ed6b5f69e82f button.colab-df-convert');\n",
              "        buttonEl.style.display =\n",
              "          google.colab.kernel.accessAllowed ? 'block' : 'none';\n",
              "\n",
              "        async function convertToInteractive(key) {\n",
              "          const element = document.querySelector('#df-35a59053-8118-4969-9590-ed6b5f69e82f');\n",
              "          const dataTable =\n",
              "            await google.colab.kernel.invokeFunction('convertToInteractive',\n",
              "                                                     [key], {});\n",
              "          if (!dataTable) return;\n",
              "\n",
              "          const docLinkHtml = 'Like what you see? Visit the ' +\n",
              "            '<a target=\"_blank\" href=https://colab.research.google.com/notebooks/data_table.ipynb>data table notebook</a>'\n",
              "            + ' to learn more about interactive tables.';\n",
              "          element.innerHTML = '';\n",
              "          dataTable['output_type'] = 'display_data';\n",
              "          await google.colab.output.renderOutput(dataTable, element);\n",
              "          const docLink = document.createElement('div');\n",
              "          docLink.innerHTML = docLinkHtml;\n",
              "          element.appendChild(docLink);\n",
              "        }\n",
              "      </script>\n",
              "    </div>\n",
              "  </div>\n",
              "  "
            ]
          },
          "metadata": {},
          "execution_count": 14
        }
      ]
    },
    {
      "cell_type": "code",
      "source": [
        "list(gdf)"
      ],
      "metadata": {
        "colab": {
          "base_uri": "https://localhost:8080/"
        },
        "id": "dJdBoJWTJary",
        "outputId": "6e89f443-fbdc-4c5f-c0d1-a93ea6603391"
      },
      "execution_count": null,
      "outputs": [
        {
          "output_type": "execute_result",
          "data": {
            "text/plain": [
              "['id',\n",
              " 'name',\n",
              " 'original_id',\n",
              " 'p0020001_2020',\n",
              " 'p0020002_2020',\n",
              " 'p0020003_2020',\n",
              " 'p0020004_2020',\n",
              " 'p0020005_2020',\n",
              " 'p0020006_2020',\n",
              " 'p0020007_2020',\n",
              " 'p0020008_2020',\n",
              " 'p0020009_2020',\n",
              " 'p0020010_2020',\n",
              " 'p0020011_2020',\n",
              " 'p0020012_2020',\n",
              " 'p0020013_2020',\n",
              " 'p0020014_2020',\n",
              " 'p0020015_2020',\n",
              " 'p0020016_2020',\n",
              " 'p0020017_2020',\n",
              " 'p0020018_2020',\n",
              " 'p0020019_2020',\n",
              " 'p0020020_2020',\n",
              " 'p0020021_2020',\n",
              " 'p0020022_2020',\n",
              " 'p0020023_2020',\n",
              " 'p0020024_2020',\n",
              " 'p0020025_2020',\n",
              " 'p0020026_2020',\n",
              " 'p0020027_2020',\n",
              " 'p0020028_2020',\n",
              " 'p0020029_2020',\n",
              " 'p0020030_2020',\n",
              " 'p0020031_2020',\n",
              " 'p0020032_2020',\n",
              " 'p0020033_2020',\n",
              " 'p0020034_2020',\n",
              " 'p0020035_2020',\n",
              " 'p0020036_2020',\n",
              " 'p0020037_2020',\n",
              " 'p0020038_2020',\n",
              " 'p0020039_2020',\n",
              " 'p0020040_2020',\n",
              " 'p0020041_2020',\n",
              " 'p0020042_2020',\n",
              " 'p0020043_2020',\n",
              " 'p0020044_2020',\n",
              " 'p0020045_2020',\n",
              " 'p0020046_2020',\n",
              " 'p0020047_2020',\n",
              " 'p0020048_2020',\n",
              " 'p0020049_2020',\n",
              " 'p0020050_2020',\n",
              " 'p0020051_2020',\n",
              " 'p0020052_2020',\n",
              " 'p0020053_2020',\n",
              " 'p0020054_2020',\n",
              " 'p0020055_2020',\n",
              " 'p0020056_2020',\n",
              " 'p0020057_2020',\n",
              " 'p0020058_2020',\n",
              " 'p0020059_2020',\n",
              " 'p0020060_2020',\n",
              " 'p0020061_2020',\n",
              " 'p0020062_2020',\n",
              " 'p0020063_2020',\n",
              " 'p0020064_2020',\n",
              " 'p0020065_2020',\n",
              " 'p0020066_2020',\n",
              " 'p0020067_2020',\n",
              " 'p0020068_2020',\n",
              " 'p0020069_2020',\n",
              " 'p0020070_2020',\n",
              " 'p0020071_2020',\n",
              " 'p0020072_2020',\n",
              " 'p0020073_2020',\n",
              " 'p0020001_2010',\n",
              " 'p0020002_2010',\n",
              " 'p0020003_2010',\n",
              " 'p0020004_2010',\n",
              " 'p0020005_2010',\n",
              " 'p0020006_2010',\n",
              " 'p0020007_2010',\n",
              " 'p0020008_2010',\n",
              " 'p0020009_2010',\n",
              " 'p0020010_2010',\n",
              " 'p0020011_2010',\n",
              " 'p0020012_2010',\n",
              " 'p0020013_2010',\n",
              " 'p0020014_2010',\n",
              " 'p0020015_2010',\n",
              " 'p0020016_2010',\n",
              " 'p0020017_2010',\n",
              " 'p0020018_2010',\n",
              " 'p0020019_2010',\n",
              " 'p0020020_2010',\n",
              " 'p0020021_2010',\n",
              " 'p0020022_2010',\n",
              " 'p0020023_2010',\n",
              " 'p0020024_2010',\n",
              " 'p0020025_2010',\n",
              " 'p0020026_2010',\n",
              " 'p0020027_2010',\n",
              " 'p0020028_2010',\n",
              " 'p0020029_2010',\n",
              " 'p0020030_2010',\n",
              " 'p0020031_2010',\n",
              " 'p0020032_2010',\n",
              " 'p0020033_2010',\n",
              " 'p0020034_2010',\n",
              " 'p0020035_2010',\n",
              " 'p0020036_2010',\n",
              " 'p0020037_2010',\n",
              " 'p0020038_2010',\n",
              " 'p0020039_2010',\n",
              " 'p0020040_2010',\n",
              " 'p0020041_2010',\n",
              " 'p0020042_2010',\n",
              " 'p0020043_2010',\n",
              " 'p0020044_2010',\n",
              " 'p0020045_2010',\n",
              " 'p0020046_2010',\n",
              " 'p0020047_2010',\n",
              " 'p0020048_2010',\n",
              " 'p0020049_2010',\n",
              " 'p0020050_2010',\n",
              " 'p0020051_2010',\n",
              " 'p0020052_2010',\n",
              " 'p0020053_2010',\n",
              " 'p0020054_2010',\n",
              " 'p0020055_2010',\n",
              " 'p0020056_2010',\n",
              " 'p0020057_2010',\n",
              " 'p0020058_2010',\n",
              " 'p0020059_2010',\n",
              " 'p0020060_2010',\n",
              " 'p0020061_2010',\n",
              " 'p0020062_2010',\n",
              " 'p0020063_2010',\n",
              " 'p0020064_2010',\n",
              " 'p0020065_2010',\n",
              " 'p0020066_2010',\n",
              " 'p0020067_2010',\n",
              " 'p0020068_2010',\n",
              " 'p0020069_2010',\n",
              " 'p0020070_2010',\n",
              " 'p0020071_2010',\n",
              " 'p0020072_2010',\n",
              " 'p0020073_2010',\n",
              " 'p0020001_change',\n",
              " 'p0020002_change',\n",
              " 'p0020003_change',\n",
              " 'p0020004_change',\n",
              " 'p0020005_change',\n",
              " 'p0020006_change',\n",
              " 'p0020007_change',\n",
              " 'p0020008_change',\n",
              " 'p0020009_change',\n",
              " 'p0020010_change',\n",
              " 'p0020011_change',\n",
              " 'p0020012_change',\n",
              " 'p0020013_change',\n",
              " 'p0020014_change',\n",
              " 'p0020015_change',\n",
              " 'p0020016_change',\n",
              " 'p0020017_change',\n",
              " 'p0020018_change',\n",
              " 'p0020019_change',\n",
              " 'p0020020_change',\n",
              " 'p0020021_change',\n",
              " 'p0020022_change',\n",
              " 'p0020023_change',\n",
              " 'p0020024_change',\n",
              " 'p0020025_change',\n",
              " 'p0020026_change',\n",
              " 'p0020027_change',\n",
              " 'p0020028_change',\n",
              " 'p0020029_change',\n",
              " 'p0020030_change',\n",
              " 'p0020031_change',\n",
              " 'p0020032_change',\n",
              " 'p0020033_change',\n",
              " 'p0020034_change',\n",
              " 'p0020035_change',\n",
              " 'p0020036_change',\n",
              " 'p0020037_change',\n",
              " 'p0020038_change',\n",
              " 'p0020039_change',\n",
              " 'p0020040_change',\n",
              " 'p0020041_change',\n",
              " 'p0020042_change',\n",
              " 'p0020043_change',\n",
              " 'p0020044_change',\n",
              " 'p0020045_change',\n",
              " 'p0020046_change',\n",
              " 'p0020047_change',\n",
              " 'p0020048_change',\n",
              " 'p0020049_change',\n",
              " 'p0020050_change',\n",
              " 'p0020051_change',\n",
              " 'p0020052_change',\n",
              " 'p0020053_change',\n",
              " 'p0020054_change',\n",
              " 'p0020055_change',\n",
              " 'p0020056_change',\n",
              " 'p0020057_change',\n",
              " 'p0020058_change',\n",
              " 'p0020059_change',\n",
              " 'p0020060_change',\n",
              " 'p0020061_change',\n",
              " 'p0020062_change',\n",
              " 'p0020063_change',\n",
              " 'p0020064_change',\n",
              " 'p0020065_change',\n",
              " 'p0020066_change',\n",
              " 'p0020067_change',\n",
              " 'p0020068_change',\n",
              " 'p0020069_change',\n",
              " 'p0020070_change',\n",
              " 'p0020071_change',\n",
              " 'p0020072_change',\n",
              " 'p0020073_change',\n",
              " 'geometry']"
            ]
          },
          "metadata": {},
          "execution_count": 15
        }
      ]
    },
    {
      "cell_type": "code",
      "source": [
        "columns_to_keep = ['name',\n",
        " 'p0020001_2020',\n",
        " 'p0020002_2020',\n",
        " 'p0020003_2020',\n",
        " 'p0020005_2020',\n",
        " 'p0020006_2020',\n",
        " 'p0020007_2020',\n",
        " 'p0020008_2020',\n",
        " 'p0020009_2020',\n",
        " 'p0020010_2020',\n",
        " 'p0020011_2020',\n",
        " 'p0020001_2010',\n",
        " 'p0020002_2010',\n",
        " 'p0020003_2010',\n",
        " 'p0020005_2010',\n",
        " 'p0020006_2010',\n",
        " 'p0020007_2010',\n",
        " 'p0020008_2010',\n",
        " 'p0020009_2010',\n",
        " 'p0020010_2010',\n",
        " 'p0020011_2010','geometry']"
      ],
      "metadata": {
        "id": "U5LEGzA0Jaw-"
      },
      "execution_count": null,
      "outputs": []
    },
    {
      "cell_type": "code",
      "source": [
        "gdf=gdf[columns_to_keep]"
      ],
      "metadata": {
        "id": "tyteeWENMhdr"
      },
      "execution_count": null,
      "outputs": []
    },
    {
      "cell_type": "code",
      "source": [
        "gdf.head()"
      ],
      "metadata": {
        "colab": {
          "base_uri": "https://localhost:8080/",
          "height": 540
        },
        "id": "Ifm8_3R6MTxR",
        "outputId": "9d9296d7-076e-4655-cc1a-792d85865384"
      },
      "execution_count": null,
      "outputs": [
        {
          "output_type": "execute_result",
          "data": {
            "text/plain": [
              "              name  p0020001_2020  p0020002_2020  p0020003_2020  \\\n",
              "0            Acton           7431           2076           5355   \n",
              "1  Adams-Normandie          16922          11701           5221   \n",
              "2     Agoura Hills          20299           2319          17980   \n",
              "3       Agua Dulce           3510            891           2619   \n",
              "4         Alhambra          82876          29917          52959   \n",
              "\n",
              "   p0020005_2020  p0020006_2020  p0020007_2020  p0020008_2020  p0020009_2020  \\\n",
              "0           4736             72             33            153             11   \n",
              "1            978           2668             19            970              7   \n",
              "2          14744            250             23           1740              6   \n",
              "3           2326             46             13             59              2   \n",
              "4           6939           1345            137          42555             68   \n",
              "\n",
              "   p0020010_2020  ...  p0020002_2010  p0020003_2010  p0020005_2010  \\\n",
              "0             67  ...           1373           6223           5782   \n",
              "1            116  ...          12245           4902            612   \n",
              "2            130  ...           1936          18394          15971   \n",
              "3             21  ...            614           2758           2542   \n",
              "4            304  ...          28656          54538           8350   \n",
              "\n",
              "   p0020006_2010  p0020007_2010  p0020008_2010  p0020009_2010  p0020010_2010  \\\n",
              "0             54             38            151              2             16   \n",
              "1           3281             25            595              8            151   \n",
              "2            256             26           1503             22             51   \n",
              "3             51             19             71              2              4   \n",
              "4           1079            117          43642             54            100   \n",
              "\n",
              "   p0020011_2010                                           geometry  \n",
              "0            180  MULTIPOLYGON (((-118.20703 34.53902, -118.2069...  \n",
              "1            230  MULTIPOLYGON (((-118.30800 34.03740, -118.3089...  \n",
              "2            565  MULTIPOLYGON (((-118.77621 34.16816, -118.7888...  \n",
              "3             69  MULTIPOLYGON (((-118.37822 34.48811, -118.3781...  \n",
              "4           1196  MULTIPOLYGON (((-118.12175 34.10504, -118.1279...  \n",
              "\n",
              "[5 rows x 22 columns]"
            ],
            "text/html": [
              "\n",
              "  <div id=\"df-4ccd9417-fefe-4c0f-8486-9c520635454c\">\n",
              "    <div class=\"colab-df-container\">\n",
              "      <div>\n",
              "<style scoped>\n",
              "    .dataframe tbody tr th:only-of-type {\n",
              "        vertical-align: middle;\n",
              "    }\n",
              "\n",
              "    .dataframe tbody tr th {\n",
              "        vertical-align: top;\n",
              "    }\n",
              "\n",
              "    .dataframe thead th {\n",
              "        text-align: right;\n",
              "    }\n",
              "</style>\n",
              "<table border=\"1\" class=\"dataframe\">\n",
              "  <thead>\n",
              "    <tr style=\"text-align: right;\">\n",
              "      <th></th>\n",
              "      <th>name</th>\n",
              "      <th>p0020001_2020</th>\n",
              "      <th>p0020002_2020</th>\n",
              "      <th>p0020003_2020</th>\n",
              "      <th>p0020005_2020</th>\n",
              "      <th>p0020006_2020</th>\n",
              "      <th>p0020007_2020</th>\n",
              "      <th>p0020008_2020</th>\n",
              "      <th>p0020009_2020</th>\n",
              "      <th>p0020010_2020</th>\n",
              "      <th>...</th>\n",
              "      <th>p0020002_2010</th>\n",
              "      <th>p0020003_2010</th>\n",
              "      <th>p0020005_2010</th>\n",
              "      <th>p0020006_2010</th>\n",
              "      <th>p0020007_2010</th>\n",
              "      <th>p0020008_2010</th>\n",
              "      <th>p0020009_2010</th>\n",
              "      <th>p0020010_2010</th>\n",
              "      <th>p0020011_2010</th>\n",
              "      <th>geometry</th>\n",
              "    </tr>\n",
              "  </thead>\n",
              "  <tbody>\n",
              "    <tr>\n",
              "      <th>0</th>\n",
              "      <td>Acton</td>\n",
              "      <td>7431</td>\n",
              "      <td>2076</td>\n",
              "      <td>5355</td>\n",
              "      <td>4736</td>\n",
              "      <td>72</td>\n",
              "      <td>33</td>\n",
              "      <td>153</td>\n",
              "      <td>11</td>\n",
              "      <td>67</td>\n",
              "      <td>...</td>\n",
              "      <td>1373</td>\n",
              "      <td>6223</td>\n",
              "      <td>5782</td>\n",
              "      <td>54</td>\n",
              "      <td>38</td>\n",
              "      <td>151</td>\n",
              "      <td>2</td>\n",
              "      <td>16</td>\n",
              "      <td>180</td>\n",
              "      <td>MULTIPOLYGON (((-118.20703 34.53902, -118.2069...</td>\n",
              "    </tr>\n",
              "    <tr>\n",
              "      <th>1</th>\n",
              "      <td>Adams-Normandie</td>\n",
              "      <td>16922</td>\n",
              "      <td>11701</td>\n",
              "      <td>5221</td>\n",
              "      <td>978</td>\n",
              "      <td>2668</td>\n",
              "      <td>19</td>\n",
              "      <td>970</td>\n",
              "      <td>7</td>\n",
              "      <td>116</td>\n",
              "      <td>...</td>\n",
              "      <td>12245</td>\n",
              "      <td>4902</td>\n",
              "      <td>612</td>\n",
              "      <td>3281</td>\n",
              "      <td>25</td>\n",
              "      <td>595</td>\n",
              "      <td>8</td>\n",
              "      <td>151</td>\n",
              "      <td>230</td>\n",
              "      <td>MULTIPOLYGON (((-118.30800 34.03740, -118.3089...</td>\n",
              "    </tr>\n",
              "    <tr>\n",
              "      <th>2</th>\n",
              "      <td>Agoura Hills</td>\n",
              "      <td>20299</td>\n",
              "      <td>2319</td>\n",
              "      <td>17980</td>\n",
              "      <td>14744</td>\n",
              "      <td>250</td>\n",
              "      <td>23</td>\n",
              "      <td>1740</td>\n",
              "      <td>6</td>\n",
              "      <td>130</td>\n",
              "      <td>...</td>\n",
              "      <td>1936</td>\n",
              "      <td>18394</td>\n",
              "      <td>15971</td>\n",
              "      <td>256</td>\n",
              "      <td>26</td>\n",
              "      <td>1503</td>\n",
              "      <td>22</td>\n",
              "      <td>51</td>\n",
              "      <td>565</td>\n",
              "      <td>MULTIPOLYGON (((-118.77621 34.16816, -118.7888...</td>\n",
              "    </tr>\n",
              "    <tr>\n",
              "      <th>3</th>\n",
              "      <td>Agua Dulce</td>\n",
              "      <td>3510</td>\n",
              "      <td>891</td>\n",
              "      <td>2619</td>\n",
              "      <td>2326</td>\n",
              "      <td>46</td>\n",
              "      <td>13</td>\n",
              "      <td>59</td>\n",
              "      <td>2</td>\n",
              "      <td>21</td>\n",
              "      <td>...</td>\n",
              "      <td>614</td>\n",
              "      <td>2758</td>\n",
              "      <td>2542</td>\n",
              "      <td>51</td>\n",
              "      <td>19</td>\n",
              "      <td>71</td>\n",
              "      <td>2</td>\n",
              "      <td>4</td>\n",
              "      <td>69</td>\n",
              "      <td>MULTIPOLYGON (((-118.37822 34.48811, -118.3781...</td>\n",
              "    </tr>\n",
              "    <tr>\n",
              "      <th>4</th>\n",
              "      <td>Alhambra</td>\n",
              "      <td>82876</td>\n",
              "      <td>29917</td>\n",
              "      <td>52959</td>\n",
              "      <td>6939</td>\n",
              "      <td>1345</td>\n",
              "      <td>137</td>\n",
              "      <td>42555</td>\n",
              "      <td>68</td>\n",
              "      <td>304</td>\n",
              "      <td>...</td>\n",
              "      <td>28656</td>\n",
              "      <td>54538</td>\n",
              "      <td>8350</td>\n",
              "      <td>1079</td>\n",
              "      <td>117</td>\n",
              "      <td>43642</td>\n",
              "      <td>54</td>\n",
              "      <td>100</td>\n",
              "      <td>1196</td>\n",
              "      <td>MULTIPOLYGON (((-118.12175 34.10504, -118.1279...</td>\n",
              "    </tr>\n",
              "  </tbody>\n",
              "</table>\n",
              "<p>5 rows × 22 columns</p>\n",
              "</div>\n",
              "      <button class=\"colab-df-convert\" onclick=\"convertToInteractive('df-4ccd9417-fefe-4c0f-8486-9c520635454c')\"\n",
              "              title=\"Convert this dataframe to an interactive table.\"\n",
              "              style=\"display:none;\">\n",
              "        \n",
              "  <svg xmlns=\"http://www.w3.org/2000/svg\" height=\"24px\"viewBox=\"0 0 24 24\"\n",
              "       width=\"24px\">\n",
              "    <path d=\"M0 0h24v24H0V0z\" fill=\"none\"/>\n",
              "    <path d=\"M18.56 5.44l.94 2.06.94-2.06 2.06-.94-2.06-.94-.94-2.06-.94 2.06-2.06.94zm-11 1L8.5 8.5l.94-2.06 2.06-.94-2.06-.94L8.5 2.5l-.94 2.06-2.06.94zm10 10l.94 2.06.94-2.06 2.06-.94-2.06-.94-.94-2.06-.94 2.06-2.06.94z\"/><path d=\"M17.41 7.96l-1.37-1.37c-.4-.4-.92-.59-1.43-.59-.52 0-1.04.2-1.43.59L10.3 9.45l-7.72 7.72c-.78.78-.78 2.05 0 2.83L4 21.41c.39.39.9.59 1.41.59.51 0 1.02-.2 1.41-.59l7.78-7.78 2.81-2.81c.8-.78.8-2.07 0-2.86zM5.41 20L4 18.59l7.72-7.72 1.47 1.35L5.41 20z\"/>\n",
              "  </svg>\n",
              "      </button>\n",
              "      \n",
              "  <style>\n",
              "    .colab-df-container {\n",
              "      display:flex;\n",
              "      flex-wrap:wrap;\n",
              "      gap: 12px;\n",
              "    }\n",
              "\n",
              "    .colab-df-convert {\n",
              "      background-color: #E8F0FE;\n",
              "      border: none;\n",
              "      border-radius: 50%;\n",
              "      cursor: pointer;\n",
              "      display: none;\n",
              "      fill: #1967D2;\n",
              "      height: 32px;\n",
              "      padding: 0 0 0 0;\n",
              "      width: 32px;\n",
              "    }\n",
              "\n",
              "    .colab-df-convert:hover {\n",
              "      background-color: #E2EBFA;\n",
              "      box-shadow: 0px 1px 2px rgba(60, 64, 67, 0.3), 0px 1px 3px 1px rgba(60, 64, 67, 0.15);\n",
              "      fill: #174EA6;\n",
              "    }\n",
              "\n",
              "    [theme=dark] .colab-df-convert {\n",
              "      background-color: #3B4455;\n",
              "      fill: #D2E3FC;\n",
              "    }\n",
              "\n",
              "    [theme=dark] .colab-df-convert:hover {\n",
              "      background-color: #434B5C;\n",
              "      box-shadow: 0px 1px 3px 1px rgba(0, 0, 0, 0.15);\n",
              "      filter: drop-shadow(0px 1px 2px rgba(0, 0, 0, 0.3));\n",
              "      fill: #FFFFFF;\n",
              "    }\n",
              "  </style>\n",
              "\n",
              "      <script>\n",
              "        const buttonEl =\n",
              "          document.querySelector('#df-4ccd9417-fefe-4c0f-8486-9c520635454c button.colab-df-convert');\n",
              "        buttonEl.style.display =\n",
              "          google.colab.kernel.accessAllowed ? 'block' : 'none';\n",
              "\n",
              "        async function convertToInteractive(key) {\n",
              "          const element = document.querySelector('#df-4ccd9417-fefe-4c0f-8486-9c520635454c');\n",
              "          const dataTable =\n",
              "            await google.colab.kernel.invokeFunction('convertToInteractive',\n",
              "                                                     [key], {});\n",
              "          if (!dataTable) return;\n",
              "\n",
              "          const docLinkHtml = 'Like what you see? Visit the ' +\n",
              "            '<a target=\"_blank\" href=https://colab.research.google.com/notebooks/data_table.ipynb>data table notebook</a>'\n",
              "            + ' to learn more about interactive tables.';\n",
              "          element.innerHTML = '';\n",
              "          dataTable['output_type'] = 'display_data';\n",
              "          await google.colab.output.renderOutput(dataTable, element);\n",
              "          const docLink = document.createElement('div');\n",
              "          docLink.innerHTML = docLinkHtml;\n",
              "          element.appendChild(docLink);\n",
              "        }\n",
              "      </script>\n",
              "    </div>\n",
              "  </div>\n",
              "  "
            ]
          },
          "metadata": {},
          "execution_count": 18
        }
      ]
    },
    {
      "cell_type": "code",
      "source": [
        "list(gdf)"
      ],
      "metadata": {
        "colab": {
          "base_uri": "https://localhost:8080/"
        },
        "id": "Uvdmw_DSJa1c",
        "outputId": "e55d4939-c0fe-403a-80aa-4aa5300a4d56"
      },
      "execution_count": null,
      "outputs": [
        {
          "output_type": "execute_result",
          "data": {
            "text/plain": [
              "['name',\n",
              " 'p0020001_2020',\n",
              " 'p0020002_2020',\n",
              " 'p0020003_2020',\n",
              " 'p0020005_2020',\n",
              " 'p0020006_2020',\n",
              " 'p0020007_2020',\n",
              " 'p0020008_2020',\n",
              " 'p0020009_2020',\n",
              " 'p0020010_2020',\n",
              " 'p0020011_2020',\n",
              " 'p0020001_2010',\n",
              " 'p0020002_2010',\n",
              " 'p0020003_2010',\n",
              " 'p0020005_2010',\n",
              " 'p0020006_2010',\n",
              " 'p0020007_2010',\n",
              " 'p0020008_2010',\n",
              " 'p0020009_2010',\n",
              " 'p0020010_2010',\n",
              " 'p0020011_2010',\n",
              " 'geometry']"
            ]
          },
          "metadata": {},
          "execution_count": 19
        }
      ]
    },
    {
      "cell_type": "code",
      "source": [
        "columns_to_keep = ['name',\n",
        " 'p0020001_2020',\n",
        " 'p0020002_2020',\n",
        " 'p0020003_2020',\n",
        " 'p0020005_2020',\n",
        " 'p0020006_2020',\n",
        " 'p0020007_2020',\n",
        " 'p0020008_2020',\n",
        " 'p0020009_2020',\n",
        " 'p0020010_2020',\n",
        " 'p0020011_2020',\n",
        " 'p0020001_2010',\n",
        " 'p0020002_2010',\n",
        " 'p0020003_2010',\n",
        " 'p0020005_2010',\n",
        " 'p0020006_2010',\n",
        " 'p0020007_2010',\n",
        " 'p0020008_2010',\n",
        " 'p0020009_2010',\n",
        " 'p0020010_2010',\n",
        " 'p0020011_2010','geometry']"
      ],
      "metadata": {
        "id": "PEgcaqYm9p26"
      },
      "execution_count": null,
      "outputs": []
    },
    {
      "cell_type": "code",
      "source": [
        "gdf=gdf[columns_to_keep]"
      ],
      "metadata": {
        "id": "GwdzfDtC_TgX"
      },
      "execution_count": null,
      "outputs": []
    },
    {
      "cell_type": "code",
      "source": [
        "gdf.head()"
      ],
      "metadata": {
        "colab": {
          "base_uri": "https://localhost:8080/",
          "height": 540
        },
        "id": "Hd7qKac8_YJi",
        "outputId": "6123f032-e0cd-429c-bc83-9a16a4bbf783"
      },
      "execution_count": null,
      "outputs": [
        {
          "output_type": "execute_result",
          "data": {
            "text/plain": [
              "              name  p0020001_2020  p0020002_2020  p0020003_2020  \\\n",
              "0            Acton           7431           2076           5355   \n",
              "1  Adams-Normandie          16922          11701           5221   \n",
              "2     Agoura Hills          20299           2319          17980   \n",
              "3       Agua Dulce           3510            891           2619   \n",
              "4         Alhambra          82876          29917          52959   \n",
              "\n",
              "   p0020005_2020  p0020006_2020  p0020007_2020  p0020008_2020  p0020009_2020  \\\n",
              "0           4736             72             33            153             11   \n",
              "1            978           2668             19            970              7   \n",
              "2          14744            250             23           1740              6   \n",
              "3           2326             46             13             59              2   \n",
              "4           6939           1345            137          42555             68   \n",
              "\n",
              "   p0020010_2020  ...  p0020002_2010  p0020003_2010  p0020005_2010  \\\n",
              "0             67  ...           1373           6223           5782   \n",
              "1            116  ...          12245           4902            612   \n",
              "2            130  ...           1936          18394          15971   \n",
              "3             21  ...            614           2758           2542   \n",
              "4            304  ...          28656          54538           8350   \n",
              "\n",
              "   p0020006_2010  p0020007_2010  p0020008_2010  p0020009_2010  p0020010_2010  \\\n",
              "0             54             38            151              2             16   \n",
              "1           3281             25            595              8            151   \n",
              "2            256             26           1503             22             51   \n",
              "3             51             19             71              2              4   \n",
              "4           1079            117          43642             54            100   \n",
              "\n",
              "   p0020011_2010                                           geometry  \n",
              "0            180  MULTIPOLYGON (((-118.20703 34.53902, -118.2069...  \n",
              "1            230  MULTIPOLYGON (((-118.30800 34.03740, -118.3089...  \n",
              "2            565  MULTIPOLYGON (((-118.77621 34.16816, -118.7888...  \n",
              "3             69  MULTIPOLYGON (((-118.37822 34.48811, -118.3781...  \n",
              "4           1196  MULTIPOLYGON (((-118.12175 34.10504, -118.1279...  \n",
              "\n",
              "[5 rows x 22 columns]"
            ],
            "text/html": [
              "\n",
              "  <div id=\"df-e883821f-2d09-4788-ab1b-ea6f5cb2450e\">\n",
              "    <div class=\"colab-df-container\">\n",
              "      <div>\n",
              "<style scoped>\n",
              "    .dataframe tbody tr th:only-of-type {\n",
              "        vertical-align: middle;\n",
              "    }\n",
              "\n",
              "    .dataframe tbody tr th {\n",
              "        vertical-align: top;\n",
              "    }\n",
              "\n",
              "    .dataframe thead th {\n",
              "        text-align: right;\n",
              "    }\n",
              "</style>\n",
              "<table border=\"1\" class=\"dataframe\">\n",
              "  <thead>\n",
              "    <tr style=\"text-align: right;\">\n",
              "      <th></th>\n",
              "      <th>name</th>\n",
              "      <th>p0020001_2020</th>\n",
              "      <th>p0020002_2020</th>\n",
              "      <th>p0020003_2020</th>\n",
              "      <th>p0020005_2020</th>\n",
              "      <th>p0020006_2020</th>\n",
              "      <th>p0020007_2020</th>\n",
              "      <th>p0020008_2020</th>\n",
              "      <th>p0020009_2020</th>\n",
              "      <th>p0020010_2020</th>\n",
              "      <th>...</th>\n",
              "      <th>p0020002_2010</th>\n",
              "      <th>p0020003_2010</th>\n",
              "      <th>p0020005_2010</th>\n",
              "      <th>p0020006_2010</th>\n",
              "      <th>p0020007_2010</th>\n",
              "      <th>p0020008_2010</th>\n",
              "      <th>p0020009_2010</th>\n",
              "      <th>p0020010_2010</th>\n",
              "      <th>p0020011_2010</th>\n",
              "      <th>geometry</th>\n",
              "    </tr>\n",
              "  </thead>\n",
              "  <tbody>\n",
              "    <tr>\n",
              "      <th>0</th>\n",
              "      <td>Acton</td>\n",
              "      <td>7431</td>\n",
              "      <td>2076</td>\n",
              "      <td>5355</td>\n",
              "      <td>4736</td>\n",
              "      <td>72</td>\n",
              "      <td>33</td>\n",
              "      <td>153</td>\n",
              "      <td>11</td>\n",
              "      <td>67</td>\n",
              "      <td>...</td>\n",
              "      <td>1373</td>\n",
              "      <td>6223</td>\n",
              "      <td>5782</td>\n",
              "      <td>54</td>\n",
              "      <td>38</td>\n",
              "      <td>151</td>\n",
              "      <td>2</td>\n",
              "      <td>16</td>\n",
              "      <td>180</td>\n",
              "      <td>MULTIPOLYGON (((-118.20703 34.53902, -118.2069...</td>\n",
              "    </tr>\n",
              "    <tr>\n",
              "      <th>1</th>\n",
              "      <td>Adams-Normandie</td>\n",
              "      <td>16922</td>\n",
              "      <td>11701</td>\n",
              "      <td>5221</td>\n",
              "      <td>978</td>\n",
              "      <td>2668</td>\n",
              "      <td>19</td>\n",
              "      <td>970</td>\n",
              "      <td>7</td>\n",
              "      <td>116</td>\n",
              "      <td>...</td>\n",
              "      <td>12245</td>\n",
              "      <td>4902</td>\n",
              "      <td>612</td>\n",
              "      <td>3281</td>\n",
              "      <td>25</td>\n",
              "      <td>595</td>\n",
              "      <td>8</td>\n",
              "      <td>151</td>\n",
              "      <td>230</td>\n",
              "      <td>MULTIPOLYGON (((-118.30800 34.03740, -118.3089...</td>\n",
              "    </tr>\n",
              "    <tr>\n",
              "      <th>2</th>\n",
              "      <td>Agoura Hills</td>\n",
              "      <td>20299</td>\n",
              "      <td>2319</td>\n",
              "      <td>17980</td>\n",
              "      <td>14744</td>\n",
              "      <td>250</td>\n",
              "      <td>23</td>\n",
              "      <td>1740</td>\n",
              "      <td>6</td>\n",
              "      <td>130</td>\n",
              "      <td>...</td>\n",
              "      <td>1936</td>\n",
              "      <td>18394</td>\n",
              "      <td>15971</td>\n",
              "      <td>256</td>\n",
              "      <td>26</td>\n",
              "      <td>1503</td>\n",
              "      <td>22</td>\n",
              "      <td>51</td>\n",
              "      <td>565</td>\n",
              "      <td>MULTIPOLYGON (((-118.77621 34.16816, -118.7888...</td>\n",
              "    </tr>\n",
              "    <tr>\n",
              "      <th>3</th>\n",
              "      <td>Agua Dulce</td>\n",
              "      <td>3510</td>\n",
              "      <td>891</td>\n",
              "      <td>2619</td>\n",
              "      <td>2326</td>\n",
              "      <td>46</td>\n",
              "      <td>13</td>\n",
              "      <td>59</td>\n",
              "      <td>2</td>\n",
              "      <td>21</td>\n",
              "      <td>...</td>\n",
              "      <td>614</td>\n",
              "      <td>2758</td>\n",
              "      <td>2542</td>\n",
              "      <td>51</td>\n",
              "      <td>19</td>\n",
              "      <td>71</td>\n",
              "      <td>2</td>\n",
              "      <td>4</td>\n",
              "      <td>69</td>\n",
              "      <td>MULTIPOLYGON (((-118.37822 34.48811, -118.3781...</td>\n",
              "    </tr>\n",
              "    <tr>\n",
              "      <th>4</th>\n",
              "      <td>Alhambra</td>\n",
              "      <td>82876</td>\n",
              "      <td>29917</td>\n",
              "      <td>52959</td>\n",
              "      <td>6939</td>\n",
              "      <td>1345</td>\n",
              "      <td>137</td>\n",
              "      <td>42555</td>\n",
              "      <td>68</td>\n",
              "      <td>304</td>\n",
              "      <td>...</td>\n",
              "      <td>28656</td>\n",
              "      <td>54538</td>\n",
              "      <td>8350</td>\n",
              "      <td>1079</td>\n",
              "      <td>117</td>\n",
              "      <td>43642</td>\n",
              "      <td>54</td>\n",
              "      <td>100</td>\n",
              "      <td>1196</td>\n",
              "      <td>MULTIPOLYGON (((-118.12175 34.10504, -118.1279...</td>\n",
              "    </tr>\n",
              "  </tbody>\n",
              "</table>\n",
              "<p>5 rows × 22 columns</p>\n",
              "</div>\n",
              "      <button class=\"colab-df-convert\" onclick=\"convertToInteractive('df-e883821f-2d09-4788-ab1b-ea6f5cb2450e')\"\n",
              "              title=\"Convert this dataframe to an interactive table.\"\n",
              "              style=\"display:none;\">\n",
              "        \n",
              "  <svg xmlns=\"http://www.w3.org/2000/svg\" height=\"24px\"viewBox=\"0 0 24 24\"\n",
              "       width=\"24px\">\n",
              "    <path d=\"M0 0h24v24H0V0z\" fill=\"none\"/>\n",
              "    <path d=\"M18.56 5.44l.94 2.06.94-2.06 2.06-.94-2.06-.94-.94-2.06-.94 2.06-2.06.94zm-11 1L8.5 8.5l.94-2.06 2.06-.94-2.06-.94L8.5 2.5l-.94 2.06-2.06.94zm10 10l.94 2.06.94-2.06 2.06-.94-2.06-.94-.94-2.06-.94 2.06-2.06.94z\"/><path d=\"M17.41 7.96l-1.37-1.37c-.4-.4-.92-.59-1.43-.59-.52 0-1.04.2-1.43.59L10.3 9.45l-7.72 7.72c-.78.78-.78 2.05 0 2.83L4 21.41c.39.39.9.59 1.41.59.51 0 1.02-.2 1.41-.59l7.78-7.78 2.81-2.81c.8-.78.8-2.07 0-2.86zM5.41 20L4 18.59l7.72-7.72 1.47 1.35L5.41 20z\"/>\n",
              "  </svg>\n",
              "      </button>\n",
              "      \n",
              "  <style>\n",
              "    .colab-df-container {\n",
              "      display:flex;\n",
              "      flex-wrap:wrap;\n",
              "      gap: 12px;\n",
              "    }\n",
              "\n",
              "    .colab-df-convert {\n",
              "      background-color: #E8F0FE;\n",
              "      border: none;\n",
              "      border-radius: 50%;\n",
              "      cursor: pointer;\n",
              "      display: none;\n",
              "      fill: #1967D2;\n",
              "      height: 32px;\n",
              "      padding: 0 0 0 0;\n",
              "      width: 32px;\n",
              "    }\n",
              "\n",
              "    .colab-df-convert:hover {\n",
              "      background-color: #E2EBFA;\n",
              "      box-shadow: 0px 1px 2px rgba(60, 64, 67, 0.3), 0px 1px 3px 1px rgba(60, 64, 67, 0.15);\n",
              "      fill: #174EA6;\n",
              "    }\n",
              "\n",
              "    [theme=dark] .colab-df-convert {\n",
              "      background-color: #3B4455;\n",
              "      fill: #D2E3FC;\n",
              "    }\n",
              "\n",
              "    [theme=dark] .colab-df-convert:hover {\n",
              "      background-color: #434B5C;\n",
              "      box-shadow: 0px 1px 3px 1px rgba(0, 0, 0, 0.15);\n",
              "      filter: drop-shadow(0px 1px 2px rgba(0, 0, 0, 0.3));\n",
              "      fill: #FFFFFF;\n",
              "    }\n",
              "  </style>\n",
              "\n",
              "      <script>\n",
              "        const buttonEl =\n",
              "          document.querySelector('#df-e883821f-2d09-4788-ab1b-ea6f5cb2450e button.colab-df-convert');\n",
              "        buttonEl.style.display =\n",
              "          google.colab.kernel.accessAllowed ? 'block' : 'none';\n",
              "\n",
              "        async function convertToInteractive(key) {\n",
              "          const element = document.querySelector('#df-e883821f-2d09-4788-ab1b-ea6f5cb2450e');\n",
              "          const dataTable =\n",
              "            await google.colab.kernel.invokeFunction('convertToInteractive',\n",
              "                                                     [key], {});\n",
              "          if (!dataTable) return;\n",
              "\n",
              "          const docLinkHtml = 'Like what you see? Visit the ' +\n",
              "            '<a target=\"_blank\" href=https://colab.research.google.com/notebooks/data_table.ipynb>data table notebook</a>'\n",
              "            + ' to learn more about interactive tables.';\n",
              "          element.innerHTML = '';\n",
              "          dataTable['output_type'] = 'display_data';\n",
              "          await google.colab.output.renderOutput(dataTable, element);\n",
              "          const docLink = document.createElement('div');\n",
              "          docLink.innerHTML = docLinkHtml;\n",
              "          element.appendChild(docLink);\n",
              "        }\n",
              "      </script>\n",
              "    </div>\n",
              "  </div>\n",
              "  "
            ]
          },
          "metadata": {},
          "execution_count": 22
        }
      ]
    },
    {
      "cell_type": "code",
      "source": [
        "gdf.columns=['name','Total_2020','Total_2010', 'Total_Not_Hispanic_or_Latino_2020','Total_Not_Hispanic_or_Latino_2010','White_2020','White_2010','Black_2020','Black_2010','American_Indian_and_Alaska_2020','American_Indian_and_Alaska_2010','Asian_2020','Asian_2010','Native Hawaiian Pacific Islander_2020','Native Hawaiian Pacific Islander_2010','Some other race_2020','Some other race 2010','Two or more races_2020', 'Two or more races_2010','Hispanic_2020','Hispanic_2010','geometry']"
      ],
      "metadata": {
        "id": "K5Bgxx1NJa5D"
      },
      "execution_count": null,
      "outputs": []
    },
    {
      "cell_type": "code",
      "source": [
        "gdf.head()"
      ],
      "metadata": {
        "colab": {
          "base_uri": "https://localhost:8080/",
          "height": 589
        },
        "id": "u_71mNjuJa8f",
        "outputId": "7f739297-eee7-41b4-b450-e45c02efbb9f"
      },
      "execution_count": null,
      "outputs": [
        {
          "output_type": "execute_result",
          "data": {
            "text/plain": [
              "              name  Total_2020  Total_2010  Total_Not_Hispanic_or_Latino_2020  \\\n",
              "0            Acton        7431        2076                               5355   \n",
              "1  Adams-Normandie       16922       11701                               5221   \n",
              "2     Agoura Hills       20299        2319                              17980   \n",
              "3       Agua Dulce        3510         891                               2619   \n",
              "4         Alhambra       82876       29917                              52959   \n",
              "\n",
              "   Total_Not_Hispanic_or_Latino_2010  White_2020  White_2010  Black_2020  \\\n",
              "0                               4736          72          33         153   \n",
              "1                                978        2668          19         970   \n",
              "2                              14744         250          23        1740   \n",
              "3                               2326          46          13          59   \n",
              "4                               6939        1345         137       42555   \n",
              "\n",
              "   Black_2010  American_Indian_and_Alaska_2020  ...  Asian_2010  \\\n",
              "0          11                               67  ...        1373   \n",
              "1           7                              116  ...       12245   \n",
              "2           6                              130  ...        1936   \n",
              "3           2                               21  ...         614   \n",
              "4          68                              304  ...       28656   \n",
              "\n",
              "   Native Hawaiian Pacific Islander_2020  \\\n",
              "0                                   6223   \n",
              "1                                   4902   \n",
              "2                                  18394   \n",
              "3                                   2758   \n",
              "4                                  54538   \n",
              "\n",
              "   Native Hawaiian Pacific Islander_2010  Some other race_2020  \\\n",
              "0                                   5782                    54   \n",
              "1                                    612                  3281   \n",
              "2                                  15971                   256   \n",
              "3                                   2542                    51   \n",
              "4                                   8350                  1079   \n",
              "\n",
              "   Some other race 2010  Two or more races_2020  Two or more races_2010  \\\n",
              "0                    38                     151                       2   \n",
              "1                    25                     595                       8   \n",
              "2                    26                    1503                      22   \n",
              "3                    19                      71                       2   \n",
              "4                   117                   43642                      54   \n",
              "\n",
              "   Hispanic_2020  Hispanic_2010  \\\n",
              "0             16            180   \n",
              "1            151            230   \n",
              "2             51            565   \n",
              "3              4             69   \n",
              "4            100           1196   \n",
              "\n",
              "                                            geometry  \n",
              "0  MULTIPOLYGON (((-118.20703 34.53902, -118.2069...  \n",
              "1  MULTIPOLYGON (((-118.30800 34.03740, -118.3089...  \n",
              "2  MULTIPOLYGON (((-118.77621 34.16816, -118.7888...  \n",
              "3  MULTIPOLYGON (((-118.37822 34.48811, -118.3781...  \n",
              "4  MULTIPOLYGON (((-118.12175 34.10504, -118.1279...  \n",
              "\n",
              "[5 rows x 22 columns]"
            ],
            "text/html": [
              "\n",
              "  <div id=\"df-119f14ef-939c-43b4-8bf6-9bb34d50c0fc\">\n",
              "    <div class=\"colab-df-container\">\n",
              "      <div>\n",
              "<style scoped>\n",
              "    .dataframe tbody tr th:only-of-type {\n",
              "        vertical-align: middle;\n",
              "    }\n",
              "\n",
              "    .dataframe tbody tr th {\n",
              "        vertical-align: top;\n",
              "    }\n",
              "\n",
              "    .dataframe thead th {\n",
              "        text-align: right;\n",
              "    }\n",
              "</style>\n",
              "<table border=\"1\" class=\"dataframe\">\n",
              "  <thead>\n",
              "    <tr style=\"text-align: right;\">\n",
              "      <th></th>\n",
              "      <th>name</th>\n",
              "      <th>Total_2020</th>\n",
              "      <th>Total_2010</th>\n",
              "      <th>Total_Not_Hispanic_or_Latino_2020</th>\n",
              "      <th>Total_Not_Hispanic_or_Latino_2010</th>\n",
              "      <th>White_2020</th>\n",
              "      <th>White_2010</th>\n",
              "      <th>Black_2020</th>\n",
              "      <th>Black_2010</th>\n",
              "      <th>American_Indian_and_Alaska_2020</th>\n",
              "      <th>...</th>\n",
              "      <th>Asian_2010</th>\n",
              "      <th>Native Hawaiian Pacific Islander_2020</th>\n",
              "      <th>Native Hawaiian Pacific Islander_2010</th>\n",
              "      <th>Some other race_2020</th>\n",
              "      <th>Some other race 2010</th>\n",
              "      <th>Two or more races_2020</th>\n",
              "      <th>Two or more races_2010</th>\n",
              "      <th>Hispanic_2020</th>\n",
              "      <th>Hispanic_2010</th>\n",
              "      <th>geometry</th>\n",
              "    </tr>\n",
              "  </thead>\n",
              "  <tbody>\n",
              "    <tr>\n",
              "      <th>0</th>\n",
              "      <td>Acton</td>\n",
              "      <td>7431</td>\n",
              "      <td>2076</td>\n",
              "      <td>5355</td>\n",
              "      <td>4736</td>\n",
              "      <td>72</td>\n",
              "      <td>33</td>\n",
              "      <td>153</td>\n",
              "      <td>11</td>\n",
              "      <td>67</td>\n",
              "      <td>...</td>\n",
              "      <td>1373</td>\n",
              "      <td>6223</td>\n",
              "      <td>5782</td>\n",
              "      <td>54</td>\n",
              "      <td>38</td>\n",
              "      <td>151</td>\n",
              "      <td>2</td>\n",
              "      <td>16</td>\n",
              "      <td>180</td>\n",
              "      <td>MULTIPOLYGON (((-118.20703 34.53902, -118.2069...</td>\n",
              "    </tr>\n",
              "    <tr>\n",
              "      <th>1</th>\n",
              "      <td>Adams-Normandie</td>\n",
              "      <td>16922</td>\n",
              "      <td>11701</td>\n",
              "      <td>5221</td>\n",
              "      <td>978</td>\n",
              "      <td>2668</td>\n",
              "      <td>19</td>\n",
              "      <td>970</td>\n",
              "      <td>7</td>\n",
              "      <td>116</td>\n",
              "      <td>...</td>\n",
              "      <td>12245</td>\n",
              "      <td>4902</td>\n",
              "      <td>612</td>\n",
              "      <td>3281</td>\n",
              "      <td>25</td>\n",
              "      <td>595</td>\n",
              "      <td>8</td>\n",
              "      <td>151</td>\n",
              "      <td>230</td>\n",
              "      <td>MULTIPOLYGON (((-118.30800 34.03740, -118.3089...</td>\n",
              "    </tr>\n",
              "    <tr>\n",
              "      <th>2</th>\n",
              "      <td>Agoura Hills</td>\n",
              "      <td>20299</td>\n",
              "      <td>2319</td>\n",
              "      <td>17980</td>\n",
              "      <td>14744</td>\n",
              "      <td>250</td>\n",
              "      <td>23</td>\n",
              "      <td>1740</td>\n",
              "      <td>6</td>\n",
              "      <td>130</td>\n",
              "      <td>...</td>\n",
              "      <td>1936</td>\n",
              "      <td>18394</td>\n",
              "      <td>15971</td>\n",
              "      <td>256</td>\n",
              "      <td>26</td>\n",
              "      <td>1503</td>\n",
              "      <td>22</td>\n",
              "      <td>51</td>\n",
              "      <td>565</td>\n",
              "      <td>MULTIPOLYGON (((-118.77621 34.16816, -118.7888...</td>\n",
              "    </tr>\n",
              "    <tr>\n",
              "      <th>3</th>\n",
              "      <td>Agua Dulce</td>\n",
              "      <td>3510</td>\n",
              "      <td>891</td>\n",
              "      <td>2619</td>\n",
              "      <td>2326</td>\n",
              "      <td>46</td>\n",
              "      <td>13</td>\n",
              "      <td>59</td>\n",
              "      <td>2</td>\n",
              "      <td>21</td>\n",
              "      <td>...</td>\n",
              "      <td>614</td>\n",
              "      <td>2758</td>\n",
              "      <td>2542</td>\n",
              "      <td>51</td>\n",
              "      <td>19</td>\n",
              "      <td>71</td>\n",
              "      <td>2</td>\n",
              "      <td>4</td>\n",
              "      <td>69</td>\n",
              "      <td>MULTIPOLYGON (((-118.37822 34.48811, -118.3781...</td>\n",
              "    </tr>\n",
              "    <tr>\n",
              "      <th>4</th>\n",
              "      <td>Alhambra</td>\n",
              "      <td>82876</td>\n",
              "      <td>29917</td>\n",
              "      <td>52959</td>\n",
              "      <td>6939</td>\n",
              "      <td>1345</td>\n",
              "      <td>137</td>\n",
              "      <td>42555</td>\n",
              "      <td>68</td>\n",
              "      <td>304</td>\n",
              "      <td>...</td>\n",
              "      <td>28656</td>\n",
              "      <td>54538</td>\n",
              "      <td>8350</td>\n",
              "      <td>1079</td>\n",
              "      <td>117</td>\n",
              "      <td>43642</td>\n",
              "      <td>54</td>\n",
              "      <td>100</td>\n",
              "      <td>1196</td>\n",
              "      <td>MULTIPOLYGON (((-118.12175 34.10504, -118.1279...</td>\n",
              "    </tr>\n",
              "  </tbody>\n",
              "</table>\n",
              "<p>5 rows × 22 columns</p>\n",
              "</div>\n",
              "      <button class=\"colab-df-convert\" onclick=\"convertToInteractive('df-119f14ef-939c-43b4-8bf6-9bb34d50c0fc')\"\n",
              "              title=\"Convert this dataframe to an interactive table.\"\n",
              "              style=\"display:none;\">\n",
              "        \n",
              "  <svg xmlns=\"http://www.w3.org/2000/svg\" height=\"24px\"viewBox=\"0 0 24 24\"\n",
              "       width=\"24px\">\n",
              "    <path d=\"M0 0h24v24H0V0z\" fill=\"none\"/>\n",
              "    <path d=\"M18.56 5.44l.94 2.06.94-2.06 2.06-.94-2.06-.94-.94-2.06-.94 2.06-2.06.94zm-11 1L8.5 8.5l.94-2.06 2.06-.94-2.06-.94L8.5 2.5l-.94 2.06-2.06.94zm10 10l.94 2.06.94-2.06 2.06-.94-2.06-.94-.94-2.06-.94 2.06-2.06.94z\"/><path d=\"M17.41 7.96l-1.37-1.37c-.4-.4-.92-.59-1.43-.59-.52 0-1.04.2-1.43.59L10.3 9.45l-7.72 7.72c-.78.78-.78 2.05 0 2.83L4 21.41c.39.39.9.59 1.41.59.51 0 1.02-.2 1.41-.59l7.78-7.78 2.81-2.81c.8-.78.8-2.07 0-2.86zM5.41 20L4 18.59l7.72-7.72 1.47 1.35L5.41 20z\"/>\n",
              "  </svg>\n",
              "      </button>\n",
              "      \n",
              "  <style>\n",
              "    .colab-df-container {\n",
              "      display:flex;\n",
              "      flex-wrap:wrap;\n",
              "      gap: 12px;\n",
              "    }\n",
              "\n",
              "    .colab-df-convert {\n",
              "      background-color: #E8F0FE;\n",
              "      border: none;\n",
              "      border-radius: 50%;\n",
              "      cursor: pointer;\n",
              "      display: none;\n",
              "      fill: #1967D2;\n",
              "      height: 32px;\n",
              "      padding: 0 0 0 0;\n",
              "      width: 32px;\n",
              "    }\n",
              "\n",
              "    .colab-df-convert:hover {\n",
              "      background-color: #E2EBFA;\n",
              "      box-shadow: 0px 1px 2px rgba(60, 64, 67, 0.3), 0px 1px 3px 1px rgba(60, 64, 67, 0.15);\n",
              "      fill: #174EA6;\n",
              "    }\n",
              "\n",
              "    [theme=dark] .colab-df-convert {\n",
              "      background-color: #3B4455;\n",
              "      fill: #D2E3FC;\n",
              "    }\n",
              "\n",
              "    [theme=dark] .colab-df-convert:hover {\n",
              "      background-color: #434B5C;\n",
              "      box-shadow: 0px 1px 3px 1px rgba(0, 0, 0, 0.15);\n",
              "      filter: drop-shadow(0px 1px 2px rgba(0, 0, 0, 0.3));\n",
              "      fill: #FFFFFF;\n",
              "    }\n",
              "  </style>\n",
              "\n",
              "      <script>\n",
              "        const buttonEl =\n",
              "          document.querySelector('#df-119f14ef-939c-43b4-8bf6-9bb34d50c0fc button.colab-df-convert');\n",
              "        buttonEl.style.display =\n",
              "          google.colab.kernel.accessAllowed ? 'block' : 'none';\n",
              "\n",
              "        async function convertToInteractive(key) {\n",
              "          const element = document.querySelector('#df-119f14ef-939c-43b4-8bf6-9bb34d50c0fc');\n",
              "          const dataTable =\n",
              "            await google.colab.kernel.invokeFunction('convertToInteractive',\n",
              "                                                     [key], {});\n",
              "          if (!dataTable) return;\n",
              "\n",
              "          const docLinkHtml = 'Like what you see? Visit the ' +\n",
              "            '<a target=\"_blank\" href=https://colab.research.google.com/notebooks/data_table.ipynb>data table notebook</a>'\n",
              "            + ' to learn more about interactive tables.';\n",
              "          element.innerHTML = '';\n",
              "          dataTable['output_type'] = 'display_data';\n",
              "          await google.colab.output.renderOutput(dataTable, element);\n",
              "          const docLink = document.createElement('div');\n",
              "          docLink.innerHTML = docLinkHtml;\n",
              "          element.appendChild(docLink);\n",
              "        }\n",
              "      </script>\n",
              "    </div>\n",
              "  </div>\n",
              "  "
            ]
          },
          "metadata": {},
          "execution_count": 25
        }
      ]
    },
    {
      "cell_type": "code",
      "source": [
        "random_tract = gdf.sample()\n",
        "random_tract"
      ],
      "metadata": {
        "colab": {
          "base_uri": "https://localhost:8080/",
          "height": 270
        },
        "id": "DDx5APobTQxT",
        "outputId": "f9bc2805-7a23-4efd-d61e-82f1419271cf"
      },
      "execution_count": null,
      "outputs": [
        {
          "output_type": "execute_result",
          "data": {
            "text/plain": [
              "            name  Total_2020  Total_2010  Total_Not_Hispanic_or_Latino_2020  \\\n",
              "73  East Compton       14987       12759                               2228   \n",
              "\n",
              "    Total_Not_Hispanic_or_Latino_2010  White_2020  White_2010  Black_2020  \\\n",
              "73                                142        1817          14          31   \n",
              "\n",
              "    Black_2010  American_Indian_and_Alaska_2020  ...  Asian_2010  \\\n",
              "73          69                               58  ...       12340   \n",
              "\n",
              "    Native Hawaiian Pacific Islander_2020  \\\n",
              "73                                   2698   \n",
              "\n",
              "    Native Hawaiian Pacific Islander_2010  Some other race_2020  \\\n",
              "73                                    174                  2290   \n",
              "\n",
              "    Some other race 2010  Two or more races_2020  Two or more races_2010  \\\n",
              "73                    11                      19                     105   \n",
              "\n",
              "    Hispanic_2020  Hispanic_2010  \\\n",
              "73             21             78   \n",
              "\n",
              "                                             geometry  \n",
              "73  MULTIPOLYGON (((-118.19910 33.88874, -118.2006...  \n",
              "\n",
              "[1 rows x 22 columns]"
            ],
            "text/html": [
              "\n",
              "  <div id=\"df-e675be42-4ea7-4d3a-8230-77df7cde857e\">\n",
              "    <div class=\"colab-df-container\">\n",
              "      <div>\n",
              "<style scoped>\n",
              "    .dataframe tbody tr th:only-of-type {\n",
              "        vertical-align: middle;\n",
              "    }\n",
              "\n",
              "    .dataframe tbody tr th {\n",
              "        vertical-align: top;\n",
              "    }\n",
              "\n",
              "    .dataframe thead th {\n",
              "        text-align: right;\n",
              "    }\n",
              "</style>\n",
              "<table border=\"1\" class=\"dataframe\">\n",
              "  <thead>\n",
              "    <tr style=\"text-align: right;\">\n",
              "      <th></th>\n",
              "      <th>name</th>\n",
              "      <th>Total_2020</th>\n",
              "      <th>Total_2010</th>\n",
              "      <th>Total_Not_Hispanic_or_Latino_2020</th>\n",
              "      <th>Total_Not_Hispanic_or_Latino_2010</th>\n",
              "      <th>White_2020</th>\n",
              "      <th>White_2010</th>\n",
              "      <th>Black_2020</th>\n",
              "      <th>Black_2010</th>\n",
              "      <th>American_Indian_and_Alaska_2020</th>\n",
              "      <th>...</th>\n",
              "      <th>Asian_2010</th>\n",
              "      <th>Native Hawaiian Pacific Islander_2020</th>\n",
              "      <th>Native Hawaiian Pacific Islander_2010</th>\n",
              "      <th>Some other race_2020</th>\n",
              "      <th>Some other race 2010</th>\n",
              "      <th>Two or more races_2020</th>\n",
              "      <th>Two or more races_2010</th>\n",
              "      <th>Hispanic_2020</th>\n",
              "      <th>Hispanic_2010</th>\n",
              "      <th>geometry</th>\n",
              "    </tr>\n",
              "  </thead>\n",
              "  <tbody>\n",
              "    <tr>\n",
              "      <th>73</th>\n",
              "      <td>East Compton</td>\n",
              "      <td>14987</td>\n",
              "      <td>12759</td>\n",
              "      <td>2228</td>\n",
              "      <td>142</td>\n",
              "      <td>1817</td>\n",
              "      <td>14</td>\n",
              "      <td>31</td>\n",
              "      <td>69</td>\n",
              "      <td>58</td>\n",
              "      <td>...</td>\n",
              "      <td>12340</td>\n",
              "      <td>2698</td>\n",
              "      <td>174</td>\n",
              "      <td>2290</td>\n",
              "      <td>11</td>\n",
              "      <td>19</td>\n",
              "      <td>105</td>\n",
              "      <td>21</td>\n",
              "      <td>78</td>\n",
              "      <td>MULTIPOLYGON (((-118.19910 33.88874, -118.2006...</td>\n",
              "    </tr>\n",
              "  </tbody>\n",
              "</table>\n",
              "<p>1 rows × 22 columns</p>\n",
              "</div>\n",
              "      <button class=\"colab-df-convert\" onclick=\"convertToInteractive('df-e675be42-4ea7-4d3a-8230-77df7cde857e')\"\n",
              "              title=\"Convert this dataframe to an interactive table.\"\n",
              "              style=\"display:none;\">\n",
              "        \n",
              "  <svg xmlns=\"http://www.w3.org/2000/svg\" height=\"24px\"viewBox=\"0 0 24 24\"\n",
              "       width=\"24px\">\n",
              "    <path d=\"M0 0h24v24H0V0z\" fill=\"none\"/>\n",
              "    <path d=\"M18.56 5.44l.94 2.06.94-2.06 2.06-.94-2.06-.94-.94-2.06-.94 2.06-2.06.94zm-11 1L8.5 8.5l.94-2.06 2.06-.94-2.06-.94L8.5 2.5l-.94 2.06-2.06.94zm10 10l.94 2.06.94-2.06 2.06-.94-2.06-.94-.94-2.06-.94 2.06-2.06.94z\"/><path d=\"M17.41 7.96l-1.37-1.37c-.4-.4-.92-.59-1.43-.59-.52 0-1.04.2-1.43.59L10.3 9.45l-7.72 7.72c-.78.78-.78 2.05 0 2.83L4 21.41c.39.39.9.59 1.41.59.51 0 1.02-.2 1.41-.59l7.78-7.78 2.81-2.81c.8-.78.8-2.07 0-2.86zM5.41 20L4 18.59l7.72-7.72 1.47 1.35L5.41 20z\"/>\n",
              "  </svg>\n",
              "      </button>\n",
              "      \n",
              "  <style>\n",
              "    .colab-df-container {\n",
              "      display:flex;\n",
              "      flex-wrap:wrap;\n",
              "      gap: 12px;\n",
              "    }\n",
              "\n",
              "    .colab-df-convert {\n",
              "      background-color: #E8F0FE;\n",
              "      border: none;\n",
              "      border-radius: 50%;\n",
              "      cursor: pointer;\n",
              "      display: none;\n",
              "      fill: #1967D2;\n",
              "      height: 32px;\n",
              "      padding: 0 0 0 0;\n",
              "      width: 32px;\n",
              "    }\n",
              "\n",
              "    .colab-df-convert:hover {\n",
              "      background-color: #E2EBFA;\n",
              "      box-shadow: 0px 1px 2px rgba(60, 64, 67, 0.3), 0px 1px 3px 1px rgba(60, 64, 67, 0.15);\n",
              "      fill: #174EA6;\n",
              "    }\n",
              "\n",
              "    [theme=dark] .colab-df-convert {\n",
              "      background-color: #3B4455;\n",
              "      fill: #D2E3FC;\n",
              "    }\n",
              "\n",
              "    [theme=dark] .colab-df-convert:hover {\n",
              "      background-color: #434B5C;\n",
              "      box-shadow: 0px 1px 3px 1px rgba(0, 0, 0, 0.15);\n",
              "      filter: drop-shadow(0px 1px 2px rgba(0, 0, 0, 0.3));\n",
              "      fill: #FFFFFF;\n",
              "    }\n",
              "  </style>\n",
              "\n",
              "      <script>\n",
              "        const buttonEl =\n",
              "          document.querySelector('#df-e675be42-4ea7-4d3a-8230-77df7cde857e button.colab-df-convert');\n",
              "        buttonEl.style.display =\n",
              "          google.colab.kernel.accessAllowed ? 'block' : 'none';\n",
              "\n",
              "        async function convertToInteractive(key) {\n",
              "          const element = document.querySelector('#df-e675be42-4ea7-4d3a-8230-77df7cde857e');\n",
              "          const dataTable =\n",
              "            await google.colab.kernel.invokeFunction('convertToInteractive',\n",
              "                                                     [key], {});\n",
              "          if (!dataTable) return;\n",
              "\n",
              "          const docLinkHtml = 'Like what you see? Visit the ' +\n",
              "            '<a target=\"_blank\" href=https://colab.research.google.com/notebooks/data_table.ipynb>data table notebook</a>'\n",
              "            + ' to learn more about interactive tables.';\n",
              "          element.innerHTML = '';\n",
              "          dataTable['output_type'] = 'display_data';\n",
              "          await google.colab.output.renderOutput(dataTable, element);\n",
              "          const docLink = document.createElement('div');\n",
              "          docLink.innerHTML = docLinkHtml;\n",
              "          element.appendChild(docLink);\n",
              "        }\n",
              "      </script>\n",
              "    </div>\n",
              "  </div>\n",
              "  "
            ]
          },
          "metadata": {},
          "execution_count": 26
        }
      ]
    },
    {
      "cell_type": "code",
      "source": [
        "random_tract.iloc[0]"
      ],
      "metadata": {
        "id": "WzmZGWikTzaP",
        "colab": {
          "base_uri": "https://localhost:8080/"
        },
        "outputId": "465cd798-5f6f-41e7-a3a1-d0704904414c"
      },
      "execution_count": null,
      "outputs": [
        {
          "output_type": "stream",
          "name": "stderr",
          "text": [
            "/usr/local/lib/python3.7/dist-packages/pandas/core/dtypes/inference.py:383: ShapelyDeprecationWarning: Iteration over multi-part geometries is deprecated and will be removed in Shapely 2.0. Use the `geoms` property to access the constituent parts of a multi-part geometry.\n",
            "  iter(obj)  # Can iterate over it.\n",
            "/usr/local/lib/python3.7/dist-packages/pandas/core/dtypes/inference.py:384: ShapelyDeprecationWarning: __len__ for multi-part geometries is deprecated and will be removed in Shapely 2.0. Check the length of the `geoms` property instead to get the  number of parts of a multi-part geometry.\n",
            "  len(obj)  # Has a length associated with it.\n",
            "/usr/local/lib/python3.7/dist-packages/pandas/io/formats/printing.py:118: ShapelyDeprecationWarning: Iteration over multi-part geometries is deprecated and will be removed in Shapely 2.0. Use the `geoms` property to access the constituent parts of a multi-part geometry.\n",
            "  s = iter(seq)\n",
            "/usr/local/lib/python3.7/dist-packages/pandas/io/formats/printing.py:122: ShapelyDeprecationWarning: __len__ for multi-part geometries is deprecated and will be removed in Shapely 2.0. Check the length of the `geoms` property instead to get the  number of parts of a multi-part geometry.\n",
            "  for i in range(min(nitems, len(seq)))\n",
            "/usr/local/lib/python3.7/dist-packages/pandas/io/formats/printing.py:126: ShapelyDeprecationWarning: __len__ for multi-part geometries is deprecated and will be removed in Shapely 2.0. Check the length of the `geoms` property instead to get the  number of parts of a multi-part geometry.\n",
            "  if nitems < len(seq):\n"
          ]
        },
        {
          "output_type": "execute_result",
          "data": {
            "text/plain": [
              "name                                                                          East Compton\n",
              "Total_2020                                                                           14987\n",
              "Total_2010                                                                           12759\n",
              "Total_Not_Hispanic_or_Latino_2020                                                     2228\n",
              "Total_Not_Hispanic_or_Latino_2010                                                      142\n",
              "White_2020                                                                            1817\n",
              "White_2010                                                                              14\n",
              "Black_2020                                                                              31\n",
              "Black_2010                                                                              69\n",
              "American_Indian_and_Alaska_2020                                                         58\n",
              "American_Indian_and_Alaska_2010                                                         97\n",
              "Asian_2020                                                                           15038\n",
              "Asian_2010                                                                           12340\n",
              "Native Hawaiian Pacific Islander_2020                                                 2698\n",
              "Native Hawaiian Pacific Islander_2010                                                  174\n",
              "Some other race_2020                                                                  2290\n",
              "Some other race 2010                                                                    11\n",
              "Two or more races_2020                                                                  19\n",
              "Two or more races_2010                                                                 105\n",
              "Hispanic_2020                                                                           21\n",
              "Hispanic_2010                                                                           78\n",
              "geometry                                 (POLYGON ((-118.199098 33.888738, -118.200637 ...\n",
              "Name: 73, dtype: object"
            ]
          },
          "metadata": {},
          "execution_count": 27
        }
      ]
    },
    {
      "cell_type": "code",
      "source": [
        "print('Total population:' + str(random_tract.iloc[0]['Total_2020']))"
      ],
      "metadata": {
        "colab": {
          "base_uri": "https://localhost:8080/"
        },
        "id": "bkk6INo_C6yG",
        "outputId": "05058032-ce90-4145-a720-90bf406c98c9"
      },
      "execution_count": null,
      "outputs": [
        {
          "output_type": "stream",
          "name": "stdout",
          "text": [
            "Total population:14987\n"
          ]
        }
      ]
    },
    {
      "cell_type": "code",
      "source": [
        "# hispanic plus all the non hispanice categories\n",
        "print(random_tract.iloc[0]['White_2020'] + \n",
        "      random_tract.iloc[0]['Black_2020'] + \n",
        "      random_tract.iloc[0]['American_Indian_and_Alaska_2020'] + \n",
        "      random_tract.iloc[0]['Asian_2020'] + \n",
        "      random_tract.iloc[0]['Native Hawaiian Pacific Islander_2020'] + \n",
        "      random_tract.iloc[0]['Some other race_2020'] + \n",
        "      random_tract.iloc[0]['Two or more races_2020'] + \n",
        "      random_tract.iloc[0]['Hispanic_2020'])"
      ],
      "metadata": {
        "colab": {
          "base_uri": "https://localhost:8080/"
        },
        "id": "mlFYrGhPwUJ2",
        "outputId": "d160fef8-f0ff-44ea-93f4-f00fe22cd761"
      },
      "execution_count": null,
      "outputs": [
        {
          "output_type": "stream",
          "name": "stdout",
          "text": [
            "21972\n"
          ]
        }
      ]
    },
    {
      "cell_type": "code",
      "source": [
        "gdf['Total_2020'].head()"
      ],
      "metadata": {
        "colab": {
          "base_uri": "https://localhost:8080/"
        },
        "id": "_cEXCpqKE0Py",
        "outputId": "6e1f432b-87a8-43b3-ddcd-402c6de6d3c3"
      },
      "execution_count": null,
      "outputs": [
        {
          "output_type": "execute_result",
          "data": {
            "text/plain": [
              "0     7431\n",
              "1    16922\n",
              "2    20299\n",
              "3     3510\n",
              "4    82876\n",
              "Name: Total_2020, dtype: int64"
            ]
          },
          "metadata": {},
          "execution_count": 52
        }
      ]
    },
    {
      "cell_type": "code",
      "source": [
        "# What is the mean?\n",
        "gdf['Total_2020'].mean()"
      ],
      "metadata": {
        "colab": {
          "base_uri": "https://localhost:8080/"
        },
        "id": "1QdIx8AlFGFA",
        "outputId": "4ca2e659-14a2-4b3f-c304-ac9cbca2d35b"
      },
      "execution_count": null,
      "outputs": [
        {
          "output_type": "execute_result",
          "data": {
            "text/plain": [
              "41509.69496855346"
            ]
          },
          "metadata": {},
          "execution_count": 53
        }
      ]
    },
    {
      "cell_type": "code",
      "source": [
        "gdf['Total_2020'].describe()"
      ],
      "metadata": {
        "colab": {
          "base_uri": "https://localhost:8080/"
        },
        "id": "Z7PbRuHyFNGa",
        "outputId": "df6f0102-1526-4119-91bd-0ed01edc016f"
      },
      "execution_count": null,
      "outputs": [
        {
          "output_type": "execute_result",
          "data": {
            "text/plain": [
              "count       318.000000\n",
              "mean      41509.694969\n",
              "std       52596.197015\n",
              "min           0.000000\n",
              "25%       10656.500000\n",
              "50%       26108.000000\n",
              "75%       53528.250000\n",
              "max      468064.000000\n",
              "Name: Total_2020, dtype: float64"
            ]
          },
          "metadata": {},
          "execution_count": 54
        }
      ]
    },
    {
      "cell_type": "code",
      "source": [
        "# plot it as a historgram with 50 bins\n",
        "gdf['Total_2020'].plot.hist()"
      ],
      "metadata": {
        "colab": {
          "base_uri": "https://localhost:8080/",
          "height": 281
        },
        "id": "3IgKkLVdxjFd",
        "outputId": "bb3d1c55-a0dd-4b77-de34-69403437512a"
      },
      "execution_count": null,
      "outputs": [
        {
          "output_type": "execute_result",
          "data": {
            "text/plain": [
              "<AxesSubplot:ylabel='Frequency'>"
            ]
          },
          "metadata": {},
          "execution_count": 55
        },
        {
          "output_type": "display_data",
          "data": {
            "text/plain": [
              "<Figure size 432x288 with 1 Axes>"
            ],
            "image/png": "[encoded data removed]"
          },
          "metadata": {
            "needs_background": "light"
          }
        }
      ]
    },
    {
      "cell_type": "code",
      "source": [
        "gdf['Total_2020'].plot.hist(figsize=(12,5),\n",
        "                       bins=100,\n",
        "                       title='Los Angeles County census tracts by population size (ACS 2019 5-year)')"
      ],
      "metadata": {
        "colab": {
          "base_uri": "https://localhost:8080/",
          "height": 352
        },
        "id": "oLk4-yImxw3o",
        "outputId": "22a7298e-7c5c-4a34-871f-84b07d133ba0"
      },
      "execution_count": null,
      "outputs": [
        {
          "output_type": "execute_result",
          "data": {
            "text/plain": [
              "<AxesSubplot:title={'center':'Los Angeles County census tracts by population size (ACS 2019 5-year)'}, ylabel='Frequency'>"
            ]
          },
          "metadata": {},
          "execution_count": 56
        },
        {
          "output_type": "display_data",
          "data": {
            "text/plain": [
              "<Figure size 864x360 with 1 Axes>"
            ],
            "image/png": "[encoded data removed]"
          },
          "metadata": {
            "needs_background": "light"
          }
        }
      ]
    },
    {
      "cell_type": "code",
      "source": [
        "# hispanic plus all the non hispanice categories\n",
        "print(random_tract.iloc[0]['White_2020'] + \n",
        "      random_tract.iloc[0]['Black_2020'] + \n",
        "      random_tract.iloc[0]['American_Indian_and_Alaska_2020'] + \n",
        "      random_tract.iloc[0]['Asian_2020'] + \n",
        "      random_tract.iloc[0]['Native Hawaiian Pacific Islander_2020'] + \n",
        "      random_tract.iloc[0]['Some other race_2020'] + \n",
        "      random_tract.iloc[0]['Two or more races_2020'] + \n",
        "      random_tract.iloc[0]['Hispanic 2020'])"
      ],
      "metadata": {
        "colab": {
          "base_uri": "https://localhost:8080/"
        },
        "id": "KsN3QW3VyHVz",
        "outputId": "1bbe3a84-4877-4584-853e-4aeca381a511"
      },
      "execution_count": null,
      "outputs": [
        {
          "output_type": "stream",
          "name": "stdout",
          "text": [
            "46075\n"
          ]
        }
      ]
    },
    {
      "cell_type": "code",
      "source": [
        "print(random_tract.iloc[0]['White_2020'])"
      ],
      "metadata": {
        "colab": {
          "base_uri": "https://localhost:8080/"
        },
        "id": "IWjkhGpxdp6L",
        "outputId": "03e6cfce-67c1-452f-f2a3-20e1664701a4"
      },
      "execution_count": null,
      "outputs": [
        {
          "output_type": "stream",
          "name": "stdout",
          "text": [
            "181\n"
          ]
        }
      ]
    },
    {
      "cell_type": "code",
      "source": [
        "print(random_tract.iloc[0]['Black_2020'])"
      ],
      "metadata": {
        "colab": {
          "base_uri": "https://localhost:8080/"
        },
        "id": "NiiYQnbQdxLg",
        "outputId": "c0ac58cc-245c-4511-ad78-a6ee863f14c8"
      },
      "execution_count": null,
      "outputs": [
        {
          "output_type": "stream",
          "name": "stdout",
          "text": [
            "961\n"
          ]
        }
      ]
    },
    {
      "cell_type": "code",
      "source": [
        "print(random_tract.iloc[0]['American_Indian_and_Alaska_2020'])"
      ],
      "metadata": {
        "colab": {
          "base_uri": "https://localhost:8080/"
        },
        "id": "3hZ82b7Yd29E",
        "outputId": "fbf67051-3086-4ce9-ee7e-4c22aab7e19d"
      },
      "execution_count": null,
      "outputs": [
        {
          "output_type": "stream",
          "name": "stdout",
          "text": [
            "130\n"
          ]
        }
      ]
    },
    {
      "cell_type": "code",
      "source": [
        "print(random_tract.iloc[0]['Asian_2020'])"
      ],
      "metadata": {
        "colab": {
          "base_uri": "https://localhost:8080/"
        },
        "id": "xAxuKlUfd3Gl",
        "outputId": "39237025-8eed-46df-f91a-772aa0975973"
      },
      "execution_count": null,
      "outputs": [
        {
          "output_type": "stream",
          "name": "stdout",
          "text": [
            "22723\n"
          ]
        }
      ]
    },
    {
      "cell_type": "code",
      "source": [
        "print(random_tract.iloc[0]['Native Hawaiian Pacific Islander_2020'])"
      ],
      "metadata": {
        "colab": {
          "base_uri": "https://localhost:8080/"
        },
        "id": "TZ_71r1Rd3Mh",
        "outputId": "8b51f1f2-8fb6-4a42-d2c0-be04f3662dbd"
      },
      "execution_count": null,
      "outputs": [
        {
          "output_type": "stream",
          "name": "stdout",
          "text": [
            "21073\n"
          ]
        }
      ]
    },
    {
      "cell_type": "code",
      "source": [
        ""
      ],
      "metadata": {
        "id": "emn15LKWd3Sj"
      },
      "execution_count": null,
      "outputs": []
    },
    {
      "cell_type": "code",
      "source": [
        ""
      ],
      "metadata": {
        "id": "KlO6tis5d3Yu"
      },
      "execution_count": null,
      "outputs": []
    },
    {
      "cell_type": "code",
      "source": [
        "list(gdf)"
      ],
      "metadata": {
        "colab": {
          "base_uri": "https://localhost:8080/"
        },
        "id": "OaWZHDrqFx5W",
        "outputId": "00f3c54e-b230-41c3-d497-391bcff655d9"
      },
      "execution_count": null,
      "outputs": [
        {
          "output_type": "execute_result",
          "data": {
            "text/plain": [
              "['name',\n",
              " 'Total_2020',\n",
              " 'Total_2010',\n",
              " 'Total_Not_Hispanic_or_Latino_2020',\n",
              " 'Total_Not_Hispanic_or_Latino_2010',\n",
              " 'White_2020',\n",
              " 'White_2010',\n",
              " 'Black_2020',\n",
              " 'Black_2010',\n",
              " 'American_Indian_and_Alaska_2020',\n",
              " 'American_Indian_and_Alaska_2010',\n",
              " 'Asian_2020',\n",
              " 'Asian_2010',\n",
              " 'Native Hawaiian Pacific Islander_2020',\n",
              " 'Native Hawaiian Pacific Islander_2010',\n",
              " 'Some other race_2020',\n",
              " 'Some other race 2010',\n",
              " 'Two or more races_2020',\n",
              " 'Two or more races_2010',\n",
              " 'Hispanic 2020',\n",
              " 'Hispanic_2010',\n",
              " 'geometry']"
            ]
          },
          "metadata": {},
          "execution_count": 59
        }
      ]
    },
    {
      "cell_type": "code",
      "source": [
        "# create a new column, and populate it with normalized data to get the percent of total value\n",
        "gdf['Percent Not Hispanic or Latino 2020'] = gdf['Total_Not_Hispanic_or_Latino_2020']/gdf['Total_2020']*100\n",
        "gdf['Percent Hispanic or Latino 2020'] = gdf['Hispanic 2020']/gdf['Total_2020']*100\n",
        "gdf['Percent White alone 2020'] = gdf['White_2020']/gdf['Total_2020']*100\n",
        "gdf['Percent Black or African American alone 2020'] = gdf['Black_2020']/gdf['Total_2020']*100\n",
        "gdf['Percent American Indian and Alaska Native alone 2020'] = gdf['American_Indian_and_Alaska_2020']/gdf['Total_2020']*100\n",
        "gdf['Percent Asian alone 2020'] = gdf['Asian_2020']/gdf['Total_2020']*100\n",
        "gdf['Percent Native Hawaiian and Other Pacific Islander alone 2020'] = gdf['Native Hawaiian Pacific Islander_2020']/gdf['Total_2020']*100\n",
        "gdf['Percent Some other race alone 2020'] = gdf['Some other race_2020']/gdf['Total_2020']*100\n",
        "gdf['Percent Population of two or more races 2020'] = gdf['Two or more races_2020']/gdf['Total_2020']*100"
      ],
      "metadata": {
        "id": "FmT1LRixyTNA"
      },
      "execution_count": null,
      "outputs": []
    },
    {
      "cell_type": "code",
      "source": [
        "gdf.sample(5)"
      ],
      "metadata": {
        "colab": {
          "base_uri": "https://localhost:8080/",
          "height": 671
        },
        "id": "tKORBGFmzz41",
        "outputId": "77eff50f-867d-43eb-8f7b-6f81ba689dc2"
      },
      "execution_count": null,
      "outputs": [
        {
          "output_type": "execute_result",
          "data": {
            "text/plain": [
              "                                  name  Total 2020  Hispanic or Latino 2020  \\\n",
              "222  Ronald W. Caspers Wilderness Park       10486                     1544   \n",
              "279                          Val Verde        1828                     1199   \n",
              "129                          Koreatown      104558                    43520   \n",
              "263                            Tarzana       37768                     7108   \n",
              "83                           El Sereno       39010                    29905   \n",
              "\n",
              "     Not Hispanic or Latino 2020  Population of one race 2020  \\\n",
              "222                         8942                         8324   \n",
              "279                          629                          574   \n",
              "129                        61038                        58537   \n",
              "263                        30660                        28790   \n",
              "83                          9105                         8545   \n",
              "\n",
              "     White alone 2020  Black or African American alone 2020  \\\n",
              "222              6959                                   115   \n",
              "279               453                                    50   \n",
              "129             11345                                  5210   \n",
              "263             24234                                  1491   \n",
              "83               2979                                   968   \n",
              "\n",
              "     American Indian and Alaska Native alone 2020  Asian alone 2020  \\\n",
              "222                                            17              1165   \n",
              "279                                             5                49   \n",
              "129                                           167             41154   \n",
              "263                                            49              2752   \n",
              "83                                            116              4304   \n",
              "\n",
              "     Native Hawaiian and Other Pacific Islander alone 2020  ...  \\\n",
              "222                                                  7      ...   \n",
              "279                                                  2      ...   \n",
              "129                                                 57      ...   \n",
              "263                                                 27      ...   \n",
              "83                                                  25      ...   \n",
              "\n",
              "                                              geometry  \\\n",
              "222  MULTIPOLYGON (((-117.54845 33.64336, -117.5551...   \n",
              "279  MULTIPOLYGON (((-118.65829 34.44273, -118.6581...   \n",
              "129  MULTIPOLYGON (((-118.28680 34.06898, -118.2868...   \n",
              "263  MULTIPOLYGON (((-118.52727 34.17082, -118.5273...   \n",
              "83   MULTIPOLYGON (((-118.17800 34.09873, -118.1780...   \n",
              "\n",
              "     Percent Not Hispanic or Latino 2020  Percent Hispanic or Latino 2020  \\\n",
              "222                            85.275606                        14.724394   \n",
              "279                            34.409190                        65.590810   \n",
              "129                            58.377169                        41.622831   \n",
              "263                            81.179835                        18.820165   \n",
              "83                             23.340169                        76.659831   \n",
              "\n",
              "     Percent White alone 2020  Percent Black or African American alone 2020  \\\n",
              "222                 66.364677                                      1.096700   \n",
              "279                 24.781182                                      2.735230   \n",
              "129                 10.850437                                      4.982880   \n",
              "263                 64.165431                                      3.947786   \n",
              "83                   7.636503                                      2.481415   \n",
              "\n",
              "     Percent American Indian and Alaska Native alone 2020  \\\n",
              "222                                           0.162121      \n",
              "279                                           0.273523      \n",
              "129                                           0.159720      \n",
              "263                                           0.129739      \n",
              "83                                            0.297360      \n",
              "\n",
              "     Percent Asian alone 2020  \\\n",
              "222                 11.110051   \n",
              "279                  2.680525   \n",
              "129                 39.359972   \n",
              "263                  7.286592   \n",
              "83                  11.033068   \n",
              "\n",
              "     Percent Native Hawaiian and Other Pacific Islander alone 2020  \\\n",
              "222                                           0.066756               \n",
              "279                                           0.109409               \n",
              "129                                           0.054515               \n",
              "263                                           0.071489               \n",
              "83                                            0.064086               \n",
              "\n",
              "     Percent Some other race alone 2020  \\\n",
              "222                            0.581728   \n",
              "279                            0.820569   \n",
              "129                            0.577670   \n",
              "263                            0.627515   \n",
              "83                             0.392207   \n",
              "\n",
              "     Percent Population of two or more races 2020  \n",
              "222                                      5.893572  \n",
              "279                                      3.008753  \n",
              "129                                      2.391974  \n",
              "263                                      4.951282  \n",
              "83                                       1.435529  \n",
              "\n",
              "[5 rows x 33 columns]"
            ],
            "text/html": [
              "\n",
              "  <div id=\"df-c5d87f01-6621-4678-bdd0-8c8e9b5de07d\">\n",
              "    <div class=\"colab-df-container\">\n",
              "      <div>\n",
              "<style scoped>\n",
              "    .dataframe tbody tr th:only-of-type {\n",
              "        vertical-align: middle;\n",
              "    }\n",
              "\n",
              "    .dataframe tbody tr th {\n",
              "        vertical-align: top;\n",
              "    }\n",
              "\n",
              "    .dataframe thead th {\n",
              "        text-align: right;\n",
              "    }\n",
              "</style>\n",
              "<table border=\"1\" class=\"dataframe\">\n",
              "  <thead>\n",
              "    <tr style=\"text-align: right;\">\n",
              "      <th></th>\n",
              "      <th>name</th>\n",
              "      <th>Total 2020</th>\n",
              "      <th>Hispanic or Latino 2020</th>\n",
              "      <th>Not Hispanic or Latino 2020</th>\n",
              "      <th>Population of one race 2020</th>\n",
              "      <th>White alone 2020</th>\n",
              "      <th>Black or African American alone 2020</th>\n",
              "      <th>American Indian and Alaska Native alone 2020</th>\n",
              "      <th>Asian alone 2020</th>\n",
              "      <th>Native Hawaiian and Other Pacific Islander alone 2020</th>\n",
              "      <th>...</th>\n",
              "      <th>geometry</th>\n",
              "      <th>Percent Not Hispanic or Latino 2020</th>\n",
              "      <th>Percent Hispanic or Latino 2020</th>\n",
              "      <th>Percent White alone 2020</th>\n",
              "      <th>Percent Black or African American alone 2020</th>\n",
              "      <th>Percent American Indian and Alaska Native alone 2020</th>\n",
              "      <th>Percent Asian alone 2020</th>\n",
              "      <th>Percent Native Hawaiian and Other Pacific Islander alone 2020</th>\n",
              "      <th>Percent Some other race alone 2020</th>\n",
              "      <th>Percent Population of two or more races 2020</th>\n",
              "    </tr>\n",
              "  </thead>\n",
              "  <tbody>\n",
              "    <tr>\n",
              "      <th>222</th>\n",
              "      <td>Ronald W. Caspers Wilderness Park</td>\n",
              "      <td>10486</td>\n",
              "      <td>1544</td>\n",
              "      <td>8942</td>\n",
              "      <td>8324</td>\n",
              "      <td>6959</td>\n",
              "      <td>115</td>\n",
              "      <td>17</td>\n",
              "      <td>1165</td>\n",
              "      <td>7</td>\n",
              "      <td>...</td>\n",
              "      <td>MULTIPOLYGON (((-117.54845 33.64336, -117.5551...</td>\n",
              "      <td>85.275606</td>\n",
              "      <td>14.724394</td>\n",
              "      <td>66.364677</td>\n",
              "      <td>1.096700</td>\n",
              "      <td>0.162121</td>\n",
              "      <td>11.110051</td>\n",
              "      <td>0.066756</td>\n",
              "      <td>0.581728</td>\n",
              "      <td>5.893572</td>\n",
              "    </tr>\n",
              "    <tr>\n",
              "      <th>279</th>\n",
              "      <td>Val Verde</td>\n",
              "      <td>1828</td>\n",
              "      <td>1199</td>\n",
              "      <td>629</td>\n",
              "      <td>574</td>\n",
              "      <td>453</td>\n",
              "      <td>50</td>\n",
              "      <td>5</td>\n",
              "      <td>49</td>\n",
              "      <td>2</td>\n",
              "      <td>...</td>\n",
              "      <td>MULTIPOLYGON (((-118.65829 34.44273, -118.6581...</td>\n",
              "      <td>34.409190</td>\n",
              "      <td>65.590810</td>\n",
              "      <td>24.781182</td>\n",
              "      <td>2.735230</td>\n",
              "      <td>0.273523</td>\n",
              "      <td>2.680525</td>\n",
              "      <td>0.109409</td>\n",
              "      <td>0.820569</td>\n",
              "      <td>3.008753</td>\n",
              "    </tr>\n",
              "    <tr>\n",
              "      <th>129</th>\n",
              "      <td>Koreatown</td>\n",
              "      <td>104558</td>\n",
              "      <td>43520</td>\n",
              "      <td>61038</td>\n",
              "      <td>58537</td>\n",
              "      <td>11345</td>\n",
              "      <td>5210</td>\n",
              "      <td>167</td>\n",
              "      <td>41154</td>\n",
              "      <td>57</td>\n",
              "      <td>...</td>\n",
              "      <td>MULTIPOLYGON (((-118.28680 34.06898, -118.2868...</td>\n",
              "      <td>58.377169</td>\n",
              "      <td>41.622831</td>\n",
              "      <td>10.850437</td>\n",
              "      <td>4.982880</td>\n",
              "      <td>0.159720</td>\n",
              "      <td>39.359972</td>\n",
              "      <td>0.054515</td>\n",
              "      <td>0.577670</td>\n",
              "      <td>2.391974</td>\n",
              "    </tr>\n",
              "    <tr>\n",
              "      <th>263</th>\n",
              "      <td>Tarzana</td>\n",
              "      <td>37768</td>\n",
              "      <td>7108</td>\n",
              "      <td>30660</td>\n",
              "      <td>28790</td>\n",
              "      <td>24234</td>\n",
              "      <td>1491</td>\n",
              "      <td>49</td>\n",
              "      <td>2752</td>\n",
              "      <td>27</td>\n",
              "      <td>...</td>\n",
              "      <td>MULTIPOLYGON (((-118.52727 34.17082, -118.5273...</td>\n",
              "      <td>81.179835</td>\n",
              "      <td>18.820165</td>\n",
              "      <td>64.165431</td>\n",
              "      <td>3.947786</td>\n",
              "      <td>0.129739</td>\n",
              "      <td>7.286592</td>\n",
              "      <td>0.071489</td>\n",
              "      <td>0.627515</td>\n",
              "      <td>4.951282</td>\n",
              "    </tr>\n",
              "    <tr>\n",
              "      <th>83</th>\n",
              "      <td>El Sereno</td>\n",
              "      <td>39010</td>\n",
              "      <td>29905</td>\n",
              "      <td>9105</td>\n",
              "      <td>8545</td>\n",
              "      <td>2979</td>\n",
              "      <td>968</td>\n",
              "      <td>116</td>\n",
              "      <td>4304</td>\n",
              "      <td>25</td>\n",
              "      <td>...</td>\n",
              "      <td>MULTIPOLYGON (((-118.17800 34.09873, -118.1780...</td>\n",
              "      <td>23.340169</td>\n",
              "      <td>76.659831</td>\n",
              "      <td>7.636503</td>\n",
              "      <td>2.481415</td>\n",
              "      <td>0.297360</td>\n",
              "      <td>11.033068</td>\n",
              "      <td>0.064086</td>\n",
              "      <td>0.392207</td>\n",
              "      <td>1.435529</td>\n",
              "    </tr>\n",
              "  </tbody>\n",
              "</table>\n",
              "<p>5 rows × 33 columns</p>\n",
              "</div>\n",
              "      <button class=\"colab-df-convert\" onclick=\"convertToInteractive('df-c5d87f01-6621-4678-bdd0-8c8e9b5de07d')\"\n",
              "              title=\"Convert this dataframe to an interactive table.\"\n",
              "              style=\"display:none;\">\n",
              "        \n",
              "  <svg xmlns=\"http://www.w3.org/2000/svg\" height=\"24px\"viewBox=\"0 0 24 24\"\n",
              "       width=\"24px\">\n",
              "    <path d=\"M0 0h24v24H0V0z\" fill=\"none\"/>\n",
              "    <path d=\"M18.56 5.44l.94 2.06.94-2.06 2.06-.94-2.06-.94-.94-2.06-.94 2.06-2.06.94zm-11 1L8.5 8.5l.94-2.06 2.06-.94-2.06-.94L8.5 2.5l-.94 2.06-2.06.94zm10 10l.94 2.06.94-2.06 2.06-.94-2.06-.94-.94-2.06-.94 2.06-2.06.94z\"/><path d=\"M17.41 7.96l-1.37-1.37c-.4-.4-.92-.59-1.43-.59-.52 0-1.04.2-1.43.59L10.3 9.45l-7.72 7.72c-.78.78-.78 2.05 0 2.83L4 21.41c.39.39.9.59 1.41.59.51 0 1.02-.2 1.41-.59l7.78-7.78 2.81-2.81c.8-.78.8-2.07 0-2.86zM5.41 20L4 18.59l7.72-7.72 1.47 1.35L5.41 20z\"/>\n",
              "  </svg>\n",
              "      </button>\n",
              "      \n",
              "  <style>\n",
              "    .colab-df-container {\n",
              "      display:flex;\n",
              "      flex-wrap:wrap;\n",
              "      gap: 12px;\n",
              "    }\n",
              "\n",
              "    .colab-df-convert {\n",
              "      background-color: #E8F0FE;\n",
              "      border: none;\n",
              "      border-radius: 50%;\n",
              "      cursor: pointer;\n",
              "      display: none;\n",
              "      fill: #1967D2;\n",
              "      height: 32px;\n",
              "      padding: 0 0 0 0;\n",
              "      width: 32px;\n",
              "    }\n",
              "\n",
              "    .colab-df-convert:hover {\n",
              "      background-color: #E2EBFA;\n",
              "      box-shadow: 0px 1px 2px rgba(60, 64, 67, 0.3), 0px 1px 3px 1px rgba(60, 64, 67, 0.15);\n",
              "      fill: #174EA6;\n",
              "    }\n",
              "\n",
              "    [theme=dark] .colab-df-convert {\n",
              "      background-color: #3B4455;\n",
              "      fill: #D2E3FC;\n",
              "    }\n",
              "\n",
              "    [theme=dark] .colab-df-convert:hover {\n",
              "      background-color: #434B5C;\n",
              "      box-shadow: 0px 1px 3px 1px rgba(0, 0, 0, 0.15);\n",
              "      filter: drop-shadow(0px 1px 2px rgba(0, 0, 0, 0.3));\n",
              "      fill: #FFFFFF;\n",
              "    }\n",
              "  </style>\n",
              "\n",
              "      <script>\n",
              "        const buttonEl =\n",
              "          document.querySelector('#df-c5d87f01-6621-4678-bdd0-8c8e9b5de07d button.colab-df-convert');\n",
              "        buttonEl.style.display =\n",
              "          google.colab.kernel.accessAllowed ? 'block' : 'none';\n",
              "\n",
              "        async function convertToInteractive(key) {\n",
              "          const element = document.querySelector('#df-c5d87f01-6621-4678-bdd0-8c8e9b5de07d');\n",
              "          const dataTable =\n",
              "            await google.colab.kernel.invokeFunction('convertToInteractive',\n",
              "                                                     [key], {});\n",
              "          if (!dataTable) return;\n",
              "\n",
              "          const docLinkHtml = 'Like what you see? Visit the ' +\n",
              "            '<a target=\"_blank\" href=https://colab.research.google.com/notebooks/data_table.ipynb>data table notebook</a>'\n",
              "            + ' to learn more about interactive tables.';\n",
              "          element.innerHTML = '';\n",
              "          dataTable['output_type'] = 'display_data';\n",
              "          await google.colab.output.renderOutput(dataTable, element);\n",
              "          const docLink = document.createElement('div');\n",
              "          docLink.innerHTML = docLinkHtml;\n",
              "          element.appendChild(docLink);\n",
              "        }\n",
              "      </script>\n",
              "    </div>\n",
              "  </div>\n",
              "  "
            ]
          },
          "metadata": {},
          "execution_count": 177
        }
      ]
    },
    {
      "cell_type": "code",
      "source": [
        "gdf.plot(figsize=(12,10),\n",
        "                 column='Percent Hispanic or Latino 2020',\n",
        "                 legend=True, \n",
        "                 scheme='equal_interval')"
      ],
      "metadata": {
        "colab": {
          "base_uri": "https://localhost:8080/",
          "height": 608
        },
        "id": "vY3M_8UKz_7a",
        "outputId": "96558e31-8d91-4eb4-f438-5bb16eb1626e"
      },
      "execution_count": null,
      "outputs": [
        {
          "output_type": "execute_result",
          "data": {
            "text/plain": [
              "<AxesSubplot:>"
            ]
          },
          "metadata": {},
          "execution_count": 63
        },
        {
          "output_type": "display_data",
          "data": {
            "text/plain": [
              "<Figure size 864x720 with 1 Axes>"
            ],
            "image/png": "[encoded data removed]"
          },
          "metadata": {
            "needs_background": "light"
          }
        }
      ]
    },
    {
      "cell_type": "code",
      "source": [
        "gdf.plot(figsize=(12,10),\n",
        "                 column='Percent Hispanic or Latino 2020',\n",
        "                 legend=True, \n",
        "                 scheme='quantiles')"
      ],
      "metadata": {
        "colab": {
          "base_uri": "https://localhost:8080/",
          "height": 608
        },
        "id": "n4a5zUNOz__T",
        "outputId": "0e48609e-045b-4546-8207-15cf351b595e"
      },
      "execution_count": null,
      "outputs": [
        {
          "output_type": "execute_result",
          "data": {
            "text/plain": [
              "<AxesSubplot:>"
            ]
          },
          "metadata": {},
          "execution_count": 65
        },
        {
          "output_type": "display_data",
          "data": {
            "text/plain": [
              "<Figure size 864x720 with 1 Axes>"
            ],
            "image/png": "[encoded data removed]"
          },
          "metadata": {
            "needs_background": "light"
          }
        }
      ]
    },
    {
      "cell_type": "code",
      "source": [
        "list(gdf)"
      ],
      "metadata": {
        "colab": {
          "base_uri": "https://localhost:8080/"
        },
        "id": "VpaBHfI6GC-W",
        "outputId": "25380d61-ded6-4a93-ab25-367b2b365e97"
      },
      "execution_count": null,
      "outputs": [
        {
          "output_type": "execute_result",
          "data": {
            "text/plain": [
              "['name',\n",
              " 'Total_2020',\n",
              " 'Total_2010',\n",
              " 'Total_Not_Hispanic_or_Latino_2020',\n",
              " 'Total_Not_Hispanic_or_Latino_2010',\n",
              " 'White_2020',\n",
              " 'White_2010',\n",
              " 'Black_2020',\n",
              " 'Black_2010',\n",
              " 'American_Indian_and_Alaska_2020',\n",
              " 'American_Indian_and_Alaska_2010',\n",
              " 'Asian_2020',\n",
              " 'Asian_2010',\n",
              " 'Native Hawaiian Pacific Islander_2020',\n",
              " 'Native Hawaiian Pacific Islander_2010',\n",
              " 'Some other race_2020',\n",
              " 'Some other race 2010',\n",
              " 'Two or more races_2020',\n",
              " 'Two or more races_2010',\n",
              " 'Hispanic 2020',\n",
              " 'Hispanic_2010',\n",
              " 'geometry',\n",
              " 'Percent Not Hispanic or Latino 2020',\n",
              " 'Percent Hispanic or Latino 2020',\n",
              " 'Percent White alone 2020',\n",
              " 'Percent Black or African American alone 2020',\n",
              " 'Percent American Indian and Alaska Native alone 2020',\n",
              " 'Percent Asian alone 2020',\n",
              " 'Percent Native Hawaiian and Other Pacific Islander alone 2020',\n",
              " 'Percent Some other race alone 2020',\n",
              " 'Percent Population of two or more races 2020']"
            ]
          },
          "metadata": {},
          "execution_count": 68
        }
      ]
    },
    {
      "cell_type": "code",
      "source": [
        "# hispanic plus all the non hispanice categories\n",
        "print(random_tract.iloc[0]['White_2010'] + \n",
        "      random_tract.iloc[0]['Black_2010'] + \n",
        "      random_tract.iloc[0]['American_Indian_and_Alaska_2010'] + \n",
        "      random_tract.iloc[0]['Asian_2010'] + \n",
        "      random_tract.iloc[0]['Native Hawaiian Pacific Islander_2010'] + \n",
        "      random_tract.iloc[0]['Some other race 2010'] + \n",
        "      random_tract.iloc[0]['Two or more races_2010'] + \n",
        "      random_tract.iloc[0]['Hispanic_2010'])"
      ],
      "metadata": {
        "colab": {
          "base_uri": "https://localhost:8080/"
        },
        "id": "sKPMFr1N1Nqm",
        "outputId": "848b96ad-f79e-42dc-d2be-cce7f71dc748"
      },
      "execution_count": null,
      "outputs": [
        {
          "output_type": "stream",
          "name": "stdout",
          "text": [
            "22993\n"
          ]
        }
      ]
    },
    {
      "cell_type": "code",
      "source": [
        "gdf['Total_2010'].head()"
      ],
      "metadata": {
        "colab": {
          "base_uri": "https://localhost:8080/"
        },
        "id": "-mQxHDkafSw2",
        "outputId": "1c80a7d7-7eb1-4d7e-bb9f-13e94b6da4f9"
      },
      "execution_count": null,
      "outputs": [
        {
          "output_type": "execute_result",
          "data": {
            "text/plain": [
              "0     2076\n",
              "1    11701\n",
              "2     2319\n",
              "3      891\n",
              "4    29917\n",
              "Name: Total_2010, dtype: int64"
            ]
          },
          "metadata": {},
          "execution_count": 114
        }
      ]
    },
    {
      "cell_type": "code",
      "source": [
        "print(random_tract.iloc[0]['Hispanic_2010'])"
      ],
      "metadata": {
        "colab": {
          "base_uri": "https://localhost:8080/"
        },
        "id": "WeOCCTh3cdrX",
        "outputId": "4621653e-9cd8-4036-a9ad-aee2a9ef42f1"
      },
      "execution_count": null,
      "outputs": [
        {
          "output_type": "stream",
          "name": "stdout",
          "text": [
            "547\n"
          ]
        }
      ]
    },
    {
      "cell_type": "code",
      "source": [
        "print(random_tract.iloc[0]['White_2010'])"
      ],
      "metadata": {
        "colab": {
          "base_uri": "https://localhost:8080/"
        },
        "id": "NJb7--6IczuT",
        "outputId": "ed302e98-dd9c-462d-d9a7-df439b297efe"
      },
      "execution_count": null,
      "outputs": [
        {
          "output_type": "stream",
          "name": "stdout",
          "text": [
            "25\n"
          ]
        }
      ]
    },
    {
      "cell_type": "code",
      "source": [
        "print(random_tract.iloc[0]['Black_2010'])"
      ],
      "metadata": {
        "colab": {
          "base_uri": "https://localhost:8080/"
        },
        "id": "tamNV5Anc77V",
        "outputId": "1d64a4b9-7db3-4a95-e330-b336c8617e00"
      },
      "execution_count": null,
      "outputs": [
        {
          "output_type": "stream",
          "name": "stdout",
          "text": [
            "18\n"
          ]
        }
      ]
    },
    {
      "cell_type": "code",
      "source": [
        "print(random_tract.iloc[0]['American_Indian_and_Alaska_2010'])"
      ],
      "metadata": {
        "colab": {
          "base_uri": "https://localhost:8080/"
        },
        "id": "n1pdHQ0_dFfE",
        "outputId": "86055b8d-7770-4d32-ff9d-6903ab445c75"
      },
      "execution_count": null,
      "outputs": [
        {
          "output_type": "stream",
          "name": "stdout",
          "text": [
            "1234\n"
          ]
        }
      ]
    },
    {
      "cell_type": "code",
      "source": [
        "print(random_tract.iloc[0]['Some other race 2010'])"
      ],
      "metadata": {
        "colab": {
          "base_uri": "https://localhost:8080/"
        },
        "id": "1c8Mv5kndFuI",
        "outputId": "cb61296d-5676-42a5-a055-d0bcfd363a52"
      },
      "execution_count": null,
      "outputs": [
        {
          "output_type": "stream",
          "name": "stdout",
          "text": [
            "34\n"
          ]
        }
      ]
    },
    {
      "cell_type": "code",
      "source": [
        "print(random_tract.iloc[0]['Two or more races_2010'])"
      ],
      "metadata": {
        "colab": {
          "base_uri": "https://localhost:8080/"
        },
        "id": "xMV9hgwsdF2m",
        "outputId": "b1525aa1-f2c5-424c-e72a-144d7b2060e2"
      },
      "execution_count": null,
      "outputs": [
        {
          "output_type": "stream",
          "name": "stdout",
          "text": [
            "13\n"
          ]
        }
      ]
    },
    {
      "cell_type": "code",
      "source": [
        "print(random_tract.iloc[0]['Asian_2010'])"
      ],
      "metadata": {
        "colab": {
          "base_uri": "https://localhost:8080/"
        },
        "id": "EwlWUG3ZdGC_",
        "outputId": "e69af6a8-2895-411f-98ed-8c063fa6dfd0"
      },
      "execution_count": null,
      "outputs": [
        {
          "output_type": "stream",
          "name": "stdout",
          "text": [
            "1650\n"
          ]
        }
      ]
    },
    {
      "cell_type": "code",
      "source": [
        "print(random_tract.iloc[0]['Native Hawaiian Pacific Islander_2010'])"
      ],
      "metadata": {
        "colab": {
          "base_uri": "https://localhost:8080/"
        },
        "id": "9FnSSxoQdGLf",
        "outputId": "90e423e8-2713-42d6-ae41-9bbca66d2da9"
      },
      "execution_count": null,
      "outputs": [
        {
          "output_type": "stream",
          "name": "stdout",
          "text": [
            "19472\n"
          ]
        }
      ]
    },
    {
      "cell_type": "code",
      "source": [
        "\n",
        "gdf['Percent Hispanic or Latino 2010'] = gdf['Hispanic_2010']/gdf['Total_2010']*100\n",
        "gdf['Percent White alone 2010'] = gdf['White_2010']/gdf['Total_2010']*100\n",
        "gdf['Percent Black or African American alone 2010'] = gdf['Black_2010']/gdf['Total_2010']*100\n",
        "gdf['Percent American Indian and Alaska Native alone 2010'] = gdf['American_Indian_and_Alaska_2010']/gdf['Total_2010']*100\n",
        "gdf['Asian alone 2010'] = gdf['Asian_2010']/gdf['Total_2010']*100\n",
        "gdf['Percent Native Hawaiian and Other Pacific Islander alone 2010'] = gdf['Native Hawaiian Pacific Islander_2010']/gdf['Total_2010']*100\n",
        "gdf['Percent Some other race alone 2010'] = gdf['Some other race 2010']/gdf['Total_2010']*100\n",
        "gdf['Percent Population of two or more races 2010'] = gdf['Two or more races_2010']/gdf['Total_2010']*100"
      ],
      "metadata": {
        "id": "NldDe0Ue2y1x"
      },
      "execution_count": null,
      "outputs": []
    },
    {
      "cell_type": "code",
      "source": [
        "list(gdf)"
      ],
      "metadata": {
        "colab": {
          "base_uri": "https://localhost:8080/"
        },
        "id": "Hj-TFlinKPIF",
        "outputId": "c932de93-d8ce-4c8e-de73-0ec630152dc2"
      },
      "execution_count": null,
      "outputs": [
        {
          "output_type": "execute_result",
          "data": {
            "text/plain": [
              "['name',\n",
              " 'Total_2020',\n",
              " 'Total_2010',\n",
              " 'Total_Not_Hispanic_or_Latino_2020',\n",
              " 'Total_Not_Hispanic_or_Latino_2010',\n",
              " 'White_2020',\n",
              " 'White_2010',\n",
              " 'Black_2020',\n",
              " 'Black_2010',\n",
              " 'American_Indian_and_Alaska_2020',\n",
              " 'American_Indian_and_Alaska_2010',\n",
              " 'Asian_2020',\n",
              " 'Asian_2010',\n",
              " 'Native Hawaiian Pacific Islander_2020',\n",
              " 'Native Hawaiian Pacific Islander_2010',\n",
              " 'Some other race_2020',\n",
              " 'Some other race 2010',\n",
              " 'Two or more races_2020',\n",
              " 'Two or more races_2010',\n",
              " 'Hispanic 2020',\n",
              " 'Hispanic_2010',\n",
              " 'geometry',\n",
              " 'Percent Not Hispanic or Latino 2020',\n",
              " 'Percent Hispanic or Latino 2020',\n",
              " 'Percent White alone 2020',\n",
              " 'Percent Black or African American alone 2020',\n",
              " 'Percent American Indian and Alaska Native alone 2020',\n",
              " 'Percent Asian alone 2020',\n",
              " 'Percent Native Hawaiian and Other Pacific Islander alone 2020',\n",
              " 'Percent Some other race alone 2020',\n",
              " 'Percent Population of two or more races 2020',\n",
              " 'Percent Not Hispanic or Latino 2010',\n",
              " 'Percent Hispanic or Latino 2010',\n",
              " 'Percent White alone 2010',\n",
              " 'Percent Black or African American alone 2010',\n",
              " 'Percent American Indian and Alaska Native alone 2010',\n",
              " 'Asian alone 2010',\n",
              " 'Percent Native Hawaiian and Other Pacific Islander alone 2010',\n",
              " 'Percent Some other race alone 2010',\n",
              " 'Percent Population of two or more races 2010',\n",
              " 'Percent Hispanic 2010']"
            ]
          },
          "metadata": {},
          "execution_count": 112
        }
      ]
    },
    {
      "cell_type": "code",
      "source": [
        "gdf.sample(5)"
      ],
      "metadata": {
        "colab": {
          "base_uri": "https://localhost:8080/",
          "height": 441
        },
        "id": "6pvRcO2nKUnS",
        "outputId": "537c5f18-61db-4316-d22e-f0f476dd8b1b"
      },
      "execution_count": null,
      "outputs": [
        {
          "output_type": "execute_result",
          "data": {
            "text/plain": [
              "                                      name  Total_2020  Total_2010  \\\n",
              "134                           Laguna Beach       23032        2155   \n",
              "148                              Lancaster      175618       78894   \n",
              "273  Unincorporated Santa Susana Mountains       11743        2346   \n",
              "58                            Coto de Caza       14710        1522   \n",
              "28                           Beverly Hills       32710        2223   \n",
              "\n",
              "     Total_Not_Hispanic_or_Latino_2020  Total_Not_Hispanic_or_Latino_2010  \\\n",
              "134                              20877                              18328   \n",
              "148                              96724                              43528   \n",
              "273                               9397                               5498   \n",
              "58                               13188                              10722   \n",
              "28                               30487                              24894   \n",
              "\n",
              "     White_2020  White_2010  Black_2020  Black_2010  \\\n",
              "134         181          25         961          18   \n",
              "148       35672         705        7736         255   \n",
              "273         454          18        2834           9   \n",
              "58          178          15        1354           7   \n",
              "28          662          13        2865          11   \n",
              "\n",
              "     American_Indian_and_Alaska_2020  ...  \\\n",
              "134                              130  ...   \n",
              "148                             1306  ...   \n",
              "273                               67  ...   \n",
              "58                                73  ...   \n",
              "28                               261  ...   \n",
              "\n",
              "     Percent Not Hispanic or Latino 2010  Percent Hispanic or Latino 2010  \\\n",
              "134                           850.487239                        25.382831   \n",
              "148                            55.172763                         5.833143   \n",
              "273                           234.356351                        17.306053   \n",
              "58                            704.467806                        27.266754   \n",
              "28                           1119.838057                        68.106163   \n",
              "\n",
              "     Percent White alone 2010  Percent Black or African American alone 2010  \\\n",
              "134                  1.160093                                      0.835267   \n",
              "148                  0.893604                                      0.323218   \n",
              "273                  0.767263                                      0.383632   \n",
              "58                   0.985545                                      0.459921   \n",
              "28                   0.584795                                      0.494827   \n",
              "\n",
              "     Percent American Indian and Alaska Native alone 2010  Asian alone 2010  \\\n",
              "134                                          57.262181            76.566125   \n",
              "148                                           9.534312            75.939869   \n",
              "273                                          22.037511            80.093777   \n",
              "58                                           55.124836            76.872536   \n",
              "28                                           80.116959            87.314440   \n",
              "\n",
              "     Percent Native Hawaiian and Other Pacific Islander alone 2010  \\\n",
              "134                                         903.573086               \n",
              "148                                          69.690978               \n",
              "273                                         241.219096               \n",
              "58                                          802.825230               \n",
              "28                                         1205.353126               \n",
              "\n",
              "     Percent Some other race alone 2010  \\\n",
              "134                            1.577726   \n",
              "148                            0.851776   \n",
              "273                            1.449275   \n",
              "58                             1.511170   \n",
              "28                             1.304543   \n",
              "\n",
              "     Percent Population of two or more races 2010  Percent Hispanic 2010  \n",
              "134                                      0.603248              25.382831  \n",
              "148                                      0.376454               5.833143  \n",
              "273                                      0.554135              17.306053  \n",
              "58                                       1.314060              27.266754  \n",
              "28                                       0.449843              68.106163  \n",
              "\n",
              "[5 rows x 41 columns]"
            ],
            "text/html": [
              "\n",
              "  <div id=\"df-50726057-3d3e-4fb9-82c4-f9542d2947ce\">\n",
              "    <div class=\"colab-df-container\">\n",
              "      <div>\n",
              "<style scoped>\n",
              "    .dataframe tbody tr th:only-of-type {\n",
              "        vertical-align: middle;\n",
              "    }\n",
              "\n",
              "    .dataframe tbody tr th {\n",
              "        vertical-align: top;\n",
              "    }\n",
              "\n",
              "    .dataframe thead th {\n",
              "        text-align: right;\n",
              "    }\n",
              "</style>\n",
              "<table border=\"1\" class=\"dataframe\">\n",
              "  <thead>\n",
              "    <tr style=\"text-align: right;\">\n",
              "      <th></th>\n",
              "      <th>name</th>\n",
              "      <th>Total_2020</th>\n",
              "      <th>Total_2010</th>\n",
              "      <th>Total_Not_Hispanic_or_Latino_2020</th>\n",
              "      <th>Total_Not_Hispanic_or_Latino_2010</th>\n",
              "      <th>White_2020</th>\n",
              "      <th>White_2010</th>\n",
              "      <th>Black_2020</th>\n",
              "      <th>Black_2010</th>\n",
              "      <th>American_Indian_and_Alaska_2020</th>\n",
              "      <th>...</th>\n",
              "      <th>Percent Not Hispanic or Latino 2010</th>\n",
              "      <th>Percent Hispanic or Latino 2010</th>\n",
              "      <th>Percent White alone 2010</th>\n",
              "      <th>Percent Black or African American alone 2010</th>\n",
              "      <th>Percent American Indian and Alaska Native alone 2010</th>\n",
              "      <th>Asian alone 2010</th>\n",
              "      <th>Percent Native Hawaiian and Other Pacific Islander alone 2010</th>\n",
              "      <th>Percent Some other race alone 2010</th>\n",
              "      <th>Percent Population of two or more races 2010</th>\n",
              "      <th>Percent Hispanic 2010</th>\n",
              "    </tr>\n",
              "  </thead>\n",
              "  <tbody>\n",
              "    <tr>\n",
              "      <th>134</th>\n",
              "      <td>Laguna Beach</td>\n",
              "      <td>23032</td>\n",
              "      <td>2155</td>\n",
              "      <td>20877</td>\n",
              "      <td>18328</td>\n",
              "      <td>181</td>\n",
              "      <td>25</td>\n",
              "      <td>961</td>\n",
              "      <td>18</td>\n",
              "      <td>130</td>\n",
              "      <td>...</td>\n",
              "      <td>850.487239</td>\n",
              "      <td>25.382831</td>\n",
              "      <td>1.160093</td>\n",
              "      <td>0.835267</td>\n",
              "      <td>57.262181</td>\n",
              "      <td>76.566125</td>\n",
              "      <td>903.573086</td>\n",
              "      <td>1.577726</td>\n",
              "      <td>0.603248</td>\n",
              "      <td>25.382831</td>\n",
              "    </tr>\n",
              "    <tr>\n",
              "      <th>148</th>\n",
              "      <td>Lancaster</td>\n",
              "      <td>175618</td>\n",
              "      <td>78894</td>\n",
              "      <td>96724</td>\n",
              "      <td>43528</td>\n",
              "      <td>35672</td>\n",
              "      <td>705</td>\n",
              "      <td>7736</td>\n",
              "      <td>255</td>\n",
              "      <td>1306</td>\n",
              "      <td>...</td>\n",
              "      <td>55.172763</td>\n",
              "      <td>5.833143</td>\n",
              "      <td>0.893604</td>\n",
              "      <td>0.323218</td>\n",
              "      <td>9.534312</td>\n",
              "      <td>75.939869</td>\n",
              "      <td>69.690978</td>\n",
              "      <td>0.851776</td>\n",
              "      <td>0.376454</td>\n",
              "      <td>5.833143</td>\n",
              "    </tr>\n",
              "    <tr>\n",
              "      <th>273</th>\n",
              "      <td>Unincorporated Santa Susana Mountains</td>\n",
              "      <td>11743</td>\n",
              "      <td>2346</td>\n",
              "      <td>9397</td>\n",
              "      <td>5498</td>\n",
              "      <td>454</td>\n",
              "      <td>18</td>\n",
              "      <td>2834</td>\n",
              "      <td>9</td>\n",
              "      <td>67</td>\n",
              "      <td>...</td>\n",
              "      <td>234.356351</td>\n",
              "      <td>17.306053</td>\n",
              "      <td>0.767263</td>\n",
              "      <td>0.383632</td>\n",
              "      <td>22.037511</td>\n",
              "      <td>80.093777</td>\n",
              "      <td>241.219096</td>\n",
              "      <td>1.449275</td>\n",
              "      <td>0.554135</td>\n",
              "      <td>17.306053</td>\n",
              "    </tr>\n",
              "    <tr>\n",
              "      <th>58</th>\n",
              "      <td>Coto de Caza</td>\n",
              "      <td>14710</td>\n",
              "      <td>1522</td>\n",
              "      <td>13188</td>\n",
              "      <td>10722</td>\n",
              "      <td>178</td>\n",
              "      <td>15</td>\n",
              "      <td>1354</td>\n",
              "      <td>7</td>\n",
              "      <td>73</td>\n",
              "      <td>...</td>\n",
              "      <td>704.467806</td>\n",
              "      <td>27.266754</td>\n",
              "      <td>0.985545</td>\n",
              "      <td>0.459921</td>\n",
              "      <td>55.124836</td>\n",
              "      <td>76.872536</td>\n",
              "      <td>802.825230</td>\n",
              "      <td>1.511170</td>\n",
              "      <td>1.314060</td>\n",
              "      <td>27.266754</td>\n",
              "    </tr>\n",
              "    <tr>\n",
              "      <th>28</th>\n",
              "      <td>Beverly Hills</td>\n",
              "      <td>32710</td>\n",
              "      <td>2223</td>\n",
              "      <td>30487</td>\n",
              "      <td>24894</td>\n",
              "      <td>662</td>\n",
              "      <td>13</td>\n",
              "      <td>2865</td>\n",
              "      <td>11</td>\n",
              "      <td>261</td>\n",
              "      <td>...</td>\n",
              "      <td>1119.838057</td>\n",
              "      <td>68.106163</td>\n",
              "      <td>0.584795</td>\n",
              "      <td>0.494827</td>\n",
              "      <td>80.116959</td>\n",
              "      <td>87.314440</td>\n",
              "      <td>1205.353126</td>\n",
              "      <td>1.304543</td>\n",
              "      <td>0.449843</td>\n",
              "      <td>68.106163</td>\n",
              "    </tr>\n",
              "  </tbody>\n",
              "</table>\n",
              "<p>5 rows × 41 columns</p>\n",
              "</div>\n",
              "      <button class=\"colab-df-convert\" onclick=\"convertToInteractive('df-50726057-3d3e-4fb9-82c4-f9542d2947ce')\"\n",
              "              title=\"Convert this dataframe to an interactive table.\"\n",
              "              style=\"display:none;\">\n",
              "        \n",
              "  <svg xmlns=\"http://www.w3.org/2000/svg\" height=\"24px\"viewBox=\"0 0 24 24\"\n",
              "       width=\"24px\">\n",
              "    <path d=\"M0 0h24v24H0V0z\" fill=\"none\"/>\n",
              "    <path d=\"M18.56 5.44l.94 2.06.94-2.06 2.06-.94-2.06-.94-.94-2.06-.94 2.06-2.06.94zm-11 1L8.5 8.5l.94-2.06 2.06-.94-2.06-.94L8.5 2.5l-.94 2.06-2.06.94zm10 10l.94 2.06.94-2.06 2.06-.94-2.06-.94-.94-2.06-.94 2.06-2.06.94z\"/><path d=\"M17.41 7.96l-1.37-1.37c-.4-.4-.92-.59-1.43-.59-.52 0-1.04.2-1.43.59L10.3 9.45l-7.72 7.72c-.78.78-.78 2.05 0 2.83L4 21.41c.39.39.9.59 1.41.59.51 0 1.02-.2 1.41-.59l7.78-7.78 2.81-2.81c.8-.78.8-2.07 0-2.86zM5.41 20L4 18.59l7.72-7.72 1.47 1.35L5.41 20z\"/>\n",
              "  </svg>\n",
              "      </button>\n",
              "      \n",
              "  <style>\n",
              "    .colab-df-container {\n",
              "      display:flex;\n",
              "      flex-wrap:wrap;\n",
              "      gap: 12px;\n",
              "    }\n",
              "\n",
              "    .colab-df-convert {\n",
              "      background-color: #E8F0FE;\n",
              "      border: none;\n",
              "      border-radius: 50%;\n",
              "      cursor: pointer;\n",
              "      display: none;\n",
              "      fill: #1967D2;\n",
              "      height: 32px;\n",
              "      padding: 0 0 0 0;\n",
              "      width: 32px;\n",
              "    }\n",
              "\n",
              "    .colab-df-convert:hover {\n",
              "      background-color: #E2EBFA;\n",
              "      box-shadow: 0px 1px 2px rgba(60, 64, 67, 0.3), 0px 1px 3px 1px rgba(60, 64, 67, 0.15);\n",
              "      fill: #174EA6;\n",
              "    }\n",
              "\n",
              "    [theme=dark] .colab-df-convert {\n",
              "      background-color: #3B4455;\n",
              "      fill: #D2E3FC;\n",
              "    }\n",
              "\n",
              "    [theme=dark] .colab-df-convert:hover {\n",
              "      background-color: #434B5C;\n",
              "      box-shadow: 0px 1px 3px 1px rgba(0, 0, 0, 0.15);\n",
              "      filter: drop-shadow(0px 1px 2px rgba(0, 0, 0, 0.3));\n",
              "      fill: #FFFFFF;\n",
              "    }\n",
              "  </style>\n",
              "\n",
              "      <script>\n",
              "        const buttonEl =\n",
              "          document.querySelector('#df-50726057-3d3e-4fb9-82c4-f9542d2947ce button.colab-df-convert');\n",
              "        buttonEl.style.display =\n",
              "          google.colab.kernel.accessAllowed ? 'block' : 'none';\n",
              "\n",
              "        async function convertToInteractive(key) {\n",
              "          const element = document.querySelector('#df-50726057-3d3e-4fb9-82c4-f9542d2947ce');\n",
              "          const dataTable =\n",
              "            await google.colab.kernel.invokeFunction('convertToInteractive',\n",
              "                                                     [key], {});\n",
              "          if (!dataTable) return;\n",
              "\n",
              "          const docLinkHtml = 'Like what you see? Visit the ' +\n",
              "            '<a target=\"_blank\" href=https://colab.research.google.com/notebooks/data_table.ipynb>data table notebook</a>'\n",
              "            + ' to learn more about interactive tables.';\n",
              "          element.innerHTML = '';\n",
              "          dataTable['output_type'] = 'display_data';\n",
              "          await google.colab.output.renderOutput(dataTable, element);\n",
              "          const docLink = document.createElement('div');\n",
              "          docLink.innerHTML = docLinkHtml;\n",
              "          element.appendChild(docLink);\n",
              "        }\n",
              "      </script>\n",
              "    </div>\n",
              "  </div>\n",
              "  "
            ]
          },
          "metadata": {},
          "execution_count": 119
        }
      ]
    },
    {
      "cell_type": "code",
      "source": [
        "gdf.plot(figsize=(12,10),\n",
        "                 column='Percent Hispanic or Latino 2010',\n",
        "                 legend=True, \n",
        "                 scheme='equal_interval')"
      ],
      "metadata": {
        "colab": {
          "base_uri": "https://localhost:8080/",
          "height": 608
        },
        "id": "1BQK_VG3KexY",
        "outputId": "89be4262-4103-4c5d-b4ec-17311bf5473f"
      },
      "execution_count": null,
      "outputs": [
        {
          "output_type": "execute_result",
          "data": {
            "text/plain": [
              "<AxesSubplot:>"
            ]
          },
          "metadata": {},
          "execution_count": 95
        },
        {
          "output_type": "display_data",
          "data": {
            "text/plain": [
              "<Figure size 864x720 with 1 Axes>"
            ],
            "image/png": "[encoded data removed]"
          },
          "metadata": {
            "needs_background": "light"
          }
        }
      ]
    },
    {
      "cell_type": "code",
      "source": [
        "# create the 1x2 subplots\n",
        "fig, axs = plt.subplots(1, 2, figsize=(15, 12))\n",
        "\n",
        "# name each subplot\n",
        "ax1, ax2 = axs\n",
        "\n",
        "# percent hispanic map on the left\n",
        "gdf.plot(column='Percent Hispanic or Latino 2010', \n",
        "            cmap='twilight', \n",
        "            scheme='user_defined',\n",
        "            classification_kwds={'bins':[20,40,60,80,100]},\n",
        "            edgecolor='white', \n",
        "            linewidth=0., \n",
        "            alpha=0.75, \n",
        "            ax=ax1, # this assigns the map to the subplot,\n",
        "            legend=True\n",
        "           )\n",
        "\n",
        "ax1.axis(\"off\")\n",
        "ax1.set_title(\"Percent Hispanic or Latino 2010\")\n",
        "\n",
        "# percent black map on the right\n",
        "gdf.plot(column='Percent Hispanic or Latino 2020', \n",
        "            cmap='twilight', \n",
        "            scheme='user_defined',\n",
        "            classification_kwds={'bins':[20,40,60,80,100]},\n",
        "            edgecolor='white', \n",
        "            linewidth=0., \n",
        "            alpha=0.75, \n",
        "            ax=ax2, # this assigns the map to the subplot\n",
        "            legend=True\n",
        "           )\n",
        "\n",
        "ax2.axis(\"off\")\n",
        "ax2.set_title(\"Percent Hispanic or Latino 2020\")"
      ],
      "metadata": {
        "colab": {
          "base_uri": "https://localhost:8080/",
          "height": 520
        },
        "id": "Tnt-1sZaKs7m",
        "outputId": "a089421e-38ef-4b23-cdeb-464b0030b767"
      },
      "execution_count": null,
      "outputs": [
        {
          "output_type": "execute_result",
          "data": {
            "text/plain": [
              "Text(0.5, 1.0, 'Percent Hispanic or Latino 2020')"
            ]
          },
          "metadata": {},
          "execution_count": 123
        },
        {
          "output_type": "display_data",
          "data": {
            "text/plain": [
              "<Figure size 1080x864 with 2 Axes>"
            ],
            "image/png": "[encoded data removed]"
          },
          "metadata": {
            "needs_background": "light"
          }
        }
      ]
    },
    {
      "cell_type": "code",
      "source": [
        "gdf['Total_2010'].plot.hist()"
      ],
      "metadata": {
        "colab": {
          "base_uri": "https://localhost:8080/",
          "height": 281
        },
        "id": "z56OBcEp17Ct",
        "outputId": "1c9e6079-6339-432c-f22e-f6aede0a4654"
      },
      "execution_count": null,
      "outputs": [
        {
          "output_type": "execute_result",
          "data": {
            "text/plain": [
              "<AxesSubplot:ylabel='Frequency'>"
            ]
          },
          "metadata": {},
          "execution_count": 78
        },
        {
          "output_type": "display_data",
          "data": {
            "text/plain": [
              "<Figure size 432x288 with 1 Axes>"
            ],
            "image/png": "[encoded data removed]"
          },
          "metadata": {
            "needs_background": "light"
          }
        }
      ]
    },
    {
      "cell_type": "code",
      "source": [
        "gdf['Percent Hispanic 2010']= gdf['Hispanic_2010']/gdf['Total_2010']*100"
      ],
      "metadata": {
        "id": "Jq60K5k71Eg9"
      },
      "execution_count": null,
      "outputs": []
    },
    {
      "cell_type": "code",
      "source": [
        "# create the 1x2 subplots\n",
        "fig, axs = plt.subplots(1, 2, figsize=(15, 12))\n",
        "\n",
        "# name each subplot\n",
        "ax1, ax2 = axs\n",
        "\n",
        "# percent hispanic map on the left\n",
        "gdf.plot(column='Percent Hispanic or Latino 2010', \n",
        "            cmap='RdYlGn_r', \n",
        "            scheme='user_defined',\n",
        "            classification_kwds={'bins':[20,40,60,80,100]},\n",
        "            edgecolor='white', \n",
        "            linewidth=0., \n",
        "            alpha=0.75, \n",
        "            ax=ax1, # this assigns the map to the subplot,\n",
        "            legend=True\n",
        "           )\n",
        "\n",
        "ax1.axis(\"off\")\n",
        "ax1.set_title(\"Percent Hispanic or Latino 2010\")"
      ],
      "metadata": {
        "colab": {
          "base_uri": "https://localhost:8080/",
          "height": 720
        },
        "id": "Wu1TBwFk0AD1",
        "outputId": "dc81614d-4477-4e55-9373-477a3a7466ab"
      },
      "execution_count": null,
      "outputs": [
        {
          "output_type": "execute_result",
          "data": {
            "text/plain": [
              "Text(0.5, 1.0, 'Percent Hispanic or Latino 2010')"
            ]
          },
          "metadata": {},
          "execution_count": 81
        },
        {
          "output_type": "display_data",
          "data": {
            "text/plain": [
              "<Figure size 1080x864 with 2 Axes>"
            ],
            "image/png": "[encoded data removed]"
          },
          "metadata": {
            "needs_background": "light"
          }
        }
      ]
    },
    {
      "cell_type": "markdown",
      "source": [
        "# **GEOPANDAS NYBB**"
      ],
      "metadata": {
        "id": "1LpOA_cQFcoE"
      }
    },
    {
      "cell_type": "code",
      "source": [
        "path_to_data = geopandas.datasets.get_path(\"nybb\")\n",
        "gdf = geopandas.read_file(path_to_data)\n",
        "\n",
        "gdf"
      ],
      "metadata": {
        "colab": {
          "base_uri": "https://localhost:8080/",
          "height": 211
        },
        "id": "Zjz-BDxPbKN2",
        "outputId": "e939e2d5-5fd1-42a1-b67c-0dbb01ec13d2"
      },
      "execution_count": 1,
      "outputs": [
        {
          "output_type": "error",
          "ename": "NameError",
          "evalue": "ignored",
          "traceback": [
            "\u001b[0;31m---------------------------------------------------------------------------\u001b[0m",
            "\u001b[0;31mNameError\u001b[0m                                 Traceback (most recent call last)",
            "\u001b[0;32m<ipython-input-1-7703048d6cfa>\u001b[0m in \u001b[0;36m<module>\u001b[0;34m()\u001b[0m\n\u001b[0;32m----> 1\u001b[0;31m \u001b[0mpath_to_data\u001b[0m \u001b[0;34m=\u001b[0m \u001b[0mgeopandas\u001b[0m\u001b[0;34m.\u001b[0m\u001b[0mdatasets\u001b[0m\u001b[0;34m.\u001b[0m\u001b[0mget_path\u001b[0m\u001b[0;34m(\u001b[0m\u001b[0;34m\"nybb\"\u001b[0m\u001b[0;34m)\u001b[0m\u001b[0;34m\u001b[0m\u001b[0;34m\u001b[0m\u001b[0m\n\u001b[0m\u001b[1;32m      2\u001b[0m \u001b[0mgdf\u001b[0m \u001b[0;34m=\u001b[0m \u001b[0mgeopandas\u001b[0m\u001b[0;34m.\u001b[0m\u001b[0mread_file\u001b[0m\u001b[0;34m(\u001b[0m\u001b[0mpath_to_data\u001b[0m\u001b[0;34m)\u001b[0m\u001b[0;34m\u001b[0m\u001b[0;34m\u001b[0m\u001b[0m\n\u001b[1;32m      3\u001b[0m \u001b[0;34m\u001b[0m\u001b[0m\n\u001b[1;32m      4\u001b[0m \u001b[0mgdf\u001b[0m\u001b[0;34m\u001b[0m\u001b[0;34m\u001b[0m\u001b[0m\n",
            "\u001b[0;31mNameError\u001b[0m: name 'geopandas' is not defined"
          ]
        }
      ]
    },
    {
      "cell_type": "code",
      "source": [
        "gdf.to_file(\"my_file.geojson\", driver=\"GeoJSON\")"
      ],
      "metadata": {
        "id": "q_inQ_I_bKYx"
      },
      "execution_count": null,
      "outputs": []
    },
    {
      "cell_type": "code",
      "source": [
        "gdf = gdf.set_index(\"BoroName\")\n",
        "gdf[\"area\"] = gdf.area\n",
        "gdf[\"area\"]"
      ],
      "metadata": {
        "id": "AeaEKHRfbT4F"
      },
      "execution_count": null,
      "outputs": []
    },
    {
      "cell_type": "code",
      "source": [
        "gdf['boundary'] = gdf.boundary\n",
        "gdf['boundary']"
      ],
      "metadata": {
        "id": "5mFwi7frbT89"
      },
      "execution_count": null,
      "outputs": []
    },
    {
      "cell_type": "code",
      "source": [
        "gdf['centroid'] = gdf.centroid\n",
        "gdf['centroid']"
      ],
      "metadata": {
        "id": "grHraEVLbUAs"
      },
      "execution_count": null,
      "outputs": []
    },
    {
      "cell_type": "code",
      "source": [
        "first_point = gdf['centroid'].iloc[0]\n",
        "gdf['distance'] = gdf['centroid'].distance(first_point)\n",
        "gdf['distance']"
      ],
      "metadata": {
        "id": "TwZIZwVIbUEP"
      },
      "execution_count": null,
      "outputs": []
    },
    {
      "cell_type": "code",
      "source": [
        "gdf['distance'].mean()"
      ],
      "metadata": {
        "id": "31ZrNw3WbUHn"
      },
      "execution_count": null,
      "outputs": []
    },
    {
      "cell_type": "code",
      "source": [
        "import matplotlib as plt"
      ],
      "metadata": {
        "id": "E1i1PPLQb-wZ"
      },
      "execution_count": null,
      "outputs": []
    },
    {
      "cell_type": "code",
      "source": [
        "gdf.explore(\"area\", legend=True)"
      ],
      "metadata": {
        "id": "PSTKQpADbUMa"
      },
      "execution_count": null,
      "outputs": []
    },
    {
      "cell_type": "code",
      "source": [
        ""
      ],
      "metadata": {
        "id": "s5nVWL11bKjL"
      },
      "execution_count": null,
      "outputs": []
    }
  ]
}