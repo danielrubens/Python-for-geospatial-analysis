{
 "cells": [
  {
   "cell_type": "code",
   "execution_count": 1,
   "id": "3b4e3a1c",
   "metadata": {},
   "outputs": [
    {
     "name": "stdout",
     "output_type": "stream",
     "text": [
      "Downloading https://github.com/giswqs/geemap/archive/master.zip ...\n",
      "Unzipping geemap-master.zip ...\n",
      "Data downloaded to: /Users/bonnymcclain/Downloads/geemap-master\n",
      "Processing /Users/bonnymcclain/Downloads/geemap-master\n",
      "  Preparing metadata (setup.py): started\n",
      "  Preparing metadata (setup.py): finished with status 'done'\n",
      "Requirement already satisfied: bqplot in /Users/bonnymcclain/opt/miniconda3/envs/geo/lib/python3.9/site-packages (from geemap==0.16.3) (0.12.33)\n",
      "Requirement already satisfied: colour in /Users/bonnymcclain/opt/miniconda3/envs/geo/lib/python3.9/site-packages (from geemap==0.16.3) (0.1.5)\n",
      "Requirement already satisfied: earthengine-api>=0.1.304 in /Users/bonnymcclain/opt/miniconda3/envs/geo/lib/python3.9/site-packages (from geemap==0.16.3) (0.1.315)\n",
      "Requirement already satisfied: ee_extra>=0.0.10 in /Users/bonnymcclain/opt/miniconda3/envs/geo/lib/python3.9/site-packages (from geemap==0.16.3) (0.0.13)\n",
      "Requirement already satisfied: ffmpeg-python in /Users/bonnymcclain/opt/miniconda3/envs/geo/lib/python3.9/site-packages (from geemap==0.16.3) (0.2.0)\n",
      "Requirement already satisfied: folium>=0.11.0 in /Users/bonnymcclain/opt/miniconda3/envs/geo/lib/python3.9/site-packages (from geemap==0.16.3) (0.12.1.post1)\n",
      "Requirement already satisfied: gdown in /Users/bonnymcclain/opt/miniconda3/envs/geo/lib/python3.9/site-packages (from geemap==0.16.3) (4.4.0)\n",
      "Requirement already satisfied: geeadd>=0.5.1 in /Users/bonnymcclain/opt/miniconda3/envs/geo/lib/python3.9/site-packages (from geemap==0.16.3) (0.5.4)\n",
      "Requirement already satisfied: geocoder in /Users/bonnymcclain/opt/miniconda3/envs/geo/lib/python3.9/site-packages (from geemap==0.16.3) (1.38.1)\n",
      "Requirement already satisfied: geojson in /Users/bonnymcclain/opt/miniconda3/envs/geo/lib/python3.9/site-packages (from geemap==0.16.3) (2.5.0)\n",
      "Requirement already satisfied: ipyevents in /Users/bonnymcclain/opt/miniconda3/envs/geo/lib/python3.9/site-packages (from geemap==0.16.3) (2.0.1)\n",
      "Requirement already satisfied: ipyfilechooser>=0.6.0 in /Users/bonnymcclain/opt/miniconda3/envs/geo/lib/python3.9/site-packages (from geemap==0.16.3) (0.6.0)\n",
      "Collecting ipyleaflet>=0.17.0\n",
      "  Downloading ipyleaflet-0.17.0-py2.py3-none-any.whl (3.3 MB)\n",
      "     ━━━━━━━━━━━━━━━━━━━━━━━━━━━━━━━━━━━━━━━━ 3.3/3.3 MB 15.1 MB/s eta 0:00:00\n",
      "Requirement already satisfied: ipytree in /Users/bonnymcclain/opt/miniconda3/envs/geo/lib/python3.9/site-packages (from geemap==0.16.3) (0.2.1)\n",
      "Requirement already satisfied: jupyterlab>=3 in /Users/bonnymcclain/opt/miniconda3/envs/geo/lib/python3.9/site-packages (from geemap==0.16.3) (3.4.3)\n",
      "Requirement already satisfied: matplotlib in /Users/bonnymcclain/opt/miniconda3/envs/geo/lib/python3.9/site-packages (from geemap==0.16.3) (3.4.3)\n",
      "Requirement already satisfied: numpy in /Users/bonnymcclain/opt/miniconda3/envs/geo/lib/python3.9/site-packages (from geemap==0.16.3) (1.22.4)\n",
      "Requirement already satisfied: pandas in /Users/bonnymcclain/opt/miniconda3/envs/geo/lib/python3.9/site-packages (from geemap==0.16.3) (1.4.2)\n",
      "Requirement already satisfied: pillow in /Users/bonnymcclain/opt/miniconda3/envs/geo/lib/python3.9/site-packages (from geemap==0.16.3) (9.1.1)\n",
      "Requirement already satisfied: pycrs in /Users/bonnymcclain/opt/miniconda3/envs/geo/lib/python3.9/site-packages (from geemap==0.16.3) (1.0.2)\n",
      "Requirement already satisfied: pyshp>=2.1.3 in /Users/bonnymcclain/opt/miniconda3/envs/geo/lib/python3.9/site-packages (from geemap==0.16.3) (2.3.0)\n",
      "Requirement already satisfied: python-box in /Users/bonnymcclain/opt/miniconda3/envs/geo/lib/python3.9/site-packages (from geemap==0.16.3) (6.0.2)\n",
      "Collecting sankee>=0.1.0\n",
      "  Downloading sankee-0.2.0.tar.gz (29 kB)\n",
      "  Preparing metadata (setup.py): started\n",
      "  Preparing metadata (setup.py): finished with status 'done'\n",
      "Requirement already satisfied: scooby in /Users/bonnymcclain/opt/miniconda3/envs/geo/lib/python3.9/site-packages (from geemap==0.16.3) (0.5.12)\n",
      "Requirement already satisfied: whiteboxgui>=0.6.0 in /Users/bonnymcclain/opt/miniconda3/envs/geo/lib/python3.9/site-packages (from geemap==0.16.3) (0.7.0)\n",
      "Requirement already satisfied: xyzservices in /Users/bonnymcclain/opt/miniconda3/envs/geo/lib/python3.9/site-packages (from geemap==0.16.3) (2022.4.0)\n",
      "Requirement already satisfied: google-auth>=1.4.1 in /Users/bonnymcclain/opt/miniconda3/envs/geo/lib/python3.9/site-packages (from earthengine-api>=0.1.304->geemap==0.16.3) (1.35.0)\n",
      "Requirement already satisfied: six in /Users/bonnymcclain/opt/miniconda3/envs/geo/lib/python3.9/site-packages (from earthengine-api>=0.1.304->geemap==0.16.3) (1.16.0)\n",
      "Requirement already satisfied: google-cloud-storage in /Users/bonnymcclain/opt/miniconda3/envs/geo/lib/python3.9/site-packages (from earthengine-api>=0.1.304->geemap==0.16.3) (2.4.0)\n",
      "Requirement already satisfied: httplib2shim in /Users/bonnymcclain/opt/miniconda3/envs/geo/lib/python3.9/site-packages (from earthengine-api>=0.1.304->geemap==0.16.3) (0.0.3)\n",
      "Requirement already satisfied: httplib2<1dev,>=0.9.2 in /Users/bonnymcclain/opt/miniconda3/envs/geo/lib/python3.9/site-packages (from earthengine-api>=0.1.304->geemap==0.16.3) (0.20.4)\n",
      "Requirement already satisfied: google-auth-httplib2>=0.0.3 in /Users/bonnymcclain/opt/miniconda3/envs/geo/lib/python3.9/site-packages (from earthengine-api>=0.1.304->geemap==0.16.3) (0.1.0)\n",
      "Requirement already satisfied: google-api-python-client<2,>=1.12.1 in /Users/bonnymcclain/opt/miniconda3/envs/geo/lib/python3.9/site-packages (from earthengine-api>=0.1.304->geemap==0.16.3) (1.12.8)\n",
      "Requirement already satisfied: future in /Users/bonnymcclain/opt/miniconda3/envs/geo/lib/python3.9/site-packages (from earthengine-api>=0.1.304->geemap==0.16.3) (0.18.2)\n",
      "Requirement already satisfied: jinja2>=2.9 in /Users/bonnymcclain/opt/miniconda3/envs/geo/lib/python3.9/site-packages (from folium>=0.11.0->geemap==0.16.3) (3.0.3)\n",
      "Requirement already satisfied: requests in /Users/bonnymcclain/opt/miniconda3/envs/geo/lib/python3.9/site-packages (from folium>=0.11.0->geemap==0.16.3) (2.28.0)\n",
      "Requirement already satisfied: branca>=0.3.0 in /Users/bonnymcclain/opt/miniconda3/envs/geo/lib/python3.9/site-packages (from folium>=0.11.0->geemap==0.16.3) (0.4.2)\n",
      "Requirement already satisfied: logzero>=1.5.0 in /Users/bonnymcclain/opt/miniconda3/envs/geo/lib/python3.9/site-packages (from geeadd>=0.5.1->geemap==0.16.3) (1.7.0)\n",
      "Requirement already satisfied: beautifulsoup4>=4.9.0 in /Users/bonnymcclain/opt/miniconda3/envs/geo/lib/python3.9/site-packages (from geeadd>=0.5.1->geemap==0.16.3) (4.11.1)\n",
      "Requirement already satisfied: ipywidgets in /Users/bonnymcclain/opt/miniconda3/envs/geo/lib/python3.9/site-packages (from ipyfilechooser>=0.6.0->geemap==0.16.3) (7.7.0)\n",
      "Requirement already satisfied: traittypes<3,>=0.2.1 in /Users/bonnymcclain/opt/miniconda3/envs/geo/lib/python3.9/site-packages (from ipyleaflet>=0.17.0->geemap==0.16.3) (0.2.1)\n",
      "Requirement already satisfied: ipython in /Users/bonnymcclain/opt/miniconda3/envs/geo/lib/python3.9/site-packages (from jupyterlab>=3->geemap==0.16.3) (8.4.0)\n",
      "Requirement already satisfied: jupyter-core in /Users/bonnymcclain/opt/miniconda3/envs/geo/lib/python3.9/site-packages (from jupyterlab>=3->geemap==0.16.3) (4.10.0)\n",
      "Requirement already satisfied: nbclassic~=0.2 in /Users/bonnymcclain/opt/miniconda3/envs/geo/lib/python3.9/site-packages (from jupyterlab>=3->geemap==0.16.3) (0.3.7)\n",
      "Requirement already satisfied: jupyterlab-server~=2.10 in /Users/bonnymcclain/opt/miniconda3/envs/geo/lib/python3.9/site-packages (from jupyterlab>=3->geemap==0.16.3) (2.14.0)\n",
      "Requirement already satisfied: tornado>=6.1.0 in /Users/bonnymcclain/opt/miniconda3/envs/geo/lib/python3.9/site-packages (from jupyterlab>=3->geemap==0.16.3) (6.1)\n",
      "Requirement already satisfied: packaging in /Users/bonnymcclain/opt/miniconda3/envs/geo/lib/python3.9/site-packages (from jupyterlab>=3->geemap==0.16.3) (21.3)\n",
      "Requirement already satisfied: jupyter-server~=1.16 in /Users/bonnymcclain/opt/miniconda3/envs/geo/lib/python3.9/site-packages (from jupyterlab>=3->geemap==0.16.3) (1.17.1)\n",
      "Requirement already satisfied: plotly>=5.2.2 in /Users/bonnymcclain/opt/miniconda3/envs/geo/lib/python3.9/site-packages (from sankee>=0.1.0->geemap==0.16.3) (5.8.2)\n",
      "Requirement already satisfied: whitebox in /Users/bonnymcclain/opt/miniconda3/envs/geo/lib/python3.9/site-packages (from whiteboxgui>=0.6.0->geemap==0.16.3) (2.1.2)\n",
      "Requirement already satisfied: traitlets>=4.3.0 in /Users/bonnymcclain/opt/miniconda3/envs/geo/lib/python3.9/site-packages (from bqplot->geemap==0.16.3) (5.3.0)\n",
      "Requirement already satisfied: python-dateutil>=2.8.1 in /Users/bonnymcclain/opt/miniconda3/envs/geo/lib/python3.9/site-packages (from pandas->geemap==0.16.3) (2.8.2)\n",
      "Requirement already satisfied: pytz>=2020.1 in /Users/bonnymcclain/opt/miniconda3/envs/geo/lib/python3.9/site-packages (from pandas->geemap==0.16.3) (2022.1)\n",
      "Requirement already satisfied: tqdm in /Users/bonnymcclain/opt/miniconda3/envs/geo/lib/python3.9/site-packages (from gdown->geemap==0.16.3) (4.64.0)\n",
      "Requirement already satisfied: filelock in /Users/bonnymcclain/opt/miniconda3/envs/geo/lib/python3.9/site-packages (from gdown->geemap==0.16.3) (3.7.1)\n",
      "Requirement already satisfied: ratelim in /Users/bonnymcclain/opt/miniconda3/envs/geo/lib/python3.9/site-packages (from geocoder->geemap==0.16.3) (0.1.6)\n",
      "Requirement already satisfied: click in /Users/bonnymcclain/opt/miniconda3/envs/geo/lib/python3.9/site-packages (from geocoder->geemap==0.16.3) (8.1.3)\n",
      "Requirement already satisfied: pyparsing>=2.2.1 in /Users/bonnymcclain/opt/miniconda3/envs/geo/lib/python3.9/site-packages (from matplotlib->geemap==0.16.3) (3.0.9)\n",
      "Requirement already satisfied: cycler>=0.10 in /Users/bonnymcclain/opt/miniconda3/envs/geo/lib/python3.9/site-packages (from matplotlib->geemap==0.16.3) (0.11.0)\n",
      "Requirement already satisfied: kiwisolver>=1.0.1 in /Users/bonnymcclain/opt/miniconda3/envs/geo/lib/python3.9/site-packages (from matplotlib->geemap==0.16.3) (1.4.3)\n",
      "Requirement already satisfied: soupsieve>1.2 in /Users/bonnymcclain/opt/miniconda3/envs/geo/lib/python3.9/site-packages (from beautifulsoup4>=4.9.0->geeadd>=0.5.1->geemap==0.16.3) (2.3.1)\n",
      "Requirement already satisfied: uritemplate<4dev,>=3.0.0 in /Users/bonnymcclain/opt/miniconda3/envs/geo/lib/python3.9/site-packages (from google-api-python-client<2,>=1.12.1->earthengine-api>=0.1.304->geemap==0.16.3) (3.0.1)\n",
      "Requirement already satisfied: google-api-core<2dev,>=1.21.0 in /Users/bonnymcclain/opt/miniconda3/envs/geo/lib/python3.9/site-packages (from google-api-python-client<2,>=1.12.1->earthengine-api>=0.1.304->geemap==0.16.3) (1.31.5)\n",
      "Requirement already satisfied: setuptools>=40.3.0 in /Users/bonnymcclain/opt/miniconda3/envs/geo/lib/python3.9/site-packages (from google-auth>=1.4.1->earthengine-api>=0.1.304->geemap==0.16.3) (62.3.4)\n",
      "Requirement already satisfied: pyasn1-modules>=0.2.1 in /Users/bonnymcclain/opt/miniconda3/envs/geo/lib/python3.9/site-packages (from google-auth>=1.4.1->earthengine-api>=0.1.304->geemap==0.16.3) (0.2.7)\n",
      "Requirement already satisfied: cachetools<5.0,>=2.0.0 in /Users/bonnymcclain/opt/miniconda3/envs/geo/lib/python3.9/site-packages (from google-auth>=1.4.1->earthengine-api>=0.1.304->geemap==0.16.3) (4.2.4)\n",
      "Requirement already satisfied: rsa<5,>=3.1.4 in /Users/bonnymcclain/opt/miniconda3/envs/geo/lib/python3.9/site-packages (from google-auth>=1.4.1->earthengine-api>=0.1.304->geemap==0.16.3) (4.8)\n",
      "Requirement already satisfied: ipython-genutils~=0.2.0 in /Users/bonnymcclain/opt/miniconda3/envs/geo/lib/python3.9/site-packages (from ipywidgets->ipyfilechooser>=0.6.0->geemap==0.16.3) (0.2.0)\n",
      "Requirement already satisfied: nbformat>=4.2.0 in /Users/bonnymcclain/opt/miniconda3/envs/geo/lib/python3.9/site-packages (from ipywidgets->ipyfilechooser>=0.6.0->geemap==0.16.3) (5.4.0)\n",
      "Requirement already satisfied: widgetsnbextension~=3.6.0 in /Users/bonnymcclain/opt/miniconda3/envs/geo/lib/python3.9/site-packages (from ipywidgets->ipyfilechooser>=0.6.0->geemap==0.16.3) (3.6.0)\n",
      "Requirement already satisfied: ipykernel>=4.5.1 in /Users/bonnymcclain/opt/miniconda3/envs/geo/lib/python3.9/site-packages (from ipywidgets->ipyfilechooser>=0.6.0->geemap==0.16.3) (6.15.0)\n",
      "Requirement already satisfied: jupyterlab-widgets>=1.0.0 in /Users/bonnymcclain/opt/miniconda3/envs/geo/lib/python3.9/site-packages (from ipywidgets->ipyfilechooser>=0.6.0->geemap==0.16.3) (1.1.0)\n",
      "Requirement already satisfied: prompt-toolkit!=3.0.0,!=3.0.1,<3.1.0,>=2.0.0 in /Users/bonnymcclain/opt/miniconda3/envs/geo/lib/python3.9/site-packages (from ipython->jupyterlab>=3->geemap==0.16.3) (3.0.29)\n",
      "Requirement already satisfied: decorator in /Users/bonnymcclain/opt/miniconda3/envs/geo/lib/python3.9/site-packages (from ipython->jupyterlab>=3->geemap==0.16.3) (5.1.1)\n",
      "Requirement already satisfied: stack-data in /Users/bonnymcclain/opt/miniconda3/envs/geo/lib/python3.9/site-packages (from ipython->jupyterlab>=3->geemap==0.16.3) (0.3.0)\n",
      "Requirement already satisfied: appnope in /Users/bonnymcclain/opt/miniconda3/envs/geo/lib/python3.9/site-packages (from ipython->jupyterlab>=3->geemap==0.16.3) (0.1.3)\n",
      "Requirement already satisfied: pygments>=2.4.0 in /Users/bonnymcclain/opt/miniconda3/envs/geo/lib/python3.9/site-packages (from ipython->jupyterlab>=3->geemap==0.16.3) (2.12.0)\n",
      "Requirement already satisfied: pexpect>4.3 in /Users/bonnymcclain/opt/miniconda3/envs/geo/lib/python3.9/site-packages (from ipython->jupyterlab>=3->geemap==0.16.3) (4.8.0)\n",
      "Requirement already satisfied: matplotlib-inline in /Users/bonnymcclain/opt/miniconda3/envs/geo/lib/python3.9/site-packages (from ipython->jupyterlab>=3->geemap==0.16.3) (0.1.3)\n",
      "Requirement already satisfied: backcall in /Users/bonnymcclain/opt/miniconda3/envs/geo/lib/python3.9/site-packages (from ipython->jupyterlab>=3->geemap==0.16.3) (0.2.0)\n",
      "Requirement already satisfied: pickleshare in /Users/bonnymcclain/opt/miniconda3/envs/geo/lib/python3.9/site-packages (from ipython->jupyterlab>=3->geemap==0.16.3) (0.7.5)\n",
      "Requirement already satisfied: jedi>=0.16 in /Users/bonnymcclain/opt/miniconda3/envs/geo/lib/python3.9/site-packages (from ipython->jupyterlab>=3->geemap==0.16.3) (0.18.1)\n",
      "Requirement already satisfied: MarkupSafe>=2.0 in /Users/bonnymcclain/opt/miniconda3/envs/geo/lib/python3.9/site-packages (from jinja2>=2.9->folium>=0.11.0->geemap==0.16.3) (2.1.1)\n",
      "Requirement already satisfied: argon2-cffi in /Users/bonnymcclain/opt/miniconda3/envs/geo/lib/python3.9/site-packages (from jupyter-server~=1.16->jupyterlab>=3->geemap==0.16.3) (21.1.0)\n",
      "Requirement already satisfied: nbconvert>=6.4.4 in /Users/bonnymcclain/opt/miniconda3/envs/geo/lib/python3.9/site-packages (from jupyter-server~=1.16->jupyterlab>=3->geemap==0.16.3) (6.5.0)\n",
      "Requirement already satisfied: anyio<4,>=3.1.0 in /Users/bonnymcclain/opt/miniconda3/envs/geo/lib/python3.9/site-packages (from jupyter-server~=1.16->jupyterlab>=3->geemap==0.16.3) (3.6.1)\n",
      "Requirement already satisfied: jupyter-client>=6.1.12 in /Users/bonnymcclain/opt/miniconda3/envs/geo/lib/python3.9/site-packages (from jupyter-server~=1.16->jupyterlab>=3->geemap==0.16.3) (7.3.4)\n",
      "Requirement already satisfied: terminado>=0.8.3 in /Users/bonnymcclain/opt/miniconda3/envs/geo/lib/python3.9/site-packages (from jupyter-server~=1.16->jupyterlab>=3->geemap==0.16.3) (0.15.0)\n",
      "Requirement already satisfied: prometheus-client in /Users/bonnymcclain/opt/miniconda3/envs/geo/lib/python3.9/site-packages (from jupyter-server~=1.16->jupyterlab>=3->geemap==0.16.3) (0.14.1)\n",
      "Requirement already satisfied: Send2Trash in /Users/bonnymcclain/opt/miniconda3/envs/geo/lib/python3.9/site-packages (from jupyter-server~=1.16->jupyterlab>=3->geemap==0.16.3) (1.8.0)\n",
      "Requirement already satisfied: websocket-client in /Users/bonnymcclain/opt/miniconda3/envs/geo/lib/python3.9/site-packages (from jupyter-server~=1.16->jupyterlab>=3->geemap==0.16.3) (1.3.2)\n",
      "Requirement already satisfied: pyzmq>=17 in /Users/bonnymcclain/opt/miniconda3/envs/geo/lib/python3.9/site-packages (from jupyter-server~=1.16->jupyterlab>=3->geemap==0.16.3) (23.1.0)\n",
      "Requirement already satisfied: importlib-metadata>=3.6 in /Users/bonnymcclain/opt/miniconda3/envs/geo/lib/python3.9/site-packages (from jupyterlab-server~=2.10->jupyterlab>=3->geemap==0.16.3) (4.11.4)\n",
      "Requirement already satisfied: babel in /Users/bonnymcclain/opt/miniconda3/envs/geo/lib/python3.9/site-packages (from jupyterlab-server~=2.10->jupyterlab>=3->geemap==0.16.3) (2.10.3)\n",
      "Requirement already satisfied: jsonschema>=3.0.1 in /Users/bonnymcclain/opt/miniconda3/envs/geo/lib/python3.9/site-packages (from jupyterlab-server~=2.10->jupyterlab>=3->geemap==0.16.3) (4.6.0)\n",
      "Requirement already satisfied: json5 in /Users/bonnymcclain/opt/miniconda3/envs/geo/lib/python3.9/site-packages (from jupyterlab-server~=2.10->jupyterlab>=3->geemap==0.16.3) (0.9.5)\n",
      "Requirement already satisfied: notebook<7 in /Users/bonnymcclain/opt/miniconda3/envs/geo/lib/python3.9/site-packages (from nbclassic~=0.2->jupyterlab>=3->geemap==0.16.3) (6.4.12)\n",
      "Requirement already satisfied: notebook-shim>=0.1.0 in /Users/bonnymcclain/opt/miniconda3/envs/geo/lib/python3.9/site-packages (from nbclassic~=0.2->jupyterlab>=3->geemap==0.16.3) (0.1.0)\n",
      "Requirement already satisfied: tenacity>=6.2.0 in /Users/bonnymcclain/opt/miniconda3/envs/geo/lib/python3.9/site-packages (from plotly>=5.2.2->sankee>=0.1.0->geemap==0.16.3) (8.0.1)\n",
      "Requirement already satisfied: idna<4,>=2.5 in /Users/bonnymcclain/opt/miniconda3/envs/geo/lib/python3.9/site-packages (from requests->folium>=0.11.0->geemap==0.16.3) (3.3)\n",
      "Requirement already satisfied: charset-normalizer~=2.0.0 in /Users/bonnymcclain/opt/miniconda3/envs/geo/lib/python3.9/site-packages (from requests->folium>=0.11.0->geemap==0.16.3) (2.0.12)\n",
      "Requirement already satisfied: urllib3<1.27,>=1.21.1 in /Users/bonnymcclain/opt/miniconda3/envs/geo/lib/python3.9/site-packages (from requests->folium>=0.11.0->geemap==0.16.3) (1.26.9)\n",
      "Requirement already satisfied: certifi>=2017.4.17 in /Users/bonnymcclain/opt/miniconda3/envs/geo/lib/python3.9/site-packages (from requests->folium>=0.11.0->geemap==0.16.3) (2022.6.15)\n",
      "Requirement already satisfied: google-cloud-core<3.0dev,>=2.3.0 in /Users/bonnymcclain/opt/miniconda3/envs/geo/lib/python3.9/site-packages (from google-cloud-storage->earthengine-api>=0.1.304->geemap==0.16.3) (2.3.1)\n",
      "Requirement already satisfied: google-resumable-media>=2.3.2 in /Users/bonnymcclain/opt/miniconda3/envs/geo/lib/python3.9/site-packages (from google-cloud-storage->earthengine-api>=0.1.304->geemap==0.16.3) (2.3.3)\n",
      "Requirement already satisfied: PySocks!=1.5.7,>=1.5.6 in /Users/bonnymcclain/opt/miniconda3/envs/geo/lib/python3.9/site-packages (from requests->folium>=0.11.0->geemap==0.16.3) (1.7.1)\n",
      "Requirement already satisfied: sniffio>=1.1 in /Users/bonnymcclain/opt/miniconda3/envs/geo/lib/python3.9/site-packages (from anyio<4,>=3.1.0->jupyter-server~=1.16->jupyterlab>=3->geemap==0.16.3) (1.2.0)\n",
      "Requirement already satisfied: googleapis-common-protos<2.0dev,>=1.6.0 in /Users/bonnymcclain/opt/miniconda3/envs/geo/lib/python3.9/site-packages (from google-api-core<2dev,>=1.21.0->google-api-python-client<2,>=1.12.1->earthengine-api>=0.1.304->geemap==0.16.3) (1.56.2)\n",
      "Requirement already satisfied: protobuf>=3.12.0 in /Users/bonnymcclain/opt/miniconda3/envs/geo/lib/python3.9/site-packages (from google-api-core<2dev,>=1.21.0->google-api-python-client<2,>=1.12.1->earthengine-api>=0.1.304->geemap==0.16.3) (3.20.1)\n",
      "Requirement already satisfied: google-crc32c<2.0dev,>=1.0 in /Users/bonnymcclain/opt/miniconda3/envs/geo/lib/python3.9/site-packages (from google-resumable-media>=2.3.2->google-cloud-storage->earthengine-api>=0.1.304->geemap==0.16.3) (1.1.2)\n",
      "Requirement already satisfied: zipp>=0.5 in /Users/bonnymcclain/opt/miniconda3/envs/geo/lib/python3.9/site-packages (from importlib-metadata>=3.6->jupyterlab-server~=2.10->jupyterlab>=3->geemap==0.16.3) (3.8.0)\n",
      "Requirement already satisfied: debugpy>=1.0 in /Users/bonnymcclain/opt/miniconda3/envs/geo/lib/python3.9/site-packages (from ipykernel>=4.5.1->ipywidgets->ipyfilechooser>=0.6.0->geemap==0.16.3) (1.6.0)\n",
      "Requirement already satisfied: nest-asyncio in /Users/bonnymcclain/opt/miniconda3/envs/geo/lib/python3.9/site-packages (from ipykernel>=4.5.1->ipywidgets->ipyfilechooser>=0.6.0->geemap==0.16.3) (1.5.5)\n",
      "Requirement already satisfied: psutil in /Users/bonnymcclain/opt/miniconda3/envs/geo/lib/python3.9/site-packages (from ipykernel>=4.5.1->ipywidgets->ipyfilechooser>=0.6.0->geemap==0.16.3) (5.9.1)\n",
      "Requirement already satisfied: parso<0.9.0,>=0.8.0 in /Users/bonnymcclain/opt/miniconda3/envs/geo/lib/python3.9/site-packages (from jedi>=0.16->ipython->jupyterlab>=3->geemap==0.16.3) (0.8.3)\n",
      "Requirement already satisfied: attrs>=17.4.0 in /Users/bonnymcclain/opt/miniconda3/envs/geo/lib/python3.9/site-packages (from jsonschema>=3.0.1->jupyterlab-server~=2.10->jupyterlab>=3->geemap==0.16.3) (21.4.0)\n",
      "Requirement already satisfied: pyrsistent!=0.17.0,!=0.17.1,!=0.17.2,>=0.14.0 in /Users/bonnymcclain/opt/miniconda3/envs/geo/lib/python3.9/site-packages (from jsonschema>=3.0.1->jupyterlab-server~=2.10->jupyterlab>=3->geemap==0.16.3) (0.18.1)\n",
      "Requirement already satisfied: entrypoints in /Users/bonnymcclain/opt/miniconda3/envs/geo/lib/python3.9/site-packages (from jupyter-client>=6.1.12->jupyter-server~=1.16->jupyterlab>=3->geemap==0.16.3) (0.4)\n",
      "Requirement already satisfied: tinycss2 in /Users/bonnymcclain/opt/miniconda3/envs/geo/lib/python3.9/site-packages (from nbconvert>=6.4.4->jupyter-server~=1.16->jupyterlab>=3->geemap==0.16.3) (1.1.1)\n",
      "Requirement already satisfied: jupyterlab-pygments in /Users/bonnymcclain/opt/miniconda3/envs/geo/lib/python3.9/site-packages (from nbconvert>=6.4.4->jupyter-server~=1.16->jupyterlab>=3->geemap==0.16.3) (0.2.2)\n",
      "Requirement already satisfied: mistune<2,>=0.8.1 in /Users/bonnymcclain/opt/miniconda3/envs/geo/lib/python3.9/site-packages (from nbconvert>=6.4.4->jupyter-server~=1.16->jupyterlab>=3->geemap==0.16.3) (0.8.4)\n",
      "Requirement already satisfied: defusedxml in /Users/bonnymcclain/opt/miniconda3/envs/geo/lib/python3.9/site-packages (from nbconvert>=6.4.4->jupyter-server~=1.16->jupyterlab>=3->geemap==0.16.3) (0.7.1)\n",
      "Requirement already satisfied: bleach in /Users/bonnymcclain/opt/miniconda3/envs/geo/lib/python3.9/site-packages (from nbconvert>=6.4.4->jupyter-server~=1.16->jupyterlab>=3->geemap==0.16.3) (5.0.0)\n",
      "Requirement already satisfied: pandocfilters>=1.4.1 in /Users/bonnymcclain/opt/miniconda3/envs/geo/lib/python3.9/site-packages (from nbconvert>=6.4.4->jupyter-server~=1.16->jupyterlab>=3->geemap==0.16.3) (1.5.0)\n",
      "Requirement already satisfied: nbclient>=0.5.0 in /Users/bonnymcclain/opt/miniconda3/envs/geo/lib/python3.9/site-packages (from nbconvert>=6.4.4->jupyter-server~=1.16->jupyterlab>=3->geemap==0.16.3) (0.5.13)\n",
      "Requirement already satisfied: fastjsonschema in /Users/bonnymcclain/opt/miniconda3/envs/geo/lib/python3.9/site-packages (from nbformat>=4.2.0->ipywidgets->ipyfilechooser>=0.6.0->geemap==0.16.3) (2.15.3)\n",
      "Requirement already satisfied: ptyprocess>=0.5 in /Users/bonnymcclain/opt/miniconda3/envs/geo/lib/python3.9/site-packages (from pexpect>4.3->ipython->jupyterlab>=3->geemap==0.16.3) (0.7.0)\n",
      "Requirement already satisfied: wcwidth in /Users/bonnymcclain/opt/miniconda3/envs/geo/lib/python3.9/site-packages (from prompt-toolkit!=3.0.0,!=3.0.1,<3.1.0,>=2.0.0->ipython->jupyterlab>=3->geemap==0.16.3) (0.2.5)\n",
      "Requirement already satisfied: pyasn1<0.5.0,>=0.4.6 in /Users/bonnymcclain/opt/miniconda3/envs/geo/lib/python3.9/site-packages (from pyasn1-modules>=0.2.1->google-auth>=1.4.1->earthengine-api>=0.1.304->geemap==0.16.3) (0.4.8)\n",
      "Requirement already satisfied: cffi>=1.0.0 in /Users/bonnymcclain/opt/miniconda3/envs/geo/lib/python3.9/site-packages (from argon2-cffi->jupyter-server~=1.16->jupyterlab>=3->geemap==0.16.3) (1.15.0)\n",
      "Requirement already satisfied: executing in /Users/bonnymcclain/opt/miniconda3/envs/geo/lib/python3.9/site-packages (from stack-data->ipython->jupyterlab>=3->geemap==0.16.3) (0.8.3)\n",
      "Requirement already satisfied: asttokens in /Users/bonnymcclain/opt/miniconda3/envs/geo/lib/python3.9/site-packages (from stack-data->ipython->jupyterlab>=3->geemap==0.16.3) (2.0.5)\n",
      "Requirement already satisfied: pure-eval in /Users/bonnymcclain/opt/miniconda3/envs/geo/lib/python3.9/site-packages (from stack-data->ipython->jupyterlab>=3->geemap==0.16.3) (0.2.2)\n",
      "Requirement already satisfied: pycparser in /Users/bonnymcclain/opt/miniconda3/envs/geo/lib/python3.9/site-packages (from cffi>=1.0.0->argon2-cffi->jupyter-server~=1.16->jupyterlab>=3->geemap==0.16.3) (2.21)\n",
      "Requirement already satisfied: webencodings in /Users/bonnymcclain/opt/miniconda3/envs/geo/lib/python3.9/site-packages (from bleach->nbconvert>=6.4.4->jupyter-server~=1.16->jupyterlab>=3->geemap==0.16.3) (0.5.1)\n",
      "Building wheels for collected packages: geemap, sankee\n",
      "  Building wheel for geemap (setup.py): started\n",
      "  Building wheel for geemap (setup.py): finished with status 'done'\n",
      "  Created wheel for geemap: filename=geemap-0.16.3-py2.py3-none-any.whl size=1990866 sha256=f1836a6a7cc40a99e125c57b2757bdb034bcbc75af076948a67e336df0cc0558\n",
      "  Stored in directory: /Users/bonnymcclain/Library/Caches/pip/wheels/31/7d/7a/ba20bd46b0e349757deeb059165287582f8ea48dce9fc68d1e\n",
      "  Building wheel for sankee (setup.py): started\n",
      "  Building wheel for sankee (setup.py): finished with status 'done'\n",
      "  Created wheel for sankee: filename=sankee-0.2.0-py3-none-any.whl size=28722 sha256=e67dc7f1d3e658f9d27726346f591d6b8688a5bcbb3c665bab28b27ac6f00212\n",
      "  Stored in directory: /Users/bonnymcclain/Library/Caches/pip/wheels/b3/b1/76/887c90e13ae29bd6ee072468858ca18cce6dbe80eef3e34438\n",
      "Successfully built geemap sankee\n",
      "Installing collected packages: sankee, ipyleaflet, geemap\n",
      "  Attempting uninstall: sankee\n",
      "    Found existing installation: sankee 0.0.7\n",
      "    Uninstalling sankee-0.0.7:\n",
      "      Successfully uninstalled sankee-0.0.7\n",
      "  Attempting uninstall: ipyleaflet\n",
      "    Found existing installation: ipyleaflet 0.16.0\n",
      "    Uninstalling ipyleaflet-0.16.0:\n",
      "      Successfully uninstalled ipyleaflet-0.16.0\n",
      "  Attempting uninstall: geemap\n",
      "    Found existing installation: geemap 0.13.11\n",
      "    Uninstalling geemap-0.13.11:\n",
      "      Successfully uninstalled geemap-0.13.11\n",
      "Successfully installed geemap-0.16.3 ipyleaflet-0.17.0 sankee-0.2.0\n",
      "\n",
      "Please comment out 'geemap.update_package()' and restart the kernel to take effect:\n",
      "Jupyter menu -> Kernel -> Restart & Clear Output\n"
     ]
    }
   ],
   "source": [
    "import os\n",
    "import ee\n",
    "import geemap\n",
    "geemap.update_package()\n"
   ]
  },
  {
   "cell_type": "code",
   "execution_count": 2,
   "id": "f4b688e7",
   "metadata": {
    "scrolled": true
   },
   "outputs": [
    {
     "data": {
      "text/html": [
       "<p>To authorize access needed by Earth Engine, open the following\n",
       "        URL in a web browser and follow the instructions:</p>\n",
       "        <p><a href=https://code.earthengine.google.com/client-auth?scopes=https%3A//www.googleapis.com/auth/earthengine%20https%3A//www.googleapis.com/auth/devstorage.full_control&request_id=a3tKxSAql9r0xREJn3jwDkO4nt0y9xfHIUfauMyqJNs&tc=_ipI7FIweDaAXEJJCwa9fGZ_wF19eghWUK5EpXtG1vY&cc=LRX25sj-QlSgiWFrO8EkBu6TjqcHwo1FXBRQ-veAr_s>https://code.earthengine.google.com/client-auth?scopes=https%3A//www.googleapis.com/auth/earthengine%20https%3A//www.googleapis.com/auth/devstorage.full_control&request_id=a3tKxSAql9r0xREJn3jwDkO4nt0y9xfHIUfauMyqJNs&tc=_ipI7FIweDaAXEJJCwa9fGZ_wF19eghWUK5EpXtG1vY&cc=LRX25sj-QlSgiWFrO8EkBu6TjqcHwo1FXBRQ-veAr_s</a></p>\n",
       "        <p>The authorization workflow will generate a code, which you\n",
       "        should paste in the box below</p>\n",
       "        "
      ],
      "text/plain": [
       "<IPython.core.display.HTML object>"
      ]
     },
     "metadata": {},
     "output_type": "display_data"
    },
    {
     "name": "stdout",
     "output_type": "stream",
     "text": [
      "Enter verification code: 4/1AdQt8qhyKg0zYUnWlSJwrrw5TrUdfkXTzD543WzcRxplZz68Iijr0vYwx6U\n",
      "\n",
      "Successfully saved authorization token.\n"
     ]
    },
    {
     "data": {
      "application/vnd.jupyter.widget-view+json": {
       "model_id": "965e396fac974b148999b3220b117ae4",
       "version_major": 2,
       "version_minor": 0
      },
      "text/plain": [
       "Map(center=[40, -100], controls=(WidgetControl(options=['position', 'transparent_bg'], widget=HBox(children=(T…"
      ]
     },
     "metadata": {},
     "output_type": "display_data"
    }
   ],
   "source": [
    "map = geemap.Map(center=(40, -100), zoom=4)\n",
    "map"
   ]
  },
  {
   "cell_type": "markdown",
   "id": "80974053",
   "metadata": {},
   "source": [
    "Now add a basemap and rerun the cell by hitting the run button in the menu. "
   ]
  },
  {
   "cell_type": "code",
   "execution_count": 7,
   "id": "9eb3962f",
   "metadata": {},
   "outputs": [
    {
     "data": {
      "application/vnd.jupyter.widget-view+json": {
       "model_id": "f188cd41168c4651badfabfa02b374a4",
       "version_major": 2,
       "version_minor": 0
      },
      "text/plain": [
       "Map(center=[40, -100], controls=(WidgetControl(options=['position', 'transparent_bg'], widget=HBox(children=(T…"
      ]
     },
     "metadata": {},
     "output_type": "display_data"
    }
   ],
   "source": [
    "map = geemap.Map(center =(40, -100), zoom= 4)\n",
    "map.basemap()\n",
    "map"
   ]
  },
  {
   "cell_type": "code",
   "execution_count": 8,
   "id": "60274c3b",
   "metadata": {},
   "outputs": [
    {
     "data": {
      "application/vnd.jupyter.widget-view+json": {
       "model_id": "bdebe919348e477c8a42618a1a41b3b0",
       "version_major": 2,
       "version_minor": 0
      },
      "text/plain": [
       "Map(center=[40, -100], controls=(WidgetControl(options=['position', 'transparent_bg'], widget=HBox(children=(T…"
      ]
     },
     "metadata": {},
     "output_type": "display_data"
    }
   ],
   "source": [
    "map = geemap.Map(center=(40, -100), zoom=4)\n",
    "map"
   ]
  },
  {
   "cell_type": "code",
   "execution_count": 12,
   "id": "46d75367",
   "metadata": {},
   "outputs": [
    {
     "name": "stdout",
     "output_type": "stream",
     "text": [
      "106919\n"
     ]
    }
   ],
   "source": [
    "collection = ee.ImageCollection('LANDSAT/LC09/C02/T1_L2')\n",
    "print(collection.size().getInfo())"
   ]
  },
  {
   "cell_type": "code",
   "execution_count": 13,
   "id": "7dec769c",
   "metadata": {},
   "outputs": [
    {
     "name": "stdout",
     "output_type": "stream",
     "text": [
      "1435859\n"
     ]
    }
   ],
   "source": [
    "collection = ee.ImageCollection('LANDSAT/LC08/C02/T1_L2')\n",
    "print(collection.size().getInfo())"
   ]
  },
  {
   "cell_type": "code",
   "execution_count": 16,
   "id": "76c9e829",
   "metadata": {},
   "outputs": [],
   "source": [
    "def apply_scale_factors(image):\n",
    "   opticalBands = image.select('SR_B.*').multiply(0.0000275).add(-0.2)\n",
    "   thermalBands = image.select('ST_B.*').multiply(0.00341802).add(149.0)\n",
    "   return image.addBands(opticalBands, None, True).addBands(thermalBands, None, True)\n",
    "\n"
   ]
  },
  {
   "cell_type": "code",
   "execution_count": 17,
   "id": "41b96896",
   "metadata": {},
   "outputs": [],
   "source": [
    "dataset = apply_scale_factors(median)"
   ]
  },
  {
   "cell_type": "code",
   "execution_count": 18,
   "id": "b8bac71a",
   "metadata": {},
   "outputs": [],
   "source": [
    "vis_natural = {\n",
    "   'bands': ['SR_B4', 'SR_B3', 'SR_B2'],\n",
    "   'min': 0.0,\n",
    "   'max': 0.3,\n",
    "}\n",
    "\n",
    "vis_nir = {\n",
    "   'bands': ['SR_B5', 'SR_B4', 'SR_B3'],\n",
    "   'min': 0.0,\n",
    "   'max': 0.3,\n",
    "}"
   ]
  },
  {
   "cell_type": "code",
   "execution_count": 20,
   "id": "e6ac852f",
   "metadata": {},
   "outputs": [],
   "source": [
    "map.addLayer(dataset, vis_natural, 'True color (432)')\n"
   ]
  },
  {
   "cell_type": "code",
   "execution_count": 21,
   "id": "e2fe9b09",
   "metadata": {},
   "outputs": [],
   "source": [
    "vis_params = [\n",
    "   {'bands': ['SR_B4', 'SR_B3', 'SR_B2'], 'min': 0, 'max': 0.3},\n",
    "   {'bands': ['SR_B5', 'SR_B4', 'SR_B3'], 'min': 0, 'max': 0.3},\n",
    "   {'bands': ['SR_B7', 'SR_B6', 'SR_B4'], 'min': 0, 'max': 0.3},\n",
    "   {'bands': ['SR_B6', 'SR_B5', 'SR_B2'], 'min': 0, 'max': 0.3},\n",
    "]\n"
   ]
  },
  {
   "cell_type": "code",
   "execution_count": 22,
   "id": "5f7c2682",
   "metadata": {},
   "outputs": [],
   "source": [
    "labels = [\n",
    "   'Natural Color (4, 3, 2)',\n",
    "   'Color Infrared (5, 4, 3)',\n",
    "   'Short-Wave Infrared (7, 6 4)',\n",
    "   'Agriculture (6, 5, 2)',\n",
    "]\n",
    "\n"
   ]
  },
  {
   "cell_type": "markdown",
   "id": "c708c4bf",
   "metadata": {},
   "source": [
    "The code cell below might take a few minutes to load..."
   ]
  },
  {
   "cell_type": "code",
   "execution_count": 23,
   "id": "60b63dce",
   "metadata": {
    "scrolled": false
   },
   "outputs": [
    {
     "data": {
      "application/vnd.jupyter.widget-view+json": {
       "model_id": "475341a5aa264375b076a4de2c0a755d",
       "version_major": 2,
       "version_minor": 0
      },
      "text/plain": [
       "GridspecLayout(children=(Output(layout=Layout(grid_area='widget001')), Output(layout=Layout(grid_area='widget0…"
      ]
     },
     "metadata": {},
     "output_type": "display_data"
    }
   ],
   "source": [
    "geemap.linked_maps(\n",
    "   rows=2,\n",
    "   cols=2,\n",
    "   height=\"400px\",\n",
    "   center=[-3.4653, -62.2159],\n",
    "   zoom=4,\n",
    "   ee_objects=[dataset],\n",
    "   vis_params=vis_params,\n",
    "   labels=labels,\n",
    "   label_position=\"topright\",\n",
    ")"
   ]
  },
  {
   "cell_type": "code",
   "execution_count": 24,
   "id": "4c08b33e",
   "metadata": {},
   "outputs": [
    {
     "data": {
      "application/vnd.jupyter.widget-view+json": {
       "model_id": "f3513c5e8c894faf9c2825f71d39c300",
       "version_major": 2,
       "version_minor": 0
      },
      "text/plain": [
       "Map(center=[20, 0], controls=(WidgetControl(options=['position', 'transparent_bg'], widget=HBox(children=(Togg…"
      ]
     },
     "metadata": {},
     "output_type": "display_data"
    },
    {
     "data": {
      "application/javascript": [
       "\n",
       "        var code = IPython.notebook.insert_cell_below('code');\n",
       "        code.set_text(atob(\"aW1wb3J0IGdlZW1hcAoKTWFwID0gZ2VlbWFwLk1hcCgpCgojIEltcG9ydCB0aGUgTkxDRCBjb2xsZWN0aW9uLgpkYXRhc2V0ID0gZWUuSW1hZ2VDb2xsZWN0aW9uKCdVU0dTL05MQ0RfUkVMRUFTRVMvMjAxOV9SRUwvTkxDRCcpCgojIFRoZSBjb2xsZWN0aW9uIGNvbnRhaW5zIGltYWdlcyBmb3IgbXVsdGlwbGUgeWVhcnMgYW5kIHJlZ2lvbnMgaW4gdGhlIFVTQS4KcHJpbnQoJ1Byb2R1Y3RzOicsIGRhdGFzZXQuYWdncmVnYXRlX2FycmF5KCdzeXN0ZW06aW5kZXgnKSkKCiMgRmlsdGVyIHRoZSBjb2xsZWN0aW9uIHRvIHRoZSAyMDE2IHByb2R1Y3QuCm5sY2QyMDE2ID0gZGF0YXNldC5maWx0ZXIoZWUuRmlsdGVyLmVxKCdzeXN0ZW06aW5kZXgnLCAnMjAxNicpKS5maXJzdCgpCgojIEVhY2ggcHJvZHVjdCBoYXMgbXVsdGlwbGUgYmFuZHMgZm9yIGRlc2NyaWJpbmcgYXNwZWN0cyBvZiBsYW5kIGNvdmVyLgpwcmludCgnQmFuZHM6JywgbmxjZDIwMTYuYmFuZE5hbWVzKCkpCgojIFNlbGVjdCB0aGUgbGFuZCBjb3ZlciBiYW5kLgpsYW5kY292ZXIgPSBubGNkMjAxNi5zZWxlY3QoJ2xhbmRjb3ZlcicpCgojIERpc3BsYXkgbGFuZCBjb3ZlciBvbiB0aGUgbWFwLgpNYXAuc2V0Q2VudGVyKC05NSwgMzgsIDUpCk1hcC5hZGRMYXllcihsYW5kY292ZXIsIE5vbmUsICdMYW5kY292ZXInKQpNYXA=\"));\n",
       "    "
      ],
      "text/plain": [
       "<IPython.core.display.Javascript object>"
      ]
     },
     "metadata": {},
     "output_type": "display_data"
    }
   ],
   "source": [
    "map = geemap.Map()  \n",
    "map"
   ]
  },
  {
   "cell_type": "code",
   "execution_count": 37,
   "id": "8545b8ba",
   "metadata": {},
   "outputs": [
    {
     "name": "stdout",
     "output_type": "stream",
     "text": [
      "Products: ee.List({\n",
      "  \"functionInvocationValue\": {\n",
      "    \"functionName\": \"AggregateFeatureCollection.array\",\n",
      "    \"arguments\": {\n",
      "      \"collection\": {\n",
      "        \"functionInvocationValue\": {\n",
      "          \"functionName\": \"ImageCollection.load\",\n",
      "          \"arguments\": {\n",
      "            \"id\": {\n",
      "              \"constantValue\": \"USGS/NLCD_RELEASES/2019_REL/NLCD\"\n",
      "            }\n",
      "          }\n",
      "        }\n",
      "      },\n",
      "      \"property\": {\n",
      "        \"constantValue\": \"system:index\"\n",
      "      }\n",
      "    }\n",
      "  }\n",
      "})\n",
      "Bands: ee.List({\n",
      "  \"functionInvocationValue\": {\n",
      "    \"functionName\": \"Image.bandNames\",\n",
      "    \"arguments\": {\n",
      "      \"image\": {\n",
      "        \"functionInvocationValue\": {\n",
      "          \"functionName\": \"Collection.first\",\n",
      "          \"arguments\": {\n",
      "            \"collection\": {\n",
      "              \"functionInvocationValue\": {\n",
      "                \"functionName\": \"Collection.filter\",\n",
      "                \"arguments\": {\n",
      "                  \"collection\": {\n",
      "                    \"functionInvocationValue\": {\n",
      "                      \"functionName\": \"ImageCollection.load\",\n",
      "                      \"arguments\": {\n",
      "                        \"id\": {\n",
      "                          \"constantValue\": \"USGS/NLCD_RELEASES/2019_REL/NLCD\"\n",
      "                        }\n",
      "                      }\n",
      "                    }\n",
      "                  },\n",
      "                  \"filter\": {\n",
      "                    \"functionInvocationValue\": {\n",
      "                      \"functionName\": \"Filter.equals\",\n",
      "                      \"arguments\": {\n",
      "                        \"leftField\": {\n",
      "                          \"constantValue\": \"system:index\"\n",
      "                        },\n",
      "                        \"rightValue\": {\n",
      "                          \"constantValue\": \"2016\"\n",
      "                        }\n",
      "                      }\n",
      "                    }\n",
      "                  }\n",
      "                }\n",
      "              }\n",
      "            }\n",
      "          }\n",
      "        }\n",
      "      }\n",
      "    }\n",
      "  }\n",
      "})\n"
     ]
    },
    {
     "data": {
      "application/vnd.jupyter.widget-view+json": {
       "model_id": "805d2ac340b443988fdebb128874e8c2",
       "version_major": 2,
       "version_minor": 0
      },
      "text/plain": [
       "Map(center=[38, -95], controls=(WidgetControl(options=['position', 'transparent_bg'], widget=HBox(children=(To…"
      ]
     },
     "metadata": {},
     "output_type": "display_data"
    },
    {
     "data": {
      "application/javascript": [
       "\n",
       "        var code = IPython.notebook.insert_cell_below('code');\n",
       "        code.set_text(atob(\"ZGF0YXNldF9ocG4gPSBlZS5JbWFnZUNvbGxlY3Rpb24oJ1VTR1MvTkxDRF9SRUxFQVNFUy8yMDE2X1JFTCcpCk1hcC5hZGRMYXllcihkYXRhc2V0X2hwbiwge30sICJVU0dTL05MQ0RfUkVMRUFTRVMvMjAxNl9SRUwiKQ==\"));\n",
       "    "
      ],
      "text/plain": [
       "<IPython.core.display.Javascript object>"
      ]
     },
     "metadata": {},
     "output_type": "display_data"
    },
    {
     "data": {
      "application/javascript": [
       "\n",
       "        var code = IPython.notebook.insert_cell_below('code');\n",
       "        code.set_text(atob(\"ZGF0YXNldF94ZWQgPSBlZS5JbWFnZUNvbGxlY3Rpb24oJ1VTR1MvTkxDRF9SRUxFQVNFUy8yMDE2X1JFTCcpCk1hcC5hZGRMYXllcihkYXRhc2V0X3hlZCwge30sICJVU0dTL05MQ0RfUkVMRUFTRVMvMjAxNl9SRUwiKQ==\"));\n",
       "    "
      ],
      "text/plain": [
       "<IPython.core.display.Javascript object>"
      ]
     },
     "metadata": {},
     "output_type": "display_data"
    }
   ],
   "source": [
    "import geemap\n",
    "\n",
    "Map = geemap.Map()\n",
    "\n",
    "# Import the NLCD collection.\n",
    "dataset = ee.ImageCollection('USGS/NLCD_RELEASES/2019_REL/NLCD')\n",
    "\n",
    "# The collection contains images for multiple years and regions in the USA.\n",
    "print('Products:', dataset.aggregate_array('system:index'))\n",
    "\n",
    "# Filter the collection to the 2016 product.\n",
    "nlcd2016 = dataset.filter(ee.Filter.eq('system:index', '2016')).first()\n",
    "\n",
    "# Each product has multiple bands for describing aspects of land cover.\n",
    "print('Bands:', nlcd2016.bandNames())\n",
    "\n",
    "# Select the land cover band.\n",
    "landcover = nlcd2016.select('landcover')\n",
    "\n",
    "# Display land cover on the map.\n",
    "Map.setCenter(-95, 38, 5)\n",
    "Map.addLayer(landcover, None, 'Landcover')\n",
    "Map"
   ]
  },
  {
   "cell_type": "code",
   "execution_count": null,
   "id": "706b7d75",
   "metadata": {},
   "outputs": [],
   "source": [
    "dataset_xed = ee.ImageCollection('USGS/NLCD_RELEASES/2016_REL')\n",
    "Map.addLayer(dataset_xed, {}, \"USGS/NLCD_RELEASES/2016_REL\")"
   ]
  },
  {
   "cell_type": "code",
   "execution_count": 43,
   "id": "1d160770",
   "metadata": {},
   "outputs": [],
   "source": [
    "dataset_hpn = ee.ImageCollection('USGS/NLCD_RELEASES/2016_REL')\n",
    "Map.addLayer(dataset_hpn, {}, \"USGS/NLCD_RELEASES/2016_REL\")"
   ]
  },
  {
   "cell_type": "code",
   "execution_count": 38,
   "id": "17538c3c",
   "metadata": {},
   "outputs": [
    {
     "name": "stdout",
     "output_type": "stream",
     "text": [
      "NLCD\n",
      "ESA_WorldCover\n",
      "ESRI_LandCover\n",
      "Dynamic_World\n",
      "NWI\n",
      "MODIS/051/MCD12Q1\n",
      "MODIS/006/MCD12Q1\n",
      "GLOBCOVER\n",
      "JAXA/PALSAR\n",
      "Oxford\n",
      "AAFC/ACI\n",
      "COPERNICUS/CORINE/V20/100m\n",
      "COPERNICUS/Landcover/100m/Proba-V/Global\n",
      "USDA/NASS/CDL\n",
      "ALOS_landforms\n"
     ]
    }
   ],
   "source": [
    "legends = geemap.builtin_legends\n",
    "for legend in legends:\n",
    "    print(legend)\n",
    "\n",
    "\n",
    "\n"
   ]
  },
  {
   "cell_type": "code",
   "execution_count": 45,
   "id": "4a97ff27",
   "metadata": {},
   "outputs": [
    {
     "data": {
      "application/vnd.jupyter.widget-view+json": {
       "model_id": "3f043e13d367418da95e65297b2edefe",
       "version_major": 2,
       "version_minor": 0
      },
      "text/plain": [
       "Map(center=[20, 0], controls=(WidgetControl(options=['position', 'transparent_bg'], widget=HBox(children=(Togg…"
      ]
     },
     "metadata": {},
     "output_type": "display_data"
    }
   ],
   "source": [
    "Map = geemap.Map()\n",
    "\n",
    "legend_dict = {\n",
    "    '11 Open Water': '466b9f',\n",
    "    '12 Perennial Ice/Snow': 'd1def8',\n",
    "    '21 Developed, Open Space': 'dec5c5',\n",
    "    '22 Developed, Low Intensity': 'd99282',\n",
    "    '23 Developed, Medium Intensity': 'eb0000',\n",
    "    '24 Developed High Intensity': 'ab0000',\n",
    "    '31 Barren Land (Rock/Sand/Clay)': 'b3ac9f',\n",
    "    '41 Deciduous Forest': '68ab5f',\n",
    "    '42 Evergreen Forest': '1c5f2c',\n",
    "    '43 Mixed Forest': 'b5c58f',\n",
    "    '51 Dwarf Scrub': 'af963c',\n",
    "    '52 Shrub/Scrub': 'ccb879',\n",
    "    '71 Grassland/Herbaceous': 'dfdfc2',\n",
    "    '72 Sedge/Herbaceous': 'd1d182',\n",
    "    '73 Lichens': 'a3cc51',\n",
    "    '74 Moss': '82ba9e',\n",
    "    '81 Pasture/Hay': 'dcd939',\n",
    "    '82 Cultivated Crops': 'ab6c28',\n",
    "    '90 Woody Wetlands': 'b8d9eb',\n",
    "    '95 Emergent Herbaceous Wetlands': '6c9fb8',\n",
    "}\n",
    "\n",
    "landcover = ee.Image('USGS/NLCD/NLCD2016').select('landcover')\n",
    "Map.addLayer(landcover, {}, 'NLCD Land Cover')\n",
    "\n",
    "Map.add_legend(legend_title=\"NLCD Land Cover Classification\", legend_dict=legend_dict)\n",
    "Map"
   ]
  },
  {
   "cell_type": "code",
   "execution_count": 46,
   "id": "39e178ce",
   "metadata": {},
   "outputs": [
    {
     "data": {
      "application/vnd.jupyter.widget-view+json": {
       "model_id": "a5d00351b2604b6d926149940484f6a8",
       "version_major": 2,
       "version_minor": 0
      },
      "text/plain": [
       "Map(center=[20, 0], controls=(WidgetControl(options=['position', 'transparent_bg'], widget=HBox(children=(Togg…"
      ]
     },
     "metadata": {},
     "output_type": "display_data"
    }
   ],
   "source": [
    "Map = geemap.Map()\n",
    "Map.add_basemap('HYBRID')\n",
    "landcover = ee.Image('USGS/NLCD_RELEASES/2019_REL/NLCD/2019').select('landcover')\n",
    "Map.addLayer(landcover, {}, 'NLCD Land Cover')\n",
    "Map.add_legend(builtin_legend='NLCD')\n",
    "Map"
   ]
  },
  {
   "cell_type": "code",
   "execution_count": null,
   "id": "b81a86a8",
   "metadata": {},
   "outputs": [],
   "source": []
  }
 ],
 "metadata": {
  "hide_input": false,
  "kernelspec": {
   "display_name": "geo",
   "language": "python",
   "name": "geo"
  },
  "language_info": {
   "codemirror_mode": {
    "name": "ipython",
    "version": 3
   },
   "file_extension": ".py",
   "mimetype": "text/x-python",
   "name": "python",
   "nbconvert_exporter": "python",
   "pygments_lexer": "ipython3",
   "version": "3.9.13"
  },
  "toc": {
   "base_numbering": 1,
   "nav_menu": {},
   "number_sections": true,
   "sideBar": true,
   "skip_h1_title": false,
   "title_cell": "Table of Contents",
   "title_sidebar": "Contents",
   "toc_cell": false,
   "toc_position": {},
   "toc_section_display": true,
   "toc_window_display": true
  }
 },
 "nbformat": 4,
 "nbformat_minor": 5
}
