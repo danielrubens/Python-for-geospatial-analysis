{
 "cells": [
  {
   "cell_type": "code",
   "execution_count": 1,
   "id": "ed0c6a14",
   "metadata": {},
   "outputs": [
    {
     "name": "stdout",
     "output_type": "stream",
     "text": [
      "Requirement already satisfied: geemap in ./opt/miniconda3/envs/geo/lib/python3.9/site-packages (0.13.11)\n",
      "Requirement already satisfied: ipyevents in ./opt/miniconda3/envs/geo/lib/python3.9/site-packages (from geemap) (2.0.1)\n",
      "Requirement already satisfied: mapclassify>=2.4.0 in ./opt/miniconda3/envs/geo/lib/python3.9/site-packages (from geemap) (2.4.3)\n",
      "Requirement already satisfied: gdown in ./opt/miniconda3/envs/geo/lib/python3.9/site-packages (from geemap) (4.4.0)\n",
      "Requirement already satisfied: geojson in ./opt/miniconda3/envs/geo/lib/python3.9/site-packages (from geemap) (2.5.0)\n",
      "Requirement already satisfied: earthengine-api>=0.1.304 in ./opt/miniconda3/envs/geo/lib/python3.9/site-packages (from geemap) (0.1.315)\n",
      "Requirement already satisfied: jupyterlab>=3 in ./opt/miniconda3/envs/geo/lib/python3.9/site-packages (from geemap) (3.4.3)\n",
      "Requirement already satisfied: folium>=0.11.0 in ./opt/miniconda3/envs/geo/lib/python3.9/site-packages (from geemap) (0.12.1.post1)\n",
      "Requirement already satisfied: pyshp>=2.1.3 in ./opt/miniconda3/envs/geo/lib/python3.9/site-packages (from geemap) (2.3.0)\n",
      "Requirement already satisfied: geocoder in ./opt/miniconda3/envs/geo/lib/python3.9/site-packages (from geemap) (1.38.1)\n",
      "Requirement already satisfied: ipyfilechooser>=0.6.0 in ./opt/miniconda3/envs/geo/lib/python3.9/site-packages (from geemap) (0.6.0)\n",
      "Requirement already satisfied: ee-extra>=0.0.10 in ./opt/miniconda3/envs/geo/lib/python3.9/site-packages (from geemap) (0.0.13)\n",
      "Requirement already satisfied: ffmpeg-python in ./opt/miniconda3/envs/geo/lib/python3.9/site-packages (from geemap) (0.2.0)\n",
      "Requirement already satisfied: sankee in ./opt/miniconda3/envs/geo/lib/python3.9/site-packages (from geemap) (0.0.7)\n",
      "Requirement already satisfied: python-box in ./opt/miniconda3/envs/geo/lib/python3.9/site-packages (from geemap) (6.0.2)\n",
      "Requirement already satisfied: bqplot in ./opt/miniconda3/envs/geo/lib/python3.9/site-packages (from geemap) (0.12.33)\n",
      "Requirement already satisfied: pycrs in ./opt/miniconda3/envs/geo/lib/python3.9/site-packages (from geemap) (1.0.2)\n",
      "Requirement already satisfied: pillow in ./opt/miniconda3/envs/geo/lib/python3.9/site-packages (from geemap) (9.1.1)\n",
      "Requirement already satisfied: pandas in ./opt/miniconda3/envs/geo/lib/python3.9/site-packages (from geemap) (1.4.2)\n",
      "Requirement already satisfied: whiteboxgui>=0.6.0 in ./opt/miniconda3/envs/geo/lib/python3.9/site-packages (from geemap) (0.7.0)\n",
      "Requirement already satisfied: xyzservices in ./opt/miniconda3/envs/geo/lib/python3.9/site-packages (from geemap) (2022.4.0)\n",
      "Requirement already satisfied: matplotlib in ./opt/miniconda3/envs/geo/lib/python3.9/site-packages (from geemap) (3.5.2)\n",
      "Requirement already satisfied: colour in ./opt/miniconda3/envs/geo/lib/python3.9/site-packages (from geemap) (0.1.5)\n",
      "Requirement already satisfied: numpy in ./opt/miniconda3/envs/geo/lib/python3.9/site-packages (from geemap) (1.22.4)\n",
      "Requirement already satisfied: geeadd>=0.5.1 in ./opt/miniconda3/envs/geo/lib/python3.9/site-packages (from geemap) (0.5.4)\n",
      "Requirement already satisfied: ipytree in ./opt/miniconda3/envs/geo/lib/python3.9/site-packages (from geemap) (0.2.1)\n",
      "Requirement already satisfied: ipyleaflet>=0.14.0 in ./opt/miniconda3/envs/geo/lib/python3.9/site-packages (from geemap) (0.16.0)\n",
      "Requirement already satisfied: google-auth-httplib2>=0.0.3 in ./opt/miniconda3/envs/geo/lib/python3.9/site-packages (from earthengine-api>=0.1.304->geemap) (0.1.0)\n",
      "Requirement already satisfied: future in ./opt/miniconda3/envs/geo/lib/python3.9/site-packages (from earthengine-api>=0.1.304->geemap) (0.18.2)\n",
      "Requirement already satisfied: google-cloud-storage in ./opt/miniconda3/envs/geo/lib/python3.9/site-packages (from earthengine-api>=0.1.304->geemap) (2.4.0)\n",
      "Requirement already satisfied: httplib2shim in ./opt/miniconda3/envs/geo/lib/python3.9/site-packages (from earthengine-api>=0.1.304->geemap) (0.0.3)\n",
      "Requirement already satisfied: google-auth>=1.4.1 in ./opt/miniconda3/envs/geo/lib/python3.9/site-packages (from earthengine-api>=0.1.304->geemap) (1.35.0)\n",
      "Requirement already satisfied: six in ./opt/miniconda3/envs/geo/lib/python3.9/site-packages (from earthengine-api>=0.1.304->geemap) (1.16.0)\n",
      "Requirement already satisfied: httplib2<1dev,>=0.9.2 in ./opt/miniconda3/envs/geo/lib/python3.9/site-packages (from earthengine-api>=0.1.304->geemap) (0.20.4)\n",
      "Requirement already satisfied: google-api-python-client<2,>=1.12.1 in ./opt/miniconda3/envs/geo/lib/python3.9/site-packages (from earthengine-api>=0.1.304->geemap) (1.12.8)\n",
      "Requirement already satisfied: requests in ./opt/miniconda3/envs/geo/lib/python3.9/site-packages (from folium>=0.11.0->geemap) (2.28.0)\n",
      "Requirement already satisfied: jinja2>=2.9 in ./opt/miniconda3/envs/geo/lib/python3.9/site-packages (from folium>=0.11.0->geemap) (3.0.3)\n",
      "Requirement already satisfied: branca>=0.3.0 in ./opt/miniconda3/envs/geo/lib/python3.9/site-packages (from folium>=0.11.0->geemap) (0.4.2)\n",
      "Requirement already satisfied: logzero>=1.5.0 in ./opt/miniconda3/envs/geo/lib/python3.9/site-packages (from geeadd>=0.5.1->geemap) (1.7.0)\n",
      "Requirement already satisfied: beautifulsoup4>=4.9.0 in ./opt/miniconda3/envs/geo/lib/python3.9/site-packages (from geeadd>=0.5.1->geemap) (4.11.1)\n",
      "Requirement already satisfied: ipywidgets in ./opt/miniconda3/envs/geo/lib/python3.9/site-packages (from ipyfilechooser>=0.6.0->geemap) (7.7.0)\n",
      "Requirement already satisfied: traittypes<3,>=0.2.1 in ./opt/miniconda3/envs/geo/lib/python3.9/site-packages (from ipyleaflet>=0.14.0->geemap) (0.2.1)\n",
      "Requirement already satisfied: nbclassic~=0.2 in ./opt/miniconda3/envs/geo/lib/python3.9/site-packages (from jupyterlab>=3->geemap) (0.3.7)\n",
      "Requirement already satisfied: tornado>=6.1.0 in ./opt/miniconda3/envs/geo/lib/python3.9/site-packages (from jupyterlab>=3->geemap) (6.1)\n",
      "Requirement already satisfied: ipython in ./opt/miniconda3/envs/geo/lib/python3.9/site-packages (from jupyterlab>=3->geemap) (8.4.0)\n",
      "Requirement already satisfied: jupyter-core in ./opt/miniconda3/envs/geo/lib/python3.9/site-packages (from jupyterlab>=3->geemap) (4.10.0)\n",
      "Requirement already satisfied: jupyterlab-server~=2.10 in ./opt/miniconda3/envs/geo/lib/python3.9/site-packages (from jupyterlab>=3->geemap) (2.14.0)\n",
      "Requirement already satisfied: packaging in ./opt/miniconda3/envs/geo/lib/python3.9/site-packages (from jupyterlab>=3->geemap) (21.3)\n",
      "Requirement already satisfied: jupyter-server~=1.16 in ./opt/miniconda3/envs/geo/lib/python3.9/site-packages (from jupyterlab>=3->geemap) (1.17.1)\n",
      "Requirement already satisfied: networkx in ./opt/miniconda3/envs/geo/lib/python3.9/site-packages (from mapclassify>=2.4.0->geemap) (2.8.4)\n",
      "Requirement already satisfied: scipy>=1.0 in ./opt/miniconda3/envs/geo/lib/python3.9/site-packages (from mapclassify>=2.4.0->geemap) (1.8.1)\n",
      "Requirement already satisfied: scikit-learn in ./opt/miniconda3/envs/geo/lib/python3.9/site-packages (from mapclassify>=2.4.0->geemap) (1.1.1)\n",
      "Requirement already satisfied: python-dateutil>=2.8.1 in ./opt/miniconda3/envs/geo/lib/python3.9/site-packages (from pandas->geemap) (2.8.2)\n",
      "Requirement already satisfied: pytz>=2020.1 in ./opt/miniconda3/envs/geo/lib/python3.9/site-packages (from pandas->geemap) (2022.1)\n",
      "Requirement already satisfied: whitebox in ./opt/miniconda3/envs/geo/lib/python3.9/site-packages (from whiteboxgui>=0.6.0->geemap) (2.1.2)\n",
      "Requirement already satisfied: traitlets>=4.3.0 in ./opt/miniconda3/envs/geo/lib/python3.9/site-packages (from bqplot->geemap) (5.3.0)\n",
      "Requirement already satisfied: filelock in ./opt/miniconda3/envs/geo/lib/python3.9/site-packages (from gdown->geemap) (3.7.1)\n",
      "Requirement already satisfied: tqdm in ./opt/miniconda3/envs/geo/lib/python3.9/site-packages (from gdown->geemap) (4.64.0)\n",
      "Requirement already satisfied: ratelim in ./opt/miniconda3/envs/geo/lib/python3.9/site-packages (from geocoder->geemap) (0.1.6)\n",
      "Requirement already satisfied: click in ./opt/miniconda3/envs/geo/lib/python3.9/site-packages (from geocoder->geemap) (8.1.3)\n",
      "Requirement already satisfied: fonttools>=4.22.0 in ./opt/miniconda3/envs/geo/lib/python3.9/site-packages (from matplotlib->geemap) (4.33.3)\n",
      "Requirement already satisfied: kiwisolver>=1.0.1 in ./opt/miniconda3/envs/geo/lib/python3.9/site-packages (from matplotlib->geemap) (1.4.3)\n",
      "Requirement already satisfied: cycler>=0.10 in ./opt/miniconda3/envs/geo/lib/python3.9/site-packages (from matplotlib->geemap) (0.11.0)\n",
      "Requirement already satisfied: pyparsing>=2.2.1 in ./opt/miniconda3/envs/geo/lib/python3.9/site-packages (from matplotlib->geemap) (3.0.9)\n",
      "Requirement already satisfied: ipykernel in ./opt/miniconda3/envs/geo/lib/python3.9/site-packages (from sankee->geemap) (6.15.0)\n",
      "Requirement already satisfied: plotly>=5.2.2 in ./opt/miniconda3/envs/geo/lib/python3.9/site-packages (from sankee->geemap) (5.8.2)\n",
      "Requirement already satisfied: nbformat>=4.2.0 in ./opt/miniconda3/envs/geo/lib/python3.9/site-packages (from sankee->geemap) (5.4.0)\n",
      "Requirement already satisfied: soupsieve>1.2 in ./opt/miniconda3/envs/geo/lib/python3.9/site-packages (from beautifulsoup4>=4.9.0->geeadd>=0.5.1->geemap) (2.3.1)\n",
      "Requirement already satisfied: uritemplate<4dev,>=3.0.0 in ./opt/miniconda3/envs/geo/lib/python3.9/site-packages (from google-api-python-client<2,>=1.12.1->earthengine-api>=0.1.304->geemap) (3.0.1)\n",
      "Requirement already satisfied: google-api-core<2dev,>=1.21.0 in ./opt/miniconda3/envs/geo/lib/python3.9/site-packages (from google-api-python-client<2,>=1.12.1->earthengine-api>=0.1.304->geemap) (1.31.5)\n",
      "Requirement already satisfied: rsa<5,>=3.1.4 in ./opt/miniconda3/envs/geo/lib/python3.9/site-packages (from google-auth>=1.4.1->earthengine-api>=0.1.304->geemap) (4.8)\n",
      "Requirement already satisfied: cachetools<5.0,>=2.0.0 in ./opt/miniconda3/envs/geo/lib/python3.9/site-packages (from google-auth>=1.4.1->earthengine-api>=0.1.304->geemap) (4.2.4)\n",
      "Requirement already satisfied: pyasn1-modules>=0.2.1 in ./opt/miniconda3/envs/geo/lib/python3.9/site-packages (from google-auth>=1.4.1->earthengine-api>=0.1.304->geemap) (0.2.7)\n",
      "Requirement already satisfied: setuptools>=40.3.0 in ./opt/miniconda3/envs/geo/lib/python3.9/site-packages (from google-auth>=1.4.1->earthengine-api>=0.1.304->geemap) (62.3.4)\n",
      "Requirement already satisfied: widgetsnbextension~=3.6.0 in ./opt/miniconda3/envs/geo/lib/python3.9/site-packages (from ipywidgets->ipyfilechooser>=0.6.0->geemap) (3.6.0)\n",
      "Requirement already satisfied: ipython-genutils~=0.2.0 in ./opt/miniconda3/envs/geo/lib/python3.9/site-packages (from ipywidgets->ipyfilechooser>=0.6.0->geemap) (0.2.0)\n",
      "Requirement already satisfied: jupyterlab-widgets>=1.0.0 in ./opt/miniconda3/envs/geo/lib/python3.9/site-packages (from ipywidgets->ipyfilechooser>=0.6.0->geemap) (1.1.0)\n",
      "Requirement already satisfied: psutil in ./opt/miniconda3/envs/geo/lib/python3.9/site-packages (from ipykernel->sankee->geemap) (5.9.1)\n",
      "Requirement already satisfied: nest-asyncio in ./opt/miniconda3/envs/geo/lib/python3.9/site-packages (from ipykernel->sankee->geemap) (1.5.5)\n",
      "Requirement already satisfied: pyzmq>=17 in ./opt/miniconda3/envs/geo/lib/python3.9/site-packages (from ipykernel->sankee->geemap) (23.1.0)\n",
      "Requirement already satisfied: debugpy>=1.0 in ./opt/miniconda3/envs/geo/lib/python3.9/site-packages (from ipykernel->sankee->geemap) (1.6.0)\n",
      "Requirement already satisfied: matplotlib-inline>=0.1 in ./opt/miniconda3/envs/geo/lib/python3.9/site-packages (from ipykernel->sankee->geemap) (0.1.3)\n",
      "Requirement already satisfied: appnope in ./opt/miniconda3/envs/geo/lib/python3.9/site-packages (from ipykernel->sankee->geemap) (0.1.3)\n",
      "Requirement already satisfied: jupyter-client>=6.1.12 in ./opt/miniconda3/envs/geo/lib/python3.9/site-packages (from ipykernel->sankee->geemap) (7.3.4)\n",
      "Requirement already satisfied: pygments>=2.4.0 in ./opt/miniconda3/envs/geo/lib/python3.9/site-packages (from ipython->jupyterlab>=3->geemap) (2.12.0)\n",
      "Requirement already satisfied: jedi>=0.16 in ./opt/miniconda3/envs/geo/lib/python3.9/site-packages (from ipython->jupyterlab>=3->geemap) (0.18.1)\n",
      "Requirement already satisfied: pickleshare in ./opt/miniconda3/envs/geo/lib/python3.9/site-packages (from ipython->jupyterlab>=3->geemap) (0.7.5)\n",
      "Requirement already satisfied: decorator in ./opt/miniconda3/envs/geo/lib/python3.9/site-packages (from ipython->jupyterlab>=3->geemap) (5.1.1)\n",
      "Requirement already satisfied: stack-data in ./opt/miniconda3/envs/geo/lib/python3.9/site-packages (from ipython->jupyterlab>=3->geemap) (0.3.0)\n",
      "Requirement already satisfied: prompt-toolkit!=3.0.0,!=3.0.1,<3.1.0,>=2.0.0 in ./opt/miniconda3/envs/geo/lib/python3.9/site-packages (from ipython->jupyterlab>=3->geemap) (3.0.29)\n",
      "Requirement already satisfied: backcall in ./opt/miniconda3/envs/geo/lib/python3.9/site-packages (from ipython->jupyterlab>=3->geemap) (0.2.0)\n",
      "Requirement already satisfied: pexpect>4.3 in ./opt/miniconda3/envs/geo/lib/python3.9/site-packages (from ipython->jupyterlab>=3->geemap) (4.8.0)\n",
      "Requirement already satisfied: MarkupSafe>=2.0 in ./opt/miniconda3/envs/geo/lib/python3.9/site-packages (from jinja2>=2.9->folium>=0.11.0->geemap) (2.1.1)\n",
      "Requirement already satisfied: anyio<4,>=3.1.0 in ./opt/miniconda3/envs/geo/lib/python3.9/site-packages (from jupyter-server~=1.16->jupyterlab>=3->geemap) (3.6.1)\n",
      "Requirement already satisfied: prometheus-client in ./opt/miniconda3/envs/geo/lib/python3.9/site-packages (from jupyter-server~=1.16->jupyterlab>=3->geemap) (0.14.1)\n",
      "Requirement already satisfied: websocket-client in ./opt/miniconda3/envs/geo/lib/python3.9/site-packages (from jupyter-server~=1.16->jupyterlab>=3->geemap) (1.3.2)\n",
      "Requirement already satisfied: nbconvert>=6.4.4 in ./opt/miniconda3/envs/geo/lib/python3.9/site-packages (from jupyter-server~=1.16->jupyterlab>=3->geemap) (6.5.0)\n",
      "Requirement already satisfied: Send2Trash in ./opt/miniconda3/envs/geo/lib/python3.9/site-packages (from jupyter-server~=1.16->jupyterlab>=3->geemap) (1.8.0)\n",
      "Requirement already satisfied: terminado>=0.8.3 in ./opt/miniconda3/envs/geo/lib/python3.9/site-packages (from jupyter-server~=1.16->jupyterlab>=3->geemap) (0.15.0)\n",
      "Requirement already satisfied: argon2-cffi in ./opt/miniconda3/envs/geo/lib/python3.9/site-packages (from jupyter-server~=1.16->jupyterlab>=3->geemap) (21.1.0)\n",
      "Requirement already satisfied: babel in ./opt/miniconda3/envs/geo/lib/python3.9/site-packages (from jupyterlab-server~=2.10->jupyterlab>=3->geemap) (2.10.3)\n",
      "Requirement already satisfied: importlib-metadata>=3.6 in ./opt/miniconda3/envs/geo/lib/python3.9/site-packages (from jupyterlab-server~=2.10->jupyterlab>=3->geemap) (4.11.4)\n",
      "Requirement already satisfied: json5 in ./opt/miniconda3/envs/geo/lib/python3.9/site-packages (from jupyterlab-server~=2.10->jupyterlab>=3->geemap) (0.9.5)\n",
      "Requirement already satisfied: jsonschema>=3.0.1 in ./opt/miniconda3/envs/geo/lib/python3.9/site-packages (from jupyterlab-server~=2.10->jupyterlab>=3->geemap) (4.6.0)\n",
      "Requirement already satisfied: notebook<7 in ./opt/miniconda3/envs/geo/lib/python3.9/site-packages (from nbclassic~=0.2->jupyterlab>=3->geemap) (6.4.12)\n",
      "Requirement already satisfied: notebook-shim>=0.1.0 in ./opt/miniconda3/envs/geo/lib/python3.9/site-packages (from nbclassic~=0.2->jupyterlab>=3->geemap) (0.1.0)\n",
      "Requirement already satisfied: fastjsonschema in ./opt/miniconda3/envs/geo/lib/python3.9/site-packages (from nbformat>=4.2.0->sankee->geemap) (2.15.3)\n",
      "Requirement already satisfied: tenacity>=6.2.0 in ./opt/miniconda3/envs/geo/lib/python3.9/site-packages (from plotly>=5.2.2->sankee->geemap) (8.0.1)\n",
      "Requirement already satisfied: urllib3<1.27,>=1.21.1 in ./opt/miniconda3/envs/geo/lib/python3.9/site-packages (from requests->folium>=0.11.0->geemap) (1.26.9)\n",
      "Requirement already satisfied: certifi>=2017.4.17 in ./opt/miniconda3/envs/geo/lib/python3.9/site-packages (from requests->folium>=0.11.0->geemap) (2022.6.15)\n",
      "Requirement already satisfied: idna<4,>=2.5 in ./opt/miniconda3/envs/geo/lib/python3.9/site-packages (from requests->folium>=0.11.0->geemap) (3.3)\n",
      "Requirement already satisfied: charset-normalizer~=2.0.0 in ./opt/miniconda3/envs/geo/lib/python3.9/site-packages (from requests->folium>=0.11.0->geemap) (2.0.12)\n",
      "Requirement already satisfied: google-resumable-media>=2.3.2 in ./opt/miniconda3/envs/geo/lib/python3.9/site-packages (from google-cloud-storage->earthengine-api>=0.1.304->geemap) (2.3.3)\n",
      "Requirement already satisfied: google-cloud-core<3.0dev,>=2.3.0 in ./opt/miniconda3/envs/geo/lib/python3.9/site-packages (from google-cloud-storage->earthengine-api>=0.1.304->geemap) (2.3.1)\n",
      "Requirement already satisfied: PySocks!=1.5.7,>=1.5.6 in ./opt/miniconda3/envs/geo/lib/python3.9/site-packages (from requests->folium>=0.11.0->geemap) (1.7.1)\n",
      "Requirement already satisfied: joblib>=1.0.0 in ./opt/miniconda3/envs/geo/lib/python3.9/site-packages (from scikit-learn->mapclassify>=2.4.0->geemap) (1.1.0)\n",
      "Requirement already satisfied: threadpoolctl>=2.0.0 in ./opt/miniconda3/envs/geo/lib/python3.9/site-packages (from scikit-learn->mapclassify>=2.4.0->geemap) (3.1.0)\n",
      "Requirement already satisfied: sniffio>=1.1 in ./opt/miniconda3/envs/geo/lib/python3.9/site-packages (from anyio<4,>=3.1.0->jupyter-server~=1.16->jupyterlab>=3->geemap) (1.2.0)\n",
      "Requirement already satisfied: googleapis-common-protos<2.0dev,>=1.6.0 in ./opt/miniconda3/envs/geo/lib/python3.9/site-packages (from google-api-core<2dev,>=1.21.0->google-api-python-client<2,>=1.12.1->earthengine-api>=0.1.304->geemap) (1.56.2)\n",
      "Requirement already satisfied: protobuf>=3.12.0 in ./opt/miniconda3/envs/geo/lib/python3.9/site-packages (from google-api-core<2dev,>=1.21.0->google-api-python-client<2,>=1.12.1->earthengine-api>=0.1.304->geemap) (3.20.1)\n",
      "Requirement already satisfied: google-crc32c<2.0dev,>=1.0 in ./opt/miniconda3/envs/geo/lib/python3.9/site-packages (from google-resumable-media>=2.3.2->google-cloud-storage->earthengine-api>=0.1.304->geemap) (1.1.2)\n",
      "Requirement already satisfied: zipp>=0.5 in ./opt/miniconda3/envs/geo/lib/python3.9/site-packages (from importlib-metadata>=3.6->jupyterlab-server~=2.10->jupyterlab>=3->geemap) (3.8.0)\n",
      "Requirement already satisfied: parso<0.9.0,>=0.8.0 in ./opt/miniconda3/envs/geo/lib/python3.9/site-packages (from jedi>=0.16->ipython->jupyterlab>=3->geemap) (0.8.3)\n",
      "Requirement already satisfied: attrs>=17.4.0 in ./opt/miniconda3/envs/geo/lib/python3.9/site-packages (from jsonschema>=3.0.1->jupyterlab-server~=2.10->jupyterlab>=3->geemap) (21.4.0)\n",
      "Requirement already satisfied: pyrsistent!=0.17.0,!=0.17.1,!=0.17.2,>=0.14.0 in ./opt/miniconda3/envs/geo/lib/python3.9/site-packages (from jsonschema>=3.0.1->jupyterlab-server~=2.10->jupyterlab>=3->geemap) (0.18.1)\n",
      "Requirement already satisfied: entrypoints in ./opt/miniconda3/envs/geo/lib/python3.9/site-packages (from jupyter-client>=6.1.12->ipykernel->sankee->geemap) (0.4)\n",
      "Requirement already satisfied: pandocfilters>=1.4.1 in ./opt/miniconda3/envs/geo/lib/python3.9/site-packages (from nbconvert>=6.4.4->jupyter-server~=1.16->jupyterlab>=3->geemap) (1.5.0)\n",
      "Requirement already satisfied: nbclient>=0.5.0 in ./opt/miniconda3/envs/geo/lib/python3.9/site-packages (from nbconvert>=6.4.4->jupyter-server~=1.16->jupyterlab>=3->geemap) (0.5.13)\n",
      "Requirement already satisfied: defusedxml in ./opt/miniconda3/envs/geo/lib/python3.9/site-packages (from nbconvert>=6.4.4->jupyter-server~=1.16->jupyterlab>=3->geemap) (0.7.1)\n",
      "Requirement already satisfied: mistune<2,>=0.8.1 in ./opt/miniconda3/envs/geo/lib/python3.9/site-packages (from nbconvert>=6.4.4->jupyter-server~=1.16->jupyterlab>=3->geemap) (0.8.4)\n",
      "Requirement already satisfied: jupyterlab-pygments in ./opt/miniconda3/envs/geo/lib/python3.9/site-packages (from nbconvert>=6.4.4->jupyter-server~=1.16->jupyterlab>=3->geemap) (0.2.2)\n",
      "Requirement already satisfied: bleach in ./opt/miniconda3/envs/geo/lib/python3.9/site-packages (from nbconvert>=6.4.4->jupyter-server~=1.16->jupyterlab>=3->geemap) (5.0.0)\n",
      "Requirement already satisfied: tinycss2 in ./opt/miniconda3/envs/geo/lib/python3.9/site-packages (from nbconvert>=6.4.4->jupyter-server~=1.16->jupyterlab>=3->geemap) (1.1.1)\n",
      "Requirement already satisfied: ptyprocess>=0.5 in ./opt/miniconda3/envs/geo/lib/python3.9/site-packages (from pexpect>4.3->ipython->jupyterlab>=3->geemap) (0.7.0)\n",
      "Requirement already satisfied: wcwidth in ./opt/miniconda3/envs/geo/lib/python3.9/site-packages (from prompt-toolkit!=3.0.0,!=3.0.1,<3.1.0,>=2.0.0->ipython->jupyterlab>=3->geemap) (0.2.5)\n",
      "Requirement already satisfied: pyasn1<0.5.0,>=0.4.6 in ./opt/miniconda3/envs/geo/lib/python3.9/site-packages (from pyasn1-modules>=0.2.1->google-auth>=1.4.1->earthengine-api>=0.1.304->geemap) (0.4.8)\n",
      "Requirement already satisfied: cffi>=1.0.0 in ./opt/miniconda3/envs/geo/lib/python3.9/site-packages (from argon2-cffi->jupyter-server~=1.16->jupyterlab>=3->geemap) (1.15.0)\n",
      "Requirement already satisfied: asttokens in ./opt/miniconda3/envs/geo/lib/python3.9/site-packages (from stack-data->ipython->jupyterlab>=3->geemap) (2.0.5)\n",
      "Requirement already satisfied: executing in ./opt/miniconda3/envs/geo/lib/python3.9/site-packages (from stack-data->ipython->jupyterlab>=3->geemap) (0.8.3)\n",
      "Requirement already satisfied: pure-eval in ./opt/miniconda3/envs/geo/lib/python3.9/site-packages (from stack-data->ipython->jupyterlab>=3->geemap) (0.2.2)\n",
      "Requirement already satisfied: pycparser in ./opt/miniconda3/envs/geo/lib/python3.9/site-packages (from cffi>=1.0.0->argon2-cffi->jupyter-server~=1.16->jupyterlab>=3->geemap) (2.21)\n",
      "Requirement already satisfied: webencodings in ./opt/miniconda3/envs/geo/lib/python3.9/site-packages (from bleach->nbconvert>=6.4.4->jupyter-server~=1.16->jupyterlab>=3->geemap) (0.5.1)\n",
      "Note: you may need to restart the kernel to use updated packages.\n"
     ]
    }
   ],
   "source": [
    "pip install -U geemap "
   ]
  },
  {
   "cell_type": "code",
   "execution_count": 2,
   "id": "951fd0fc",
   "metadata": {},
   "outputs": [],
   "source": [
    "import ee"
   ]
  },
  {
   "cell_type": "code",
   "execution_count": 3,
   "id": "a1ee544d",
   "metadata": {},
   "outputs": [
    {
     "data": {
      "text/html": [
       "<p>To authorize access needed by Earth Engine, open the following\n",
       "        URL in a web browser and follow the instructions:</p>\n",
       "        <p><a href=https://code.earthengine.google.com/client-auth?scopes=https%3A//www.googleapis.com/auth/earthengine%20https%3A//www.googleapis.com/auth/devstorage.full_control&request_id=KT1wMp50Ar3KsMgNGFoN4b7Ehf2k7pm1ukiaDQsCsHg&tc=EWQoIUuKKQVWiGZ8oxW1eG7m5eKQ3LuXiLSteMQMFFw&cc=o2loJpaJZeyHoWsk3grfFSMJpVuymYjwqa54Ry1qhjw>https://code.earthengine.google.com/client-auth?scopes=https%3A//www.googleapis.com/auth/earthengine%20https%3A//www.googleapis.com/auth/devstorage.full_control&request_id=KT1wMp50Ar3KsMgNGFoN4b7Ehf2k7pm1ukiaDQsCsHg&tc=EWQoIUuKKQVWiGZ8oxW1eG7m5eKQ3LuXiLSteMQMFFw&cc=o2loJpaJZeyHoWsk3grfFSMJpVuymYjwqa54Ry1qhjw</a></p>\n",
       "        <p>The authorization workflow will generate a code, which you\n",
       "        should paste in the box below</p>\n",
       "        "
      ],
      "text/plain": [
       "<IPython.core.display.HTML object>"
      ]
     },
     "metadata": {},
     "output_type": "display_data"
    },
    {
     "name": "stdout",
     "output_type": "stream",
     "text": [
      "Enter verification code: 4/1AX4XfWiAMehbUWDNxthJ8dDwqH8WTxqw5xAly6eEEPk7ZihB_o23KncOZhs\n",
      "\n",
      "Successfully saved authorization token.\n"
     ]
    }
   ],
   "source": [
    "ee.Authenticate()\n",
    "ee.Initialize()"
   ]
  },
  {
   "cell_type": "code",
   "execution_count": 4,
   "id": "6f53df07",
   "metadata": {},
   "outputs": [
    {
     "name": "stdout",
     "output_type": "stream",
     "text": [
      "Mount Everest elevation (m): 8729\n"
     ]
    }
   ],
   "source": [
    "# Print the elevation of Mount Everest.\n",
    "dem = ee.Image('USGS/SRTMGL1_003')\n",
    "xy = ee.Geometry.Point([86.9250, 27.9881])\n",
    "elev = dem.sample(xy, 30).first().get('elevation').getInfo()\n",
    "print('Mount Everest elevation (m):', elev)"
   ]
  },
  {
   "cell_type": "code",
   "execution_count": 6,
   "id": "88d0a76d",
   "metadata": {},
   "outputs": [],
   "source": [
    "import os\n",
    "import geemap\n",
    "import leafmap"
   ]
  },
  {
   "cell_type": "code",
   "execution_count": 7,
   "id": "5a21e745",
   "metadata": {},
   "outputs": [
    {
     "data": {
      "application/vnd.jupyter.widget-view+json": {
       "model_id": "e034e602447643bf942904b7760e9570",
       "version_major": 2,
       "version_minor": 0
      },
      "text/plain": [
       "Map(center=[20, 0], controls=(WidgetControl(options=['position', 'transparent_bg'], widget=HBox(children=(Togg…"
      ]
     },
     "metadata": {},
     "output_type": "display_data"
    }
   ],
   "source": [
    "Map = geemap.Map()\n",
    "Map.add_basemap('Hybrid')\n",
    "Map"
   ]
  },
  {
   "cell_type": "code",
   "execution_count": 8,
   "id": "e283c9d7",
   "metadata": {},
   "outputs": [],
   "source": [
    "dataset = ee.ImageCollection('MODIS/006/MOD13Q1') \\\n",
    "                  .filter(ee.Filter.date('2006-02-02', '2022-02-02'))\n",
    "ndvi = dataset.select('NDVI')\n",
    "ndviVis = {\n",
    "  'min': 0.0,\n",
    "  'max': 8000.0,\n",
    "  'palette': [\n",
    "    'FFFFFF', 'CE7E45', 'DF923D', 'F1B555', 'FCD163', '99B718', '74A901',\n",
    "    '66A000', '529400', '3E8601', '207401', '056201', '004C00', '023B01',\n",
    "    '012E01', '011D01', '011301'\n",
    "  ],\n",
    "}\n",
    "Map.setCenter(-6.746, -46.529, 2)\n",
    "Map.addLayer(ndvi, ndviVis, 'NDVI')"
   ]
  },
  {
   "cell_type": "code",
   "execution_count": 9,
   "id": "176d6288",
   "metadata": {},
   "outputs": [
    {
     "name": "stdout",
     "output_type": "stream",
     "text": [
      "513\n"
     ]
    }
   ],
   "source": [
    "collection = ee.ImageCollection('MODIS/006/MOD13Q1')\n",
    "print(collection.size().getInfo())"
   ]
  },
  {
   "cell_type": "code",
   "execution_count": 10,
   "id": "0c317105",
   "metadata": {},
   "outputs": [],
   "source": [
    "median = collection.median()"
   ]
  },
  {
   "cell_type": "code",
   "execution_count": 11,
   "id": "52a52fdc",
   "metadata": {},
   "outputs": [],
   "source": [
    "def apply_scale_factors(image):\n",
    "    opticalBands = image.select('SR_B.').multiply(0.0000275).add(-0.2)\n",
    "    thermalBands = image.select('ST_B.*').multiply(0.00341802).add(149.0)\n",
    "    return image.addBands(opticalBands, None, True) \\\n",
    "                .addBands(thermalBands, None, True)"
   ]
  },
  {
   "cell_type": "code",
   "execution_count": 12,
   "id": "586e5171",
   "metadata": {},
   "outputs": [],
   "source": [
    "dataset = apply_scale_factors(median)"
   ]
  },
  {
   "cell_type": "code",
   "execution_count": 13,
   "id": "d95eb098",
   "metadata": {},
   "outputs": [],
   "source": [
    "vis_natural = {\n",
    "  'bands': ['SR_B4', 'SR_B3', 'SR_B2'],\n",
    "  'min': 0.0,\n",
    "  'max': 0.3,\n",
    "}\n",
    "\n",
    "vis_nir = {\n",
    "  'bands': ['SR_B5', 'SR_B4', 'SR_B3'],\n",
    "  'min': 0.0,\n",
    "  'max': 0.3,\n",
    "}"
   ]
  },
  {
   "cell_type": "code",
   "execution_count": 14,
   "id": "123ff2c3",
   "metadata": {},
   "outputs": [
    {
     "ename": "EEException",
     "evalue": "Image.select: Pattern 'ST_B.*' did not match any bands.",
     "output_type": "error",
     "traceback": [
      "\u001b[0;31m---------------------------------------------------------------------------\u001b[0m",
      "\u001b[0;31mHttpError\u001b[0m                                 Traceback (most recent call last)",
      "File \u001b[0;32m~/opt/miniconda3/envs/geo/lib/python3.9/site-packages/ee/data.py:328\u001b[0m, in \u001b[0;36m_execute_cloud_call\u001b[0;34m(call, num_retries)\u001b[0m\n\u001b[1;32m    327\u001b[0m \u001b[38;5;28;01mtry\u001b[39;00m:\n\u001b[0;32m--> 328\u001b[0m   \u001b[38;5;28;01mreturn\u001b[39;00m \u001b[43mcall\u001b[49m\u001b[38;5;241;43m.\u001b[39;49m\u001b[43mexecute\u001b[49m\u001b[43m(\u001b[49m\u001b[43mnum_retries\u001b[49m\u001b[38;5;241;43m=\u001b[39;49m\u001b[43mnum_retries\u001b[49m\u001b[43m)\u001b[49m\n\u001b[1;32m    329\u001b[0m \u001b[38;5;28;01mexcept\u001b[39;00m googleapiclient\u001b[38;5;241m.\u001b[39merrors\u001b[38;5;241m.\u001b[39mHttpError \u001b[38;5;28;01mas\u001b[39;00m e:\n",
      "File \u001b[0;32m~/opt/miniconda3/envs/geo/lib/python3.9/site-packages/googleapiclient/_helpers.py:134\u001b[0m, in \u001b[0;36mpositional.<locals>.positional_decorator.<locals>.positional_wrapper\u001b[0;34m(*args, **kwargs)\u001b[0m\n\u001b[1;32m    133\u001b[0m         logger\u001b[38;5;241m.\u001b[39mwarning(message)\n\u001b[0;32m--> 134\u001b[0m \u001b[38;5;28;01mreturn\u001b[39;00m \u001b[43mwrapped\u001b[49m\u001b[43m(\u001b[49m\u001b[38;5;241;43m*\u001b[39;49m\u001b[43margs\u001b[49m\u001b[43m,\u001b[49m\u001b[43m \u001b[49m\u001b[38;5;241;43m*\u001b[39;49m\u001b[38;5;241;43m*\u001b[39;49m\u001b[43mkwargs\u001b[49m\u001b[43m)\u001b[49m\n",
      "File \u001b[0;32m~/opt/miniconda3/envs/geo/lib/python3.9/site-packages/googleapiclient/http.py:915\u001b[0m, in \u001b[0;36mHttpRequest.execute\u001b[0;34m(self, http, num_retries)\u001b[0m\n\u001b[1;32m    914\u001b[0m \u001b[38;5;28;01mif\u001b[39;00m resp\u001b[38;5;241m.\u001b[39mstatus \u001b[38;5;241m>\u001b[39m\u001b[38;5;241m=\u001b[39m \u001b[38;5;241m300\u001b[39m:\n\u001b[0;32m--> 915\u001b[0m     \u001b[38;5;28;01mraise\u001b[39;00m HttpError(resp, content, uri\u001b[38;5;241m=\u001b[39m\u001b[38;5;28mself\u001b[39m\u001b[38;5;241m.\u001b[39muri)\n\u001b[1;32m    916\u001b[0m \u001b[38;5;28;01mreturn\u001b[39;00m \u001b[38;5;28mself\u001b[39m\u001b[38;5;241m.\u001b[39mpostproc(resp, content)\n",
      "\u001b[0;31mHttpError\u001b[0m: <HttpError 400 when requesting https://earthengine.googleapis.com/v1alpha/projects/earthengine-legacy/maps?fields=name&alt=json returned \"Image.select: Pattern 'ST_B.*' did not match any bands.\". Details: \"Image.select: Pattern 'ST_B.*' did not match any bands.\">",
      "\nDuring handling of the above exception, another exception occurred:\n",
      "\u001b[0;31mEEException\u001b[0m                               Traceback (most recent call last)",
      "Input \u001b[0;32mIn [14]\u001b[0m, in \u001b[0;36m<cell line: 1>\u001b[0;34m()\u001b[0m\n\u001b[0;32m----> 1\u001b[0m \u001b[43mMap\u001b[49m\u001b[38;5;241;43m.\u001b[39;49m\u001b[43maddLayer\u001b[49m\u001b[43m(\u001b[49m\u001b[43mdataset\u001b[49m\u001b[43m,\u001b[49m\u001b[43m \u001b[49m\u001b[43mvis_natural\u001b[49m\u001b[43m,\u001b[49m\u001b[43m \u001b[49m\u001b[38;5;124;43m'\u001b[39;49m\u001b[38;5;124;43mTrue color (432)\u001b[39;49m\u001b[38;5;124;43m'\u001b[39;49m\u001b[43m)\u001b[49m\n\u001b[1;32m      2\u001b[0m Map\u001b[38;5;241m.\u001b[39maddLayer(dataset, vis_nir, \u001b[38;5;124m'\u001b[39m\u001b[38;5;124mColor infrared (543)\u001b[39m\u001b[38;5;124m'\u001b[39m)\n\u001b[1;32m      3\u001b[0m Map\n",
      "File \u001b[0;32m~/opt/miniconda3/envs/geo/lib/python3.9/site-packages/geemap/geemap.py:1418\u001b[0m, in \u001b[0;36mMap.add_ee_layer\u001b[0;34m(self, ee_object, vis_params, name, shown, opacity)\u001b[0m\n\u001b[1;32m   1413\u001b[0m     \u001b[38;5;28;01melif\u001b[39;00m \u001b[38;5;129;01mnot\u001b[39;00m \u001b[38;5;28misinstance\u001b[39m(vis_params[\u001b[38;5;124m\"\u001b[39m\u001b[38;5;124mpalette\u001b[39m\u001b[38;5;124m\"\u001b[39m], \u001b[38;5;28mlist\u001b[39m):\n\u001b[1;32m   1414\u001b[0m         \u001b[38;5;28;01mraise\u001b[39;00m \u001b[38;5;167;01mValueError\u001b[39;00m(\n\u001b[1;32m   1415\u001b[0m             \u001b[38;5;124m\"\u001b[39m\u001b[38;5;124mThe palette must be a list of colors or a string or a Box object.\u001b[39m\u001b[38;5;124m\"\u001b[39m\n\u001b[1;32m   1416\u001b[0m         )\n\u001b[0;32m-> 1418\u001b[0m map_id_dict \u001b[38;5;241m=\u001b[39m \u001b[43mee\u001b[49m\u001b[38;5;241;43m.\u001b[39;49m\u001b[43mImage\u001b[49m\u001b[43m(\u001b[49m\u001b[43mimage\u001b[49m\u001b[43m)\u001b[49m\u001b[38;5;241;43m.\u001b[39;49m\u001b[43mgetMapId\u001b[49m\u001b[43m(\u001b[49m\u001b[43mvis_params\u001b[49m\u001b[43m)\u001b[49m\n\u001b[1;32m   1419\u001b[0m tile_layer \u001b[38;5;241m=\u001b[39m ipyleaflet\u001b[38;5;241m.\u001b[39mTileLayer(\n\u001b[1;32m   1420\u001b[0m     url\u001b[38;5;241m=\u001b[39mmap_id_dict[\u001b[38;5;124m\"\u001b[39m\u001b[38;5;124mtile_fetcher\u001b[39m\u001b[38;5;124m\"\u001b[39m]\u001b[38;5;241m.\u001b[39murl_format,\n\u001b[1;32m   1421\u001b[0m     attribution\u001b[38;5;241m=\u001b[39m\u001b[38;5;124m\"\u001b[39m\u001b[38;5;124mGoogle Earth Engine\u001b[39m\u001b[38;5;124m\"\u001b[39m,\n\u001b[0;32m   (...)\u001b[0m\n\u001b[1;32m   1425\u001b[0m     max_zoom\u001b[38;5;241m=\u001b[39m\u001b[38;5;241m24\u001b[39m,\n\u001b[1;32m   1426\u001b[0m )\n\u001b[1;32m   1428\u001b[0m layer \u001b[38;5;241m=\u001b[39m \u001b[38;5;28mself\u001b[39m\u001b[38;5;241m.\u001b[39mfind_layer(name\u001b[38;5;241m=\u001b[39mname)\n",
      "File \u001b[0;32m~/opt/miniconda3/envs/geo/lib/python3.9/site-packages/ee/image.py:130\u001b[0m, in \u001b[0;36mImage.getMapId\u001b[0;34m(self, vis_params)\u001b[0m\n\u001b[1;32m    128\u001b[0m vis_image, request \u001b[38;5;241m=\u001b[39m \u001b[38;5;28mself\u001b[39m\u001b[38;5;241m.\u001b[39m_apply_visualization(vis_params)\n\u001b[1;32m    129\u001b[0m request[\u001b[38;5;124m'\u001b[39m\u001b[38;5;124mimage\u001b[39m\u001b[38;5;124m'\u001b[39m] \u001b[38;5;241m=\u001b[39m vis_image\n\u001b[0;32m--> 130\u001b[0m response \u001b[38;5;241m=\u001b[39m \u001b[43mdata\u001b[49m\u001b[38;5;241;43m.\u001b[39;49m\u001b[43mgetMapId\u001b[49m\u001b[43m(\u001b[49m\u001b[43mrequest\u001b[49m\u001b[43m)\u001b[49m\n\u001b[1;32m    131\u001b[0m response[\u001b[38;5;124m'\u001b[39m\u001b[38;5;124mimage\u001b[39m\u001b[38;5;124m'\u001b[39m] \u001b[38;5;241m=\u001b[39m \u001b[38;5;28mself\u001b[39m\n\u001b[1;32m    132\u001b[0m \u001b[38;5;28;01mreturn\u001b[39;00m response\n",
      "File \u001b[0;32m~/opt/miniconda3/envs/geo/lib/python3.9/site-packages/ee/data.py:567\u001b[0m, in \u001b[0;36mgetMapId\u001b[0;34m(params)\u001b[0m\n\u001b[1;32m    564\u001b[0m   request[\u001b[38;5;124m'\u001b[39m\u001b[38;5;124mvisualizationOptions\u001b[39m\u001b[38;5;124m'\u001b[39m] \u001b[38;5;241m=\u001b[39m visualizationOptions\n\u001b[1;32m    565\u001b[0m \u001b[38;5;66;03m# Make it return only the name field, as otherwise it echoes the entire\u001b[39;00m\n\u001b[1;32m    566\u001b[0m \u001b[38;5;66;03m# request, which might be large.\u001b[39;00m\n\u001b[0;32m--> 567\u001b[0m result \u001b[38;5;241m=\u001b[39m \u001b[43m_execute_cloud_call\u001b[49m\u001b[43m(\u001b[49m\n\u001b[1;32m    568\u001b[0m \u001b[43m    \u001b[49m\u001b[43m_get_cloud_api_resource\u001b[49m\u001b[43m(\u001b[49m\u001b[43m)\u001b[49m\u001b[38;5;241;43m.\u001b[39;49m\u001b[43mprojects\u001b[49m\u001b[43m(\u001b[49m\u001b[43m)\u001b[49m\u001b[38;5;241;43m.\u001b[39;49m\u001b[43mmaps\u001b[49m\u001b[43m(\u001b[49m\u001b[43m)\u001b[49m\u001b[38;5;241;43m.\u001b[39;49m\u001b[43mcreate\u001b[49m\u001b[43m(\u001b[49m\n\u001b[1;32m    569\u001b[0m \u001b[43m        \u001b[49m\u001b[43mparent\u001b[49m\u001b[38;5;241;43m=\u001b[39;49m\u001b[43m_get_projects_path\u001b[49m\u001b[43m(\u001b[49m\u001b[43m)\u001b[49m\u001b[43m,\u001b[49m\u001b[43m \u001b[49m\u001b[43mfields\u001b[49m\u001b[38;5;241;43m=\u001b[39;49m\u001b[38;5;124;43m'\u001b[39;49m\u001b[38;5;124;43mname\u001b[39;49m\u001b[38;5;124;43m'\u001b[39;49m\u001b[43m,\u001b[49m\u001b[43m \u001b[49m\u001b[43mbody\u001b[49m\u001b[38;5;241;43m=\u001b[39;49m\u001b[43mrequest\u001b[49m\u001b[43m)\u001b[49m\u001b[43m)\u001b[49m\n\u001b[1;32m    570\u001b[0m map_name \u001b[38;5;241m=\u001b[39m result[\u001b[38;5;124m'\u001b[39m\u001b[38;5;124mname\u001b[39m\u001b[38;5;124m'\u001b[39m]\n\u001b[1;32m    571\u001b[0m url_format \u001b[38;5;241m=\u001b[39m \u001b[38;5;124m'\u001b[39m\u001b[38;5;132;01m%s\u001b[39;00m\u001b[38;5;124m/\u001b[39m\u001b[38;5;132;01m%s\u001b[39;00m\u001b[38;5;124m/\u001b[39m\u001b[38;5;132;01m%s\u001b[39;00m\u001b[38;5;124m/tiles/\u001b[39m\u001b[38;5;132;01m{z}\u001b[39;00m\u001b[38;5;124m/\u001b[39m\u001b[38;5;132;01m{x}\u001b[39;00m\u001b[38;5;124m/\u001b[39m\u001b[38;5;132;01m{y}\u001b[39;00m\u001b[38;5;124m'\u001b[39m \u001b[38;5;241m%\u001b[39m (\n\u001b[1;32m    572\u001b[0m     _tile_base_url, _cloud_api_utils\u001b[38;5;241m.\u001b[39mVERSION, map_name)\n",
      "File \u001b[0;32m~/opt/miniconda3/envs/geo/lib/python3.9/site-packages/ee/data.py:330\u001b[0m, in \u001b[0;36m_execute_cloud_call\u001b[0;34m(call, num_retries)\u001b[0m\n\u001b[1;32m    328\u001b[0m   \u001b[38;5;28;01mreturn\u001b[39;00m call\u001b[38;5;241m.\u001b[39mexecute(num_retries\u001b[38;5;241m=\u001b[39mnum_retries)\n\u001b[1;32m    329\u001b[0m \u001b[38;5;28;01mexcept\u001b[39;00m googleapiclient\u001b[38;5;241m.\u001b[39merrors\u001b[38;5;241m.\u001b[39mHttpError \u001b[38;5;28;01mas\u001b[39;00m e:\n\u001b[0;32m--> 330\u001b[0m   \u001b[38;5;28;01mraise\u001b[39;00m _translate_cloud_exception(e)\n",
      "\u001b[0;31mEEException\u001b[0m: Image.select: Pattern 'ST_B.*' did not match any bands."
     ]
    }
   ],
   "source": [
    "Map.addLayer(dataset, vis_natural, 'True color (432)')\n",
    "Map.addLayer(dataset, vis_nir, 'Color infrared (543)')\n",
    "Map"
   ]
  },
  {
   "cell_type": "code",
   "execution_count": 15,
   "id": "2b0a931f",
   "metadata": {},
   "outputs": [
    {
     "data": {
      "application/vnd.jupyter.widget-view+json": {
       "model_id": "2c7271d70fd04e82bbd12438d9a2710c",
       "version_major": 2,
       "version_minor": 0
      },
      "text/plain": [
       "Map(center=[-2.163106, -55.126648], controls=(WidgetControl(options=['position', 'transparent_bg'], widget=HBo…"
      ]
     },
     "metadata": {},
     "output_type": "display_data"
    }
   ],
   "source": [
    "Map = geemap.Map(center =(-2.163106, -55.126648), zoom=10)\n",
    "Map.basemap()\n",
    "Map"
   ]
  },
  {
   "cell_type": "code",
   "execution_count": 16,
   "id": "1216695f",
   "metadata": {},
   "outputs": [
    {
     "data": {
      "application/vnd.jupyter.widget-view+json": {
       "model_id": "2c7271d70fd04e82bbd12438d9a2710c",
       "version_major": 2,
       "version_minor": 0
      },
      "text/plain": [
       "Map(bottom=132948.0, center=[34.052235, -118.243683], controls=(WidgetControl(options=['position', 'transparen…"
      ]
     },
     "metadata": {},
     "output_type": "display_data"
    }
   ],
   "source": [
    "Map.setCenter(lon=-118.243683, lat=34.052235, zoom=10)\n",
    "Map.basemap_demo()\n",
    "Map"
   ]
  },
  {
   "cell_type": "code",
   "execution_count": 17,
   "id": "6f1ef574",
   "metadata": {},
   "outputs": [
    {
     "data": {
      "application/vnd.jupyter.widget-view+json": {
       "model_id": "7ea1641314134c5bacc2f9ce7139e874",
       "version_major": 2,
       "version_minor": 0
      },
      "text/plain": [
       "Map(center=[20, 0], controls=(WidgetControl(options=['position', 'transparent_bg'], widget=HBox(children=(Togg…"
      ]
     },
     "metadata": {},
     "output_type": "display_data"
    }
   ],
   "source": [
    "Map = geemap.Map()   \n",
    "Map"
   ]
  },
  {
   "cell_type": "code",
   "execution_count": 18,
   "id": "538f8ec9",
   "metadata": {},
   "outputs": [
    {
     "name": "stdout",
     "output_type": "stream",
     "text": [
      "Products: ee.List({\n",
      "  \"functionInvocationValue\": {\n",
      "    \"functionName\": \"AggregateFeatureCollection.array\",\n",
      "    \"arguments\": {\n",
      "      \"collection\": {\n",
      "        \"functionInvocationValue\": {\n",
      "          \"functionName\": \"ImageCollection.load\",\n",
      "          \"arguments\": {\n",
      "            \"id\": {\n",
      "              \"constantValue\": \"USGS/NLCD_RELEASES/2019_REL/NLCD\"\n",
      "            }\n",
      "          }\n",
      "        }\n",
      "      },\n",
      "      \"property\": {\n",
      "        \"constantValue\": \"system:index\"\n",
      "      }\n",
      "    }\n",
      "  }\n",
      "})\n",
      "Bands: ee.List({\n",
      "  \"functionInvocationValue\": {\n",
      "    \"functionName\": \"Image.bandNames\",\n",
      "    \"arguments\": {\n",
      "      \"image\": {\n",
      "        \"functionInvocationValue\": {\n",
      "          \"functionName\": \"Collection.first\",\n",
      "          \"arguments\": {\n",
      "            \"collection\": {\n",
      "              \"functionInvocationValue\": {\n",
      "                \"functionName\": \"Collection.filter\",\n",
      "                \"arguments\": {\n",
      "                  \"collection\": {\n",
      "                    \"functionInvocationValue\": {\n",
      "                      \"functionName\": \"ImageCollection.load\",\n",
      "                      \"arguments\": {\n",
      "                        \"id\": {\n",
      "                          \"constantValue\": \"USGS/NLCD_RELEASES/2019_REL/NLCD\"\n",
      "                        }\n",
      "                      }\n",
      "                    }\n",
      "                  },\n",
      "                  \"filter\": {\n",
      "                    \"functionInvocationValue\": {\n",
      "                      \"functionName\": \"Filter.equals\",\n",
      "                      \"arguments\": {\n",
      "                        \"leftField\": {\n",
      "                          \"constantValue\": \"system:index\"\n",
      "                        },\n",
      "                        \"rightValue\": {\n",
      "                          \"constantValue\": \"2019\"\n",
      "                        }\n",
      "                      }\n",
      "                    }\n",
      "                  }\n",
      "                }\n",
      "              }\n",
      "            }\n",
      "          }\n",
      "        }\n",
      "      }\n",
      "    }\n",
      "  }\n",
      "})\n"
     ]
    }
   ],
   "source": [
    "# Import the NLCD collection.\n",
    "dataset = ee.ImageCollection('USGS/NLCD_RELEASES/2019_REL/NLCD')\n",
    "\n",
    "# The collection contains images for multiple years and regions in the USA.\n",
    "print('Products:', dataset.aggregate_array('system:index'))\n",
    "\n",
    "# Filter the collection to the 2016 product.\n",
    "nlcd2019 = dataset.filter(ee.Filter.eq('system:index', '2019')).first()\n",
    "\n",
    "# Each product has multiple bands for describing aspects of land cover.\n",
    "print('Bands:', nlcd2019.bandNames())\n",
    "\n",
    "# Select the land cover band.\n",
    "landcover = nlcd2019.select('landcover')\n",
    "\n",
    "# Display land cover on the map.\n",
    "Map.setCenter(-95, 38, 5)\n",
    "Map.addLayer(landcover, {}, 'Landcover')"
   ]
  },
  {
   "cell_type": "code",
   "execution_count": 19,
   "id": "df1021a1",
   "metadata": {},
   "outputs": [],
   "source": [
    "Map.search_locations"
   ]
  },
  {
   "cell_type": "code",
   "execution_count": 20,
   "id": "c831a31e",
   "metadata": {},
   "outputs": [],
   "source": [
    "Map.search_loc_geom"
   ]
  },
  {
   "cell_type": "code",
   "execution_count": 21,
   "id": "269959b5",
   "metadata": {},
   "outputs": [
    {
     "name": "stdout",
     "output_type": "stream",
     "text": [
      "Requirement already satisfied: leafmap in ./opt/miniconda3/envs/geo/lib/python3.9/site-packages (0.9.4)\n",
      "Requirement already satisfied: pycrs in ./opt/miniconda3/envs/geo/lib/python3.9/site-packages (from leafmap) (1.0.2)\n",
      "Requirement already satisfied: pandas in ./opt/miniconda3/envs/geo/lib/python3.9/site-packages (from leafmap) (1.4.2)\n",
      "Requirement already satisfied: colour in ./opt/miniconda3/envs/geo/lib/python3.9/site-packages (from leafmap) (0.1.5)\n",
      "Requirement already satisfied: gdown in ./opt/miniconda3/envs/geo/lib/python3.9/site-packages (from leafmap) (4.4.0)\n",
      "Requirement already satisfied: whiteboxgui>=0.6.0 in ./opt/miniconda3/envs/geo/lib/python3.9/site-packages (from leafmap) (0.7.0)\n",
      "Requirement already satisfied: ipysheet in ./opt/miniconda3/envs/geo/lib/python3.9/site-packages (from leafmap) (0.5.0)\n",
      "Requirement already satisfied: mapclassify>=2.4.0 in ./opt/miniconda3/envs/geo/lib/python3.9/site-packages (from leafmap) (2.4.3)\n",
      "Requirement already satisfied: bqplot in ./opt/miniconda3/envs/geo/lib/python3.9/site-packages (from leafmap) (0.12.33)\n",
      "Requirement already satisfied: jupyterlab>=3.0.0 in ./opt/miniconda3/envs/geo/lib/python3.9/site-packages (from leafmap) (3.4.3)\n",
      "Requirement already satisfied: ipyfilechooser>=0.6.0 in ./opt/miniconda3/envs/geo/lib/python3.9/site-packages (from leafmap) (0.6.0)\n",
      "Requirement already satisfied: matplotlib in ./opt/miniconda3/envs/geo/lib/python3.9/site-packages (from leafmap) (3.5.2)\n",
      "Requirement already satisfied: ipyleaflet in ./opt/miniconda3/envs/geo/lib/python3.9/site-packages (from leafmap) (0.16.0)\n",
      "Requirement already satisfied: folium>=0.11.0 in ./opt/miniconda3/envs/geo/lib/python3.9/site-packages (from leafmap) (0.12.1.post1)\n",
      "Requirement already satisfied: numpy in ./opt/miniconda3/envs/geo/lib/python3.9/site-packages (from leafmap) (1.22.4)\n",
      "Requirement already satisfied: pystac-client in ./opt/miniconda3/envs/geo/lib/python3.9/site-packages (from leafmap) (0.4.0)\n",
      "Requirement already satisfied: python-box in ./opt/miniconda3/envs/geo/lib/python3.9/site-packages (from leafmap) (6.0.2)\n",
      "Requirement already satisfied: xyzservices in ./opt/miniconda3/envs/geo/lib/python3.9/site-packages (from leafmap) (2022.4.0)\n",
      "Requirement already satisfied: pyshp>=2.1.3 in ./opt/miniconda3/envs/geo/lib/python3.9/site-packages (from leafmap) (2.3.0)\n",
      "Requirement already satisfied: ipyevents in ./opt/miniconda3/envs/geo/lib/python3.9/site-packages (from leafmap) (2.0.1)\n",
      "Requirement already satisfied: geojson in ./opt/miniconda3/envs/geo/lib/python3.9/site-packages (from leafmap) (2.5.0)\n",
      "Requirement already satisfied: branca>=0.3.0 in ./opt/miniconda3/envs/geo/lib/python3.9/site-packages (from folium>=0.11.0->leafmap) (0.4.2)\n",
      "Requirement already satisfied: jinja2>=2.9 in ./opt/miniconda3/envs/geo/lib/python3.9/site-packages (from folium>=0.11.0->leafmap) (3.0.3)\n",
      "Requirement already satisfied: requests in ./opt/miniconda3/envs/geo/lib/python3.9/site-packages (from folium>=0.11.0->leafmap) (2.28.0)\n",
      "Requirement already satisfied: ipywidgets in ./opt/miniconda3/envs/geo/lib/python3.9/site-packages (from ipyfilechooser>=0.6.0->leafmap) (7.7.0)\n",
      "Requirement already satisfied: nbclassic~=0.2 in ./opt/miniconda3/envs/geo/lib/python3.9/site-packages (from jupyterlab>=3.0.0->leafmap) (0.3.7)\n",
      "Requirement already satisfied: ipython in ./opt/miniconda3/envs/geo/lib/python3.9/site-packages (from jupyterlab>=3.0.0->leafmap) (8.4.0)\n",
      "Requirement already satisfied: jupyter-core in ./opt/miniconda3/envs/geo/lib/python3.9/site-packages (from jupyterlab>=3.0.0->leafmap) (4.10.0)\n",
      "Requirement already satisfied: tornado>=6.1.0 in ./opt/miniconda3/envs/geo/lib/python3.9/site-packages (from jupyterlab>=3.0.0->leafmap) (6.1)\n",
      "Requirement already satisfied: packaging in ./opt/miniconda3/envs/geo/lib/python3.9/site-packages (from jupyterlab>=3.0.0->leafmap) (21.3)\n",
      "Requirement already satisfied: jupyterlab-server~=2.10 in ./opt/miniconda3/envs/geo/lib/python3.9/site-packages (from jupyterlab>=3.0.0->leafmap) (2.14.0)\n",
      "Requirement already satisfied: jupyter-server~=1.16 in ./opt/miniconda3/envs/geo/lib/python3.9/site-packages (from jupyterlab>=3.0.0->leafmap) (1.17.1)\n",
      "Requirement already satisfied: scipy>=1.0 in ./opt/miniconda3/envs/geo/lib/python3.9/site-packages (from mapclassify>=2.4.0->leafmap) (1.8.1)\n",
      "Requirement already satisfied: scikit-learn in ./opt/miniconda3/envs/geo/lib/python3.9/site-packages (from mapclassify>=2.4.0->leafmap) (1.1.1)\n",
      "Requirement already satisfied: networkx in ./opt/miniconda3/envs/geo/lib/python3.9/site-packages (from mapclassify>=2.4.0->leafmap) (2.8.4)\n",
      "Requirement already satisfied: python-dateutil>=2.8.1 in ./opt/miniconda3/envs/geo/lib/python3.9/site-packages (from pandas->leafmap) (2.8.2)\n",
      "Requirement already satisfied: pytz>=2020.1 in ./opt/miniconda3/envs/geo/lib/python3.9/site-packages (from pandas->leafmap) (2022.1)\n",
      "Requirement already satisfied: ipytree in ./opt/miniconda3/envs/geo/lib/python3.9/site-packages (from whiteboxgui>=0.6.0->leafmap) (0.2.1)\n",
      "Requirement already satisfied: whitebox in ./opt/miniconda3/envs/geo/lib/python3.9/site-packages (from whiteboxgui>=0.6.0->leafmap) (2.1.2)\n",
      "Requirement already satisfied: traitlets>=4.3.0 in ./opt/miniconda3/envs/geo/lib/python3.9/site-packages (from bqplot->leafmap) (5.3.0)\n",
      "Requirement already satisfied: traittypes>=0.0.6 in ./opt/miniconda3/envs/geo/lib/python3.9/site-packages (from bqplot->leafmap) (0.2.1)\n",
      "Requirement already satisfied: six in ./opt/miniconda3/envs/geo/lib/python3.9/site-packages (from gdown->leafmap) (1.16.0)\n",
      "Requirement already satisfied: filelock in ./opt/miniconda3/envs/geo/lib/python3.9/site-packages (from gdown->leafmap) (3.7.1)\n",
      "Requirement already satisfied: tqdm in ./opt/miniconda3/envs/geo/lib/python3.9/site-packages (from gdown->leafmap) (4.64.0)\n",
      "Requirement already satisfied: beautifulsoup4 in ./opt/miniconda3/envs/geo/lib/python3.9/site-packages (from gdown->leafmap) (4.11.1)\n",
      "Requirement already satisfied: cycler>=0.10 in ./opt/miniconda3/envs/geo/lib/python3.9/site-packages (from matplotlib->leafmap) (0.11.0)\n",
      "Requirement already satisfied: kiwisolver>=1.0.1 in ./opt/miniconda3/envs/geo/lib/python3.9/site-packages (from matplotlib->leafmap) (1.4.3)\n",
      "Requirement already satisfied: pillow>=6.2.0 in ./opt/miniconda3/envs/geo/lib/python3.9/site-packages (from matplotlib->leafmap) (9.1.1)\n",
      "Requirement already satisfied: fonttools>=4.22.0 in ./opt/miniconda3/envs/geo/lib/python3.9/site-packages (from matplotlib->leafmap) (4.33.3)\n",
      "Requirement already satisfied: pyparsing>=2.2.1 in ./opt/miniconda3/envs/geo/lib/python3.9/site-packages (from matplotlib->leafmap) (3.0.9)\n",
      "Requirement already satisfied: pystac>=1.4.0 in ./opt/miniconda3/envs/geo/lib/python3.9/site-packages (from pystac-client->leafmap) (1.4.0)\n",
      "Requirement already satisfied: ipython-genutils~=0.2.0 in ./opt/miniconda3/envs/geo/lib/python3.9/site-packages (from ipywidgets->ipyfilechooser>=0.6.0->leafmap) (0.2.0)\n",
      "Requirement already satisfied: widgetsnbextension~=3.6.0 in ./opt/miniconda3/envs/geo/lib/python3.9/site-packages (from ipywidgets->ipyfilechooser>=0.6.0->leafmap) (3.6.0)\n",
      "Requirement already satisfied: jupyterlab-widgets>=1.0.0 in ./opt/miniconda3/envs/geo/lib/python3.9/site-packages (from ipywidgets->ipyfilechooser>=0.6.0->leafmap) (1.1.0)\n",
      "Requirement already satisfied: ipykernel>=4.5.1 in ./opt/miniconda3/envs/geo/lib/python3.9/site-packages (from ipywidgets->ipyfilechooser>=0.6.0->leafmap) (6.15.0)\n",
      "Requirement already satisfied: nbformat>=4.2.0 in ./opt/miniconda3/envs/geo/lib/python3.9/site-packages (from ipywidgets->ipyfilechooser>=0.6.0->leafmap) (5.4.0)\n",
      "Requirement already satisfied: prompt-toolkit!=3.0.0,!=3.0.1,<3.1.0,>=2.0.0 in ./opt/miniconda3/envs/geo/lib/python3.9/site-packages (from ipython->jupyterlab>=3.0.0->leafmap) (3.0.29)\n",
      "Requirement already satisfied: pickleshare in ./opt/miniconda3/envs/geo/lib/python3.9/site-packages (from ipython->jupyterlab>=3.0.0->leafmap) (0.7.5)\n",
      "Requirement already satisfied: matplotlib-inline in ./opt/miniconda3/envs/geo/lib/python3.9/site-packages (from ipython->jupyterlab>=3.0.0->leafmap) (0.1.3)\n",
      "Requirement already satisfied: stack-data in ./opt/miniconda3/envs/geo/lib/python3.9/site-packages (from ipython->jupyterlab>=3.0.0->leafmap) (0.3.0)\n",
      "Requirement already satisfied: appnope in ./opt/miniconda3/envs/geo/lib/python3.9/site-packages (from ipython->jupyterlab>=3.0.0->leafmap) (0.1.3)\n",
      "Requirement already satisfied: decorator in ./opt/miniconda3/envs/geo/lib/python3.9/site-packages (from ipython->jupyterlab>=3.0.0->leafmap) (5.1.1)\n",
      "Requirement already satisfied: pygments>=2.4.0 in ./opt/miniconda3/envs/geo/lib/python3.9/site-packages (from ipython->jupyterlab>=3.0.0->leafmap) (2.12.0)\n",
      "Requirement already satisfied: backcall in ./opt/miniconda3/envs/geo/lib/python3.9/site-packages (from ipython->jupyterlab>=3.0.0->leafmap) (0.2.0)\n",
      "Requirement already satisfied: pexpect>4.3 in ./opt/miniconda3/envs/geo/lib/python3.9/site-packages (from ipython->jupyterlab>=3.0.0->leafmap) (4.8.0)\n",
      "Requirement already satisfied: setuptools>=18.5 in ./opt/miniconda3/envs/geo/lib/python3.9/site-packages (from ipython->jupyterlab>=3.0.0->leafmap) (62.3.4)\n",
      "Requirement already satisfied: jedi>=0.16 in ./opt/miniconda3/envs/geo/lib/python3.9/site-packages (from ipython->jupyterlab>=3.0.0->leafmap) (0.18.1)\n",
      "Requirement already satisfied: MarkupSafe>=2.0 in ./opt/miniconda3/envs/geo/lib/python3.9/site-packages (from jinja2>=2.9->folium>=0.11.0->leafmap) (2.1.1)\n",
      "Requirement already satisfied: pyzmq>=17 in ./opt/miniconda3/envs/geo/lib/python3.9/site-packages (from jupyter-server~=1.16->jupyterlab>=3.0.0->leafmap) (23.1.0)\n",
      "Requirement already satisfied: nbconvert>=6.4.4 in ./opt/miniconda3/envs/geo/lib/python3.9/site-packages (from jupyter-server~=1.16->jupyterlab>=3.0.0->leafmap) (6.5.0)\n",
      "Requirement already satisfied: argon2-cffi in ./opt/miniconda3/envs/geo/lib/python3.9/site-packages (from jupyter-server~=1.16->jupyterlab>=3.0.0->leafmap) (21.1.0)\n",
      "Requirement already satisfied: jupyter-client>=6.1.12 in ./opt/miniconda3/envs/geo/lib/python3.9/site-packages (from jupyter-server~=1.16->jupyterlab>=3.0.0->leafmap) (7.3.4)\n",
      "Requirement already satisfied: anyio<4,>=3.1.0 in ./opt/miniconda3/envs/geo/lib/python3.9/site-packages (from jupyter-server~=1.16->jupyterlab>=3.0.0->leafmap) (3.6.1)\n",
      "Requirement already satisfied: Send2Trash in ./opt/miniconda3/envs/geo/lib/python3.9/site-packages (from jupyter-server~=1.16->jupyterlab>=3.0.0->leafmap) (1.8.0)\n",
      "Requirement already satisfied: terminado>=0.8.3 in ./opt/miniconda3/envs/geo/lib/python3.9/site-packages (from jupyter-server~=1.16->jupyterlab>=3.0.0->leafmap) (0.15.0)\n",
      "Requirement already satisfied: websocket-client in ./opt/miniconda3/envs/geo/lib/python3.9/site-packages (from jupyter-server~=1.16->jupyterlab>=3.0.0->leafmap) (1.3.2)\n",
      "Requirement already satisfied: prometheus-client in ./opt/miniconda3/envs/geo/lib/python3.9/site-packages (from jupyter-server~=1.16->jupyterlab>=3.0.0->leafmap) (0.14.1)\n",
      "Requirement already satisfied: jsonschema>=3.0.1 in ./opt/miniconda3/envs/geo/lib/python3.9/site-packages (from jupyterlab-server~=2.10->jupyterlab>=3.0.0->leafmap) (4.6.0)\n",
      "Requirement already satisfied: babel in ./opt/miniconda3/envs/geo/lib/python3.9/site-packages (from jupyterlab-server~=2.10->jupyterlab>=3.0.0->leafmap) (2.10.3)\n",
      "Requirement already satisfied: json5 in ./opt/miniconda3/envs/geo/lib/python3.9/site-packages (from jupyterlab-server~=2.10->jupyterlab>=3.0.0->leafmap) (0.9.5)\n",
      "Requirement already satisfied: importlib-metadata>=3.6 in ./opt/miniconda3/envs/geo/lib/python3.9/site-packages (from jupyterlab-server~=2.10->jupyterlab>=3.0.0->leafmap) (4.11.4)\n",
      "Requirement already satisfied: notebook<7 in ./opt/miniconda3/envs/geo/lib/python3.9/site-packages (from nbclassic~=0.2->jupyterlab>=3.0.0->leafmap) (6.4.12)\n",
      "Requirement already satisfied: notebook-shim>=0.1.0 in ./opt/miniconda3/envs/geo/lib/python3.9/site-packages (from nbclassic~=0.2->jupyterlab>=3.0.0->leafmap) (0.1.0)\n",
      "Requirement already satisfied: idna<4,>=2.5 in ./opt/miniconda3/envs/geo/lib/python3.9/site-packages (from requests->folium>=0.11.0->leafmap) (3.3)\n",
      "Requirement already satisfied: certifi>=2017.4.17 in ./opt/miniconda3/envs/geo/lib/python3.9/site-packages (from requests->folium>=0.11.0->leafmap) (2022.6.15)\n",
      "Requirement already satisfied: charset-normalizer~=2.0.0 in ./opt/miniconda3/envs/geo/lib/python3.9/site-packages (from requests->folium>=0.11.0->leafmap) (2.0.12)\n",
      "Requirement already satisfied: urllib3<1.27,>=1.21.1 in ./opt/miniconda3/envs/geo/lib/python3.9/site-packages (from requests->folium>=0.11.0->leafmap) (1.26.9)\n",
      "Requirement already satisfied: soupsieve>1.2 in ./opt/miniconda3/envs/geo/lib/python3.9/site-packages (from beautifulsoup4->gdown->leafmap) (2.3.1)\n",
      "Requirement already satisfied: PySocks!=1.5.7,>=1.5.6 in ./opt/miniconda3/envs/geo/lib/python3.9/site-packages (from requests->folium>=0.11.0->leafmap) (1.7.1)\n",
      "Requirement already satisfied: threadpoolctl>=2.0.0 in ./opt/miniconda3/envs/geo/lib/python3.9/site-packages (from scikit-learn->mapclassify>=2.4.0->leafmap) (3.1.0)\n",
      "Requirement already satisfied: joblib>=1.0.0 in ./opt/miniconda3/envs/geo/lib/python3.9/site-packages (from scikit-learn->mapclassify>=2.4.0->leafmap) (1.1.0)\n",
      "Requirement already satisfied: Click>=6.0 in ./opt/miniconda3/envs/geo/lib/python3.9/site-packages (from whitebox->whiteboxgui>=0.6.0->leafmap) (8.1.3)\n",
      "Requirement already satisfied: sniffio>=1.1 in ./opt/miniconda3/envs/geo/lib/python3.9/site-packages (from anyio<4,>=3.1.0->jupyter-server~=1.16->jupyterlab>=3.0.0->leafmap) (1.2.0)\n",
      "Requirement already satisfied: zipp>=0.5 in ./opt/miniconda3/envs/geo/lib/python3.9/site-packages (from importlib-metadata>=3.6->jupyterlab-server~=2.10->jupyterlab>=3.0.0->leafmap) (3.8.0)\n",
      "Requirement already satisfied: debugpy>=1.0 in ./opt/miniconda3/envs/geo/lib/python3.9/site-packages (from ipykernel>=4.5.1->ipywidgets->ipyfilechooser>=0.6.0->leafmap) (1.6.0)\n",
      "Requirement already satisfied: psutil in ./opt/miniconda3/envs/geo/lib/python3.9/site-packages (from ipykernel>=4.5.1->ipywidgets->ipyfilechooser>=0.6.0->leafmap) (5.9.1)\n",
      "Requirement already satisfied: nest-asyncio in ./opt/miniconda3/envs/geo/lib/python3.9/site-packages (from ipykernel>=4.5.1->ipywidgets->ipyfilechooser>=0.6.0->leafmap) (1.5.5)\n",
      "Requirement already satisfied: parso<0.9.0,>=0.8.0 in ./opt/miniconda3/envs/geo/lib/python3.9/site-packages (from jedi>=0.16->ipython->jupyterlab>=3.0.0->leafmap) (0.8.3)\n",
      "Requirement already satisfied: pyrsistent!=0.17.0,!=0.17.1,!=0.17.2,>=0.14.0 in ./opt/miniconda3/envs/geo/lib/python3.9/site-packages (from jsonschema>=3.0.1->jupyterlab-server~=2.10->jupyterlab>=3.0.0->leafmap) (0.18.1)\n",
      "Requirement already satisfied: attrs>=17.4.0 in ./opt/miniconda3/envs/geo/lib/python3.9/site-packages (from jsonschema>=3.0.1->jupyterlab-server~=2.10->jupyterlab>=3.0.0->leafmap) (21.4.0)\n",
      "Requirement already satisfied: entrypoints in ./opt/miniconda3/envs/geo/lib/python3.9/site-packages (from jupyter-client>=6.1.12->jupyter-server~=1.16->jupyterlab>=3.0.0->leafmap) (0.4)\n",
      "Requirement already satisfied: tinycss2 in ./opt/miniconda3/envs/geo/lib/python3.9/site-packages (from nbconvert>=6.4.4->jupyter-server~=1.16->jupyterlab>=3.0.0->leafmap) (1.1.1)\n",
      "Requirement already satisfied: mistune<2,>=0.8.1 in ./opt/miniconda3/envs/geo/lib/python3.9/site-packages (from nbconvert>=6.4.4->jupyter-server~=1.16->jupyterlab>=3.0.0->leafmap) (0.8.4)\n",
      "Requirement already satisfied: defusedxml in ./opt/miniconda3/envs/geo/lib/python3.9/site-packages (from nbconvert>=6.4.4->jupyter-server~=1.16->jupyterlab>=3.0.0->leafmap) (0.7.1)\n",
      "Requirement already satisfied: pandocfilters>=1.4.1 in ./opt/miniconda3/envs/geo/lib/python3.9/site-packages (from nbconvert>=6.4.4->jupyter-server~=1.16->jupyterlab>=3.0.0->leafmap) (1.5.0)\n",
      "Requirement already satisfied: jupyterlab-pygments in ./opt/miniconda3/envs/geo/lib/python3.9/site-packages (from nbconvert>=6.4.4->jupyter-server~=1.16->jupyterlab>=3.0.0->leafmap) (0.2.2)\n",
      "Requirement already satisfied: nbclient>=0.5.0 in ./opt/miniconda3/envs/geo/lib/python3.9/site-packages (from nbconvert>=6.4.4->jupyter-server~=1.16->jupyterlab>=3.0.0->leafmap) (0.5.13)\n",
      "Requirement already satisfied: bleach in ./opt/miniconda3/envs/geo/lib/python3.9/site-packages (from nbconvert>=6.4.4->jupyter-server~=1.16->jupyterlab>=3.0.0->leafmap) (5.0.0)\n",
      "Requirement already satisfied: fastjsonschema in ./opt/miniconda3/envs/geo/lib/python3.9/site-packages (from nbformat>=4.2.0->ipywidgets->ipyfilechooser>=0.6.0->leafmap) (2.15.3)\n",
      "Requirement already satisfied: ptyprocess>=0.5 in ./opt/miniconda3/envs/geo/lib/python3.9/site-packages (from pexpect>4.3->ipython->jupyterlab>=3.0.0->leafmap) (0.7.0)\n",
      "Requirement already satisfied: wcwidth in ./opt/miniconda3/envs/geo/lib/python3.9/site-packages (from prompt-toolkit!=3.0.0,!=3.0.1,<3.1.0,>=2.0.0->ipython->jupyterlab>=3.0.0->leafmap) (0.2.5)\n",
      "Requirement already satisfied: cffi>=1.0.0 in ./opt/miniconda3/envs/geo/lib/python3.9/site-packages (from argon2-cffi->jupyter-server~=1.16->jupyterlab>=3.0.0->leafmap) (1.15.0)\n",
      "Requirement already satisfied: executing in ./opt/miniconda3/envs/geo/lib/python3.9/site-packages (from stack-data->ipython->jupyterlab>=3.0.0->leafmap) (0.8.3)\n",
      "Requirement already satisfied: asttokens in ./opt/miniconda3/envs/geo/lib/python3.9/site-packages (from stack-data->ipython->jupyterlab>=3.0.0->leafmap) (2.0.5)\n",
      "Requirement already satisfied: pure-eval in ./opt/miniconda3/envs/geo/lib/python3.9/site-packages (from stack-data->ipython->jupyterlab>=3.0.0->leafmap) (0.2.2)\n",
      "Requirement already satisfied: pycparser in ./opt/miniconda3/envs/geo/lib/python3.9/site-packages (from cffi>=1.0.0->argon2-cffi->jupyter-server~=1.16->jupyterlab>=3.0.0->leafmap) (2.21)\n",
      "Requirement already satisfied: webencodings in ./opt/miniconda3/envs/geo/lib/python3.9/site-packages (from bleach->nbconvert>=6.4.4->jupyter-server~=1.16->jupyterlab>=3.0.0->leafmap) (0.5.1)\n"
     ]
    }
   ],
   "source": [
    "!pip install -U leafmap "
   ]
  },
  {
   "cell_type": "markdown",
   "id": "e3c55b4f",
   "metadata": {},
   "source": [
    "Exploring Census Data\n"
   ]
  },
  {
   "cell_type": "code",
   "execution_count": 22,
   "id": "e08ea145",
   "metadata": {},
   "outputs": [],
   "source": [
    "import leafmap"
   ]
  },
  {
   "cell_type": "code",
   "execution_count": 23,
   "id": "e40da758",
   "metadata": {},
   "outputs": [],
   "source": [
    "census_data_dict = leafmap.get_census_dict()"
   ]
  },
  {
   "cell_type": "code",
   "execution_count": 24,
   "id": "d0052eda",
   "metadata": {},
   "outputs": [
    {
     "name": "stdout",
     "output_type": "stream",
     "text": [
      "Current\n",
      "ACS 2021\n",
      "ACS 2019\n",
      "ACS 2018\n",
      "ACS 2017\n",
      "ACS 2016\n",
      "ACS 2015\n",
      "ACS 2014\n",
      "ACS 2013\n",
      "ACS 2012\n",
      "ECON 2012\n",
      "Census 2020\n",
      "Census 2010\n",
      "Physical Features\n",
      "Decennial Census 2020\n",
      "Decennial Census 2010\n",
      "Decennial Census 2000\n",
      "Decennial Physical Features\n"
     ]
    }
   ],
   "source": [
    "for key in census_data_dict:\n",
    "    print(key)"
   ]
  },
  {
   "cell_type": "code",
   "execution_count": 37,
   "id": "5c017c9b",
   "metadata": {},
   "outputs": [
    {
     "data": {
      "text/plain": [
       "['Alaska_Native_Regional_Corporations10465',\n",
       " 'Alaska_Native_Regional_Corporations_Labels60868',\n",
       " 'Alaska_Native_Village_Statistical_Areas34178',\n",
       " 'Alaska_Native_Village_Statistical_Areas_Labels14319',\n",
       " 'American_Indian_Joint-Use_Areas11842',\n",
       " 'American_Indian_Joint-Use_Areas_Labels32943',\n",
       " 'Census_Block_Groups59805',\n",
       " 'Census_Block_Groups_Labels32376',\n",
       " 'Census_Designated_Places65166',\n",
       " 'Census_Designated_Places_Labels61459',\n",
       " 'Census_Divisions8578',\n",
       " 'Census_Divisions_Labels29679',\n",
       " 'Census_Regions16659',\n",
       " 'Census_Regions_Labels31526',\n",
       " 'Census_Tracts7651',\n",
       " 'Census_Tracts_Labels33558',\n",
       " 'Combined_New_England_City_and_Town_Areas35117',\n",
       " 'Combined_New_England_City_and_Town_Areas_Labels20328',\n",
       " 'Combined_Statistical_Areas61231',\n",
       " 'Combined_Statistical_Areas_Labels52090',\n",
       " 'Consolidated_Cities65047',\n",
       " 'Consolidated_Cities_Labels30018',\n",
       " 'Counties',\n",
       " 'Counties_Labels19364',\n",
       " 'County_Subdivisions63689',\n",
       " 'County_Subdivisions_Labels25452',\n",
       " 'Elementary_School_Districts36200',\n",
       " 'Elementary_School_Districts_Labels21637',\n",
       " 'Estates',\n",
       " 'Estates_Labels15809',\n",
       " 'Federal_American_Indian_Reservations63680',\n",
       " 'Federal_American_Indian_Reservations_Labels65437',\n",
       " 'Hawaiian_Home_Lands45702',\n",
       " 'Hawaiian_Home_Lands_Labels15115',\n",
       " 'Incorporated_Places1469',\n",
       " 'Incorporated_Places_Labels58904',\n",
       " 'Metropolitan_Divisions40847',\n",
       " 'Metropolitan_Divisions_Labels25946',\n",
       " 'Metropolitan_New_England_City_and_Town_Areas62616',\n",
       " 'Metropolitan_New_England_City_and_Town_Areas_Labels59733',\n",
       " 'Metropolitan_Statistical_Areas62762',\n",
       " 'Metropolitan_Statistical_Areas_Labels6295',\n",
       " 'Micropolitan_New_England_City_and_Town_Areas31587',\n",
       " 'Micropolitan_New_England_City_and_Town_Areas_Labels33942',\n",
       " 'Micropolitan_Statistical_Areas31521',\n",
       " 'Micropolitan_Statistical_Areas_Labels772',\n",
       " 'New_England_City_and_Town_Area_Divisions60153',\n",
       " 'New_England_City_and_Town_Area__Divisions_Labels46148',\n",
       " 'Off-Reservation_Trust_Lands54343',\n",
       " 'Off-Reservation_Trust_Lands_Labels18066',\n",
       " 'Oklahoma_Tribal_Statistical_Areas50120',\n",
       " 'Oklahoma_Tribal_Statistical_Areas_Labels48357',\n",
       " 'Secondary_School_Districts43718',\n",
       " 'Secondary_School_Districts_Labels36427',\n",
       " 'State_American_Indian_Reservations3874',\n",
       " 'State_American_Indian_Reservations_Labels35471',\n",
       " 'State_Designated_Tribal_Statistical_Areas1347',\n",
       " 'State_Designated_Tribal_Statistical_Areas_Labels45558',\n",
       " 'States',\n",
       " 'States_Labels49388',\n",
       " 'Subbarrios',\n",
       " 'Subbarrios_Labels47498',\n",
       " 'Tribal_Block_Groups26640',\n",
       " 'Tribal_Block_Groups_Labels32973',\n",
       " 'Tribal_Census_Tracts2987',\n",
       " 'Tribal_Census_Tracts_Labels1374',\n",
       " 'Tribal_Designated_Statistical_Areas45836',\n",
       " 'Tribal_Designated_Statistical_Areas_Labels6465',\n",
       " 'Tribal_Subdivisions42483',\n",
       " 'Tribal_Subdivisions_Labels35078',\n",
       " 'Unified_School_Districts15496',\n",
       " 'Unified_School_Districts_Labels28837',\n",
       " '_018_State_Legislative_Districts_-_Lower20349',\n",
       " '_018_State_Legislative_Districts_-_Lower_Labels7384',\n",
       " '_018_State_Legislative_Districts_-_Upper25708',\n",
       " '_018_State_Legislative_Districts_-_Upper_Labels34849',\n",
       " '_020_Census_ZIP_Code_Tabulation_Areas7729',\n",
       " '_020_Census_ZIP_Code_Tabulation_Areas_Labels36212',\n",
       " '_16th_Congressional_Districts4189',\n",
       " '_16th_Congressional_Districts_Labels3128']"
      ]
     },
     "execution_count": 37,
     "metadata": {},
     "output_type": "execute_result"
    }
   ],
   "source": [
    "census_data_dict['ACS 2021']['layers']"
   ]
  },
  {
   "cell_type": "code",
   "execution_count": 48,
   "id": "e2e50651",
   "metadata": {
    "scrolled": true
   },
   "outputs": [
    {
     "data": {
      "application/vnd.jupyter.widget-view+json": {
       "model_id": "19bfa0cc2e2a49bab0d843a6e27f281b",
       "version_major": 2,
       "version_minor": 0
      },
      "text/plain": [
       "Map(center=[20, 0], controls=(ZoomControl(options=['position', 'zoom_in_text', 'zoom_in_title', 'zoom_out_text…"
      ]
     },
     "metadata": {},
     "output_type": "display_data"
    }
   ],
   "source": [
    "m = leafmap.Map()\n",
    "m.add_census_data(wms=\"Census 2020\", layer='States')\n",
    "m.add_census_data(wms=\"Census 2020\", layer=\"States_Labels49388\")\n",
    "m.add_census_data(wms=\"Census 2020\", layer =\"Tribal_Census_Tracts2987\")\n",
    "m"
   ]
  },
  {
   "cell_type": "markdown",
   "id": "875eac8c",
   "metadata": {},
   "source": [
    "You also have the option of selecting the icon visible when you click the tool in the upper right corner of dashboard. You can now load Census data without coding--just uncheck the box to replace existing census layer."
   ]
  },
  {
   "cell_type": "markdown",
   "id": "b1d1d482",
   "metadata": {},
   "source": [
    "Importing Earth Engine Image Collections"
   ]
  },
  {
   "cell_type": "code",
   "execution_count": 27,
   "id": "6e4c918c",
   "metadata": {},
   "outputs": [],
   "source": [
    "Map = geemap.Map(add_google_map = False)"
   ]
  },
  {
   "cell_type": "code",
   "execution_count": 52,
   "id": "931bbaa9",
   "metadata": {
    "scrolled": false
   },
   "outputs": [
    {
     "data": {
      "application/vnd.jupyter.widget-view+json": {
       "model_id": "97ec33e8acd94e628b8db8e71a4235ff",
       "version_major": 2,
       "version_minor": 0
      },
      "text/plain": [
       "Map(center=[20, 0], controls=(WidgetControl(options=['position', 'transparent_bg'], widget=HBox(children=(Togg…"
      ]
     },
     "metadata": {},
     "output_type": "display_data"
    }
   ],
   "source": [
    "Map = geemap.Map()\n",
    "Map.add_basemap('HYBRID')\n",
    "landcover = ee.ImageCollection('USGS/NLCD_RELEASES/2019_REL/NLCD').select('landcover')\n",
    "Map.addLayer(landcover, vis_params ={}, name=None, shown=True)\n",
    "Map.add_legend(builtin_legend='NLCD')\n",
    "Map\n"
   ]
  },
  {
   "cell_type": "code",
   "execution_count": 54,
   "id": "35587049",
   "metadata": {},
   "outputs": [
    {
     "data": {
      "application/vnd.jupyter.widget-view+json": {
       "model_id": "9cb56d8b82f84b01bc868e5405c77418",
       "version_major": 2,
       "version_minor": 0
      },
      "text/plain": [
       "Map(center=[20, 0], controls=(WidgetControl(options=['position', 'transparent_bg'], widget=HBox(children=(Togg…"
      ]
     },
     "metadata": {},
     "output_type": "display_data"
    }
   ],
   "source": [
    "Map = geemap.Map()\n",
    "Map.add_basemap('HYBRID')\n",
    "landcover = ee.Image('USGS/NLCD_RELEASES/2019_REL/NLCD').select('landcover')\n",
    "Map"
   ]
  },
  {
   "cell_type": "code",
   "execution_count": 55,
   "id": "9f241ab6",
   "metadata": {},
   "outputs": [
    {
     "data": {
      "application/vnd.jupyter.widget-view+json": {
       "model_id": "30825f8c59f04978b7772152990ed3c1",
       "version_major": 2,
       "version_minor": 0
      },
      "text/plain": [
       "Map(center=[20, 0], controls=(ZoomControl(options=['position', 'zoom_in_text', 'zoom_in_title', 'zoom_out_text…"
      ]
     },
     "metadata": {},
     "output_type": "display_data"
    }
   ],
   "source": [
    "Map = geemap.Map()\n",
    "Map.split_map(\n",
    "    left_layer='NLCD 2016 CONUS Land Cover', right_layer='NLCD 2019 CONUS Land Cover'\n",
    ")\n",
    "Map"
   ]
  },
  {
   "cell_type": "code",
   "execution_count": 56,
   "id": "d65540b9",
   "metadata": {},
   "outputs": [
    {
     "name": "stdout",
     "output_type": "stream",
     "text": [
      "['USGS/NLCD/NLCD1992', 'USGS/NLCD/NLCD2001', 'USGS/NLCD/NLCD2001_AK', 'USGS/NLCD/NLCD2001_HI', 'USGS/NLCD/NLCD2001_PR', 'USGS/NLCD/NLCD2004', 'USGS/NLCD/NLCD2006', 'USGS/NLCD/NLCD2008', 'USGS/NLCD/NLCD2011', 'USGS/NLCD/NLCD2011_AK', 'USGS/NLCD/NLCD2011_HI', 'USGS/NLCD/NLCD2011_PR', 'USGS/NLCD/NLCD2013', 'USGS/NLCD/NLCD2016']\n"
     ]
    }
   ],
   "source": [
    "collection = ee.ImageCollection(\"USGS/NLCD\")\n",
    "print(collection.aggregate_array('system:id').getInfo())"
   ]
  },
  {
   "cell_type": "code",
   "execution_count": 57,
   "id": "da98abdc",
   "metadata": {},
   "outputs": [
    {
     "name": "stdout",
     "output_type": "stream",
     "text": [
      "1407935\n"
     ]
    }
   ],
   "source": [
    "collection = ee.ImageCollection('LANDSAT/LC08/C02/T1_L2')\n",
    "print(collection.size().getInfo())"
   ]
  },
  {
   "cell_type": "code",
   "execution_count": 59,
   "id": "5b8a7747",
   "metadata": {},
   "outputs": [],
   "source": [
    "Map = geemap.Map()"
   ]
  },
  {
   "cell_type": "code",
   "execution_count": 60,
   "id": "93285542",
   "metadata": {},
   "outputs": [],
   "source": [
    "median = collection.median()"
   ]
  },
  {
   "cell_type": "code",
   "execution_count": 61,
   "id": "6f388cf6",
   "metadata": {},
   "outputs": [],
   "source": [
    "def apply_scale_factors(image):\n",
    "    opticalBands = image.select('SR_B.').multiply(0.0000275).add(-0.2)\n",
    "    thermalBands = image.select('ST_B.*').multiply(0.00341802).add(149.0)\n",
    "    return image.addBands(opticalBands, None, True).addBands(thermalBands, None, True)"
   ]
  },
  {
   "cell_type": "code",
   "execution_count": 62,
   "id": "ae1e3b57",
   "metadata": {},
   "outputs": [],
   "source": [
    "dataset = apply_scale_factors(median)"
   ]
  },
  {
   "cell_type": "code",
   "execution_count": 63,
   "id": "9b4eedbf",
   "metadata": {},
   "outputs": [],
   "source": [
    "vis_natural = {\n",
    "    'bands': ['SR_B4', 'SR_B3', 'SR_B2'],\n",
    "    'min': 0.0,\n",
    "    'max': 0.3,\n",
    "}\n",
    "\n",
    "vis_nir = {\n",
    "    'bands': ['SR_B5', 'SR_B4', 'SR_B3'],\n",
    "    'min': 0.0,\n",
    "    'max': 0.3,\n",
    "}"
   ]
  },
  {
   "cell_type": "code",
   "execution_count": 64,
   "id": "59522b07",
   "metadata": {},
   "outputs": [],
   "source": [
    "Map = geemap.Map()\n",
    "Map.add_basemap('HYBRID')\n",
    "landcover = ee.Image('LANDSAT/LC08/C02/T1_L2').select('landcover')"
   ]
  },
  {
   "cell_type": "code",
   "execution_count": 69,
   "id": "29df9ae9",
   "metadata": {
    "scrolled": true
   },
   "outputs": [
    {
     "data": {
      "application/vnd.jupyter.widget-view+json": {
       "model_id": "ced46206fe0c45c7a5aeddb7e281f751",
       "version_major": 2,
       "version_minor": 0
      },
      "text/plain": [
       "Map(bottom=754.0, center=[20, 0], controls=(WidgetControl(options=['position', 'transparent_bg'], widget=HBox(…"
      ]
     },
     "metadata": {},
     "output_type": "display_data"
    },
    {
     "data": {
      "application/javascript": [
       "\n",
       "        var code = IPython.notebook.insert_cell_below('code');\n",
       "        code.set_text(atob(\"dmlzX3BhcmFtcyA9IHsnYmFuZHMnOiBbJ1NSX0I0JywgJ1NSX0IzJywgJ1NSX0IyJ10sICdtaW4nOiAwLjAsICdtYXgnOiAwLjMsICdvcGFjaXR5JzogMS4wLCAnZ2FtbWEnOiAxLjB9\"));\n",
       "    "
      ],
      "text/plain": [
       "<IPython.core.display.Javascript object>"
      ]
     },
     "metadata": {},
     "output_type": "display_data"
    }
   ],
   "source": [
    "Map.addLayer(dataset, vis_natural, 'True color (432)')\n",
    "Map.addLayer(dataset, vis_nir, 'Color infrared (543)')\n",
    "Map"
   ]
  },
  {
   "cell_type": "code",
   "execution_count": 70,
   "id": "9df0da8a",
   "metadata": {},
   "outputs": [],
   "source": [
    "vis_params = {'bands': ['SR_B4', 'SR_B3', 'SR_B2'], 'min': 0.0, 'max': 0.3, 'opacity': 1.0, 'gamma': 1.0}"
   ]
  },
  {
   "cell_type": "code",
   "execution_count": 71,
   "id": "e1e4af70",
   "metadata": {},
   "outputs": [],
   "source": [
    "vis_params = [\n",
    "    {'bands': ['SR_B4', 'SR_B3', 'SR_B2'], 'min': 0, 'max': 0.3},\n",
    "    {'bands': ['SR_B5', 'SR_B4', 'SR_B3'], 'min': 0, 'max': 0.3},\n",
    "    {'bands': ['SR_B7', 'SR_B6', 'SR_B4'], 'min': 0, 'max': 0.3},\n",
    "    {'bands': ['SR_B6', 'SR_B5', 'SR_B2'], 'min': 0, 'max': 0.3},\n",
    "]"
   ]
  },
  {
   "cell_type": "code",
   "execution_count": 72,
   "id": "5e632c26",
   "metadata": {},
   "outputs": [],
   "source": [
    "labels = [\n",
    "    'Natural Color (4, 3, 2)',\n",
    "    'Color Infrared (5, 4, 3)',\n",
    "    'Short-Wave Infrared (7, 6 4)',\n",
    "    'Agriculture (6, 5, 2)',\n",
    "]"
   ]
  },
  {
   "cell_type": "code",
   "execution_count": 68,
   "id": "6debeb4d",
   "metadata": {},
   "outputs": [
    {
     "data": {
      "application/vnd.jupyter.widget-view+json": {
       "model_id": "030279e271f34a1f9a9f821b97a6f5c4",
       "version_major": 2,
       "version_minor": 0
      },
      "text/plain": [
       "GridspecLayout(children=(Output(layout=Layout(grid_area='widget001')), Output(layout=Layout(grid_area='widget0…"
      ]
     },
     "metadata": {},
     "output_type": "display_data"
    }
   ],
   "source": [
    "geemap.linked_maps(\n",
    "    rows=2,\n",
    "    cols=2,\n",
    "    height=\"400px\",\n",
    "    center=[-3.06, -60.01],\n",
    "    zoom=4,\n",
    "    ee_objects=[dataset],\n",
    "    vis_params=vis_params,\n",
    "    labels=labels,\n",
    "    label_position=\"topright\",\n",
    ")"
   ]
  },
  {
   "cell_type": "code",
   "execution_count": null,
   "id": "80b03bf5",
   "metadata": {},
   "outputs": [],
   "source": []
  }
 ],
 "metadata": {
  "hide_input": false,
  "kernelspec": {
   "display_name": "geo",
   "language": "python",
   "name": "geo"
  },
  "language_info": {
   "codemirror_mode": {
    "name": "ipython",
    "version": 3
   },
   "file_extension": ".py",
   "mimetype": "text/x-python",
   "name": "python",
   "nbconvert_exporter": "python",
   "pygments_lexer": "ipython3",
   "version": "3.9.13"
  },
  "toc": {
   "base_numbering": 1,
   "nav_menu": {},
   "number_sections": true,
   "sideBar": true,
   "skip_h1_title": false,
   "title_cell": "Table of Contents",
   "title_sidebar": "Contents",
   "toc_cell": false,
   "toc_position": {},
   "toc_section_display": true,
   "toc_window_display": false
  }
 },
 "nbformat": 4,
 "nbformat_minor": 5
}
